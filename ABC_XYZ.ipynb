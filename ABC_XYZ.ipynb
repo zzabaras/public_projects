{
 "cells": [
  {
   "cell_type": "markdown",
   "id": "4c8228e5",
   "metadata": {},
   "source": [
    "# ABC-XYZ аналіз \n"
   ]
  },
  {
   "cell_type": "markdown",
   "id": "f23bea33",
   "metadata": {},
   "source": [
    "### ABC - аналіз\n",
    "\n",
    "[x] Порахувати продажі по товарам  \n",
    "[x] Порахувати вклад кожного товару  \n",
    "[x] Порахувати суму продажів накопиченим підсумком  \n",
    "[x] Оприділити групу  \n",
    "\n",
    "### Динаміка\n",
    "\n",
    "[х] Оцінити структуру  \n",
    "[х] порахувати суму продажів за кожен день(місяц, квартал)  \n",
    "[х] порахувати динаміку   \n",
    "\n",
    "### XYZ - аналіз \n",
    "\n",
    "[х] Рахуємо продажі по дням з розбивкою по товарах  \n",
    "[х] Фільтруємо тільки ті товари, що продавались декілька днів  \n",
    "[х] Рахуємо коефіціент варіації  \n",
    "[х] Оприділяємо групу  "
   ]
  },
  {
   "cell_type": "code",
   "execution_count": 1,
   "id": "3cb3030f",
   "metadata": {},
   "outputs": [],
   "source": [
    "import pandas as pd \n",
    "import numpy as np\n",
    "import matplotlib.pyplot as plt\n",
    "import seaborn as sns\n"
   ]
  },
  {
   "cell_type": "markdown",
   "metadata": {},
   "source": [
    "Загрузимо дані і подивимось на них детальніше. "
   ]
  },
  {
   "cell_type": "code",
   "execution_count": 2,
   "id": "e9bc7e3c",
   "metadata": {},
   "outputs": [
    {
     "data": {
      "application/vnd.microsoft.datawrangler.viewer.v0+json": {
       "columns": [
        {
         "name": "index",
         "rawType": "int64",
         "type": "integer"
        },
        {
         "name": "order_date",
         "rawType": "object",
         "type": "string"
        },
        {
         "name": "order_id",
         "rawType": "int64",
         "type": "integer"
        },
        {
         "name": "product_id",
         "rawType": "int64",
         "type": "integer"
        },
        {
         "name": "unit_price",
         "rawType": "float64",
         "type": "float"
        },
        {
         "name": "discount",
         "rawType": "float64",
         "type": "float"
        },
        {
         "name": "quantity",
         "rawType": "int64",
         "type": "integer"
        },
        {
         "name": "product_name",
         "rawType": "object",
         "type": "string"
        },
        {
         "name": "supplier_id",
         "rawType": "int64",
         "type": "integer"
        },
        {
         "name": "category_id",
         "rawType": "int64",
         "type": "integer"
        },
        {
         "name": "discontinued",
         "rawType": "int64",
         "type": "integer"
        }
       ],
       "conversionMethod": "pd.DataFrame",
       "ref": "295d828e-3b58-4298-a47f-745c952820f8",
       "rows": [
        [
         "0",
         "1998-01-01",
         "10808",
         "56",
         "38.0",
         "0.15",
         "20",
         "Gnocchi di nonna Alice",
         "26",
         "5",
         "0"
        ],
        [
         "1",
         "1998-01-01",
         "10808",
         "76",
         "18.0",
         "0.15",
         "50",
         "Lakkalikööri",
         "23",
         "1",
         "0"
        ],
        [
         "2",
         "1998-01-01",
         "10809",
         "52",
         "7.0",
         "0.0",
         "20",
         "Filo Mix",
         "24",
         "5",
         "0"
        ],
        [
         "3",
         "1998-01-01",
         "10810",
         "13",
         "6.0",
         "0.0",
         "7",
         "Konbu",
         "6",
         "8",
         "0"
        ],
        [
         "4",
         "1998-01-01",
         "10810",
         "25",
         "14.0",
         "0.0",
         "5",
         "NuNuCa Nuß-Nougat-Creme",
         "11",
         "3",
         "0"
        ]
       ],
       "shape": {
        "columns": 10,
        "rows": 5
       }
      },
      "text/html": [
       "<div>\n",
       "<style scoped>\n",
       "    .dataframe tbody tr th:only-of-type {\n",
       "        vertical-align: middle;\n",
       "    }\n",
       "\n",
       "    .dataframe tbody tr th {\n",
       "        vertical-align: top;\n",
       "    }\n",
       "\n",
       "    .dataframe thead th {\n",
       "        text-align: right;\n",
       "    }\n",
       "</style>\n",
       "<table border=\"1\" class=\"dataframe\">\n",
       "  <thead>\n",
       "    <tr style=\"text-align: right;\">\n",
       "      <th></th>\n",
       "      <th>order_date</th>\n",
       "      <th>order_id</th>\n",
       "      <th>product_id</th>\n",
       "      <th>unit_price</th>\n",
       "      <th>discount</th>\n",
       "      <th>quantity</th>\n",
       "      <th>product_name</th>\n",
       "      <th>supplier_id</th>\n",
       "      <th>category_id</th>\n",
       "      <th>discontinued</th>\n",
       "    </tr>\n",
       "  </thead>\n",
       "  <tbody>\n",
       "    <tr>\n",
       "      <th>0</th>\n",
       "      <td>1998-01-01</td>\n",
       "      <td>10808</td>\n",
       "      <td>56</td>\n",
       "      <td>38.0</td>\n",
       "      <td>0.15</td>\n",
       "      <td>20</td>\n",
       "      <td>Gnocchi di nonna Alice</td>\n",
       "      <td>26</td>\n",
       "      <td>5</td>\n",
       "      <td>0</td>\n",
       "    </tr>\n",
       "    <tr>\n",
       "      <th>1</th>\n",
       "      <td>1998-01-01</td>\n",
       "      <td>10808</td>\n",
       "      <td>76</td>\n",
       "      <td>18.0</td>\n",
       "      <td>0.15</td>\n",
       "      <td>50</td>\n",
       "      <td>Lakkalikööri</td>\n",
       "      <td>23</td>\n",
       "      <td>1</td>\n",
       "      <td>0</td>\n",
       "    </tr>\n",
       "    <tr>\n",
       "      <th>2</th>\n",
       "      <td>1998-01-01</td>\n",
       "      <td>10809</td>\n",
       "      <td>52</td>\n",
       "      <td>7.0</td>\n",
       "      <td>0.00</td>\n",
       "      <td>20</td>\n",
       "      <td>Filo Mix</td>\n",
       "      <td>24</td>\n",
       "      <td>5</td>\n",
       "      <td>0</td>\n",
       "    </tr>\n",
       "    <tr>\n",
       "      <th>3</th>\n",
       "      <td>1998-01-01</td>\n",
       "      <td>10810</td>\n",
       "      <td>13</td>\n",
       "      <td>6.0</td>\n",
       "      <td>0.00</td>\n",
       "      <td>7</td>\n",
       "      <td>Konbu</td>\n",
       "      <td>6</td>\n",
       "      <td>8</td>\n",
       "      <td>0</td>\n",
       "    </tr>\n",
       "    <tr>\n",
       "      <th>4</th>\n",
       "      <td>1998-01-01</td>\n",
       "      <td>10810</td>\n",
       "      <td>25</td>\n",
       "      <td>14.0</td>\n",
       "      <td>0.00</td>\n",
       "      <td>5</td>\n",
       "      <td>NuNuCa Nuß-Nougat-Creme</td>\n",
       "      <td>11</td>\n",
       "      <td>3</td>\n",
       "      <td>0</td>\n",
       "    </tr>\n",
       "  </tbody>\n",
       "</table>\n",
       "</div>"
      ],
      "text/plain": [
       "   order_date  order_id  product_id  unit_price  discount  quantity  \\\n",
       "0  1998-01-01     10808          56        38.0      0.15        20   \n",
       "1  1998-01-01     10808          76        18.0      0.15        50   \n",
       "2  1998-01-01     10809          52         7.0      0.00        20   \n",
       "3  1998-01-01     10810          13         6.0      0.00         7   \n",
       "4  1998-01-01     10810          25        14.0      0.00         5   \n",
       "\n",
       "              product_name  supplier_id  category_id  discontinued  \n",
       "0   Gnocchi di nonna Alice           26            5             0  \n",
       "1             Lakkalikööri           23            1             0  \n",
       "2                 Filo Mix           24            5             0  \n",
       "3                    Konbu            6            8             0  \n",
       "4  NuNuCa Nuß-Nougat-Creme           11            3             0  "
      ]
     },
     "execution_count": 2,
     "metadata": {},
     "output_type": "execute_result"
    }
   ],
   "source": [
    "sales = pd.read_csv('./data/sales_data.csv')\n",
    "sales.head()"
   ]
  },
  {
   "cell_type": "code",
   "execution_count": 3,
   "id": "83ae4231",
   "metadata": {},
   "outputs": [
    {
     "name": "stdout",
     "output_type": "stream",
     "text": [
      "<class 'pandas.core.frame.DataFrame'>\n",
      "RangeIndex: 632 entries, 0 to 631\n",
      "Data columns (total 10 columns):\n",
      " #   Column        Non-Null Count  Dtype  \n",
      "---  ------        --------------  -----  \n",
      " 0   order_date    632 non-null    object \n",
      " 1   order_id      632 non-null    int64  \n",
      " 2   product_id    632 non-null    int64  \n",
      " 3   unit_price    632 non-null    float64\n",
      " 4   discount      632 non-null    float64\n",
      " 5   quantity      632 non-null    int64  \n",
      " 6   product_name  632 non-null    object \n",
      " 7   supplier_id   632 non-null    int64  \n",
      " 8   category_id   632 non-null    int64  \n",
      " 9   discontinued  632 non-null    int64  \n",
      "dtypes: float64(2), int64(6), object(2)\n",
      "memory usage: 49.5+ KB\n"
     ]
    }
   ],
   "source": [
    "sales.info()"
   ]
  },
  {
   "cell_type": "code",
   "execution_count": 4,
   "id": "bf9a64d1",
   "metadata": {},
   "outputs": [],
   "source": [
    "sales['order_date'] = pd.to_datetime(sales['order_date'])"
   ]
  },
  {
   "cell_type": "markdown",
   "metadata": {},
   "source": [
    "Бачимо, що немає в даних стовбчика з виручкою. Отже розрахуємо і добавимо в таблицю. "
   ]
  },
  {
   "cell_type": "code",
   "execution_count": 5,
   "id": "359362ae",
   "metadata": {},
   "outputs": [],
   "source": [
    "sales['revenue'] = (sales['unit_price'] - sales['unit_price'] * sales['discount'] * sales['discontinued']) * sales['quantity']"
   ]
  },
  {
   "cell_type": "code",
   "execution_count": 6,
   "id": "beb0ce5b",
   "metadata": {},
   "outputs": [
    {
     "data": {
      "application/vnd.microsoft.datawrangler.viewer.v0+json": {
       "columns": [
        {
         "name": "index",
         "rawType": "int64",
         "type": "integer"
        },
        {
         "name": "order_date",
         "rawType": "datetime64[ns]",
         "type": "datetime"
        },
        {
         "name": "order_id",
         "rawType": "int64",
         "type": "integer"
        },
        {
         "name": "product_id",
         "rawType": "int64",
         "type": "integer"
        },
        {
         "name": "unit_price",
         "rawType": "float64",
         "type": "float"
        },
        {
         "name": "discount",
         "rawType": "float64",
         "type": "float"
        },
        {
         "name": "quantity",
         "rawType": "int64",
         "type": "integer"
        },
        {
         "name": "product_name",
         "rawType": "object",
         "type": "string"
        },
        {
         "name": "supplier_id",
         "rawType": "int64",
         "type": "integer"
        },
        {
         "name": "category_id",
         "rawType": "int64",
         "type": "integer"
        },
        {
         "name": "discontinued",
         "rawType": "int64",
         "type": "integer"
        },
        {
         "name": "revenue",
         "rawType": "float64",
         "type": "float"
        }
       ],
       "conversionMethod": "pd.DataFrame",
       "ref": "8e9f8417-db93-4053-839c-f3a2a8971222",
       "rows": [
        [
         "0",
         "1998-01-01 00:00:00",
         "10808",
         "56",
         "38.0",
         "0.15",
         "20",
         "Gnocchi di nonna Alice",
         "26",
         "5",
         "0",
         "760.0"
        ],
        [
         "1",
         "1998-01-01 00:00:00",
         "10808",
         "76",
         "18.0",
         "0.15",
         "50",
         "Lakkalikööri",
         "23",
         "1",
         "0",
         "900.0"
        ],
        [
         "2",
         "1998-01-01 00:00:00",
         "10809",
         "52",
         "7.0",
         "0.0",
         "20",
         "Filo Mix",
         "24",
         "5",
         "0",
         "140.0"
        ],
        [
         "3",
         "1998-01-01 00:00:00",
         "10810",
         "13",
         "6.0",
         "0.0",
         "7",
         "Konbu",
         "6",
         "8",
         "0",
         "42.0"
        ],
        [
         "4",
         "1998-01-01 00:00:00",
         "10810",
         "25",
         "14.0",
         "0.0",
         "5",
         "NuNuCa Nuß-Nougat-Creme",
         "11",
         "3",
         "0",
         "70.0"
        ]
       ],
       "shape": {
        "columns": 11,
        "rows": 5
       }
      },
      "text/html": [
       "<div>\n",
       "<style scoped>\n",
       "    .dataframe tbody tr th:only-of-type {\n",
       "        vertical-align: middle;\n",
       "    }\n",
       "\n",
       "    .dataframe tbody tr th {\n",
       "        vertical-align: top;\n",
       "    }\n",
       "\n",
       "    .dataframe thead th {\n",
       "        text-align: right;\n",
       "    }\n",
       "</style>\n",
       "<table border=\"1\" class=\"dataframe\">\n",
       "  <thead>\n",
       "    <tr style=\"text-align: right;\">\n",
       "      <th></th>\n",
       "      <th>order_date</th>\n",
       "      <th>order_id</th>\n",
       "      <th>product_id</th>\n",
       "      <th>unit_price</th>\n",
       "      <th>discount</th>\n",
       "      <th>quantity</th>\n",
       "      <th>product_name</th>\n",
       "      <th>supplier_id</th>\n",
       "      <th>category_id</th>\n",
       "      <th>discontinued</th>\n",
       "      <th>revenue</th>\n",
       "    </tr>\n",
       "  </thead>\n",
       "  <tbody>\n",
       "    <tr>\n",
       "      <th>0</th>\n",
       "      <td>1998-01-01</td>\n",
       "      <td>10808</td>\n",
       "      <td>56</td>\n",
       "      <td>38.0</td>\n",
       "      <td>0.15</td>\n",
       "      <td>20</td>\n",
       "      <td>Gnocchi di nonna Alice</td>\n",
       "      <td>26</td>\n",
       "      <td>5</td>\n",
       "      <td>0</td>\n",
       "      <td>760.0</td>\n",
       "    </tr>\n",
       "    <tr>\n",
       "      <th>1</th>\n",
       "      <td>1998-01-01</td>\n",
       "      <td>10808</td>\n",
       "      <td>76</td>\n",
       "      <td>18.0</td>\n",
       "      <td>0.15</td>\n",
       "      <td>50</td>\n",
       "      <td>Lakkalikööri</td>\n",
       "      <td>23</td>\n",
       "      <td>1</td>\n",
       "      <td>0</td>\n",
       "      <td>900.0</td>\n",
       "    </tr>\n",
       "    <tr>\n",
       "      <th>2</th>\n",
       "      <td>1998-01-01</td>\n",
       "      <td>10809</td>\n",
       "      <td>52</td>\n",
       "      <td>7.0</td>\n",
       "      <td>0.00</td>\n",
       "      <td>20</td>\n",
       "      <td>Filo Mix</td>\n",
       "      <td>24</td>\n",
       "      <td>5</td>\n",
       "      <td>0</td>\n",
       "      <td>140.0</td>\n",
       "    </tr>\n",
       "    <tr>\n",
       "      <th>3</th>\n",
       "      <td>1998-01-01</td>\n",
       "      <td>10810</td>\n",
       "      <td>13</td>\n",
       "      <td>6.0</td>\n",
       "      <td>0.00</td>\n",
       "      <td>7</td>\n",
       "      <td>Konbu</td>\n",
       "      <td>6</td>\n",
       "      <td>8</td>\n",
       "      <td>0</td>\n",
       "      <td>42.0</td>\n",
       "    </tr>\n",
       "    <tr>\n",
       "      <th>4</th>\n",
       "      <td>1998-01-01</td>\n",
       "      <td>10810</td>\n",
       "      <td>25</td>\n",
       "      <td>14.0</td>\n",
       "      <td>0.00</td>\n",
       "      <td>5</td>\n",
       "      <td>NuNuCa Nuß-Nougat-Creme</td>\n",
       "      <td>11</td>\n",
       "      <td>3</td>\n",
       "      <td>0</td>\n",
       "      <td>70.0</td>\n",
       "    </tr>\n",
       "  </tbody>\n",
       "</table>\n",
       "</div>"
      ],
      "text/plain": [
       "  order_date  order_id  product_id  unit_price  discount  quantity  \\\n",
       "0 1998-01-01     10808          56        38.0      0.15        20   \n",
       "1 1998-01-01     10808          76        18.0      0.15        50   \n",
       "2 1998-01-01     10809          52         7.0      0.00        20   \n",
       "3 1998-01-01     10810          13         6.0      0.00         7   \n",
       "4 1998-01-01     10810          25        14.0      0.00         5   \n",
       "\n",
       "              product_name  supplier_id  category_id  discontinued  revenue  \n",
       "0   Gnocchi di nonna Alice           26            5             0    760.0  \n",
       "1             Lakkalikööri           23            1             0    900.0  \n",
       "2                 Filo Mix           24            5             0    140.0  \n",
       "3                    Konbu            6            8             0     42.0  \n",
       "4  NuNuCa Nuß-Nougat-Creme           11            3             0     70.0  "
      ]
     },
     "execution_count": 6,
     "metadata": {},
     "output_type": "execute_result"
    }
   ],
   "source": [
    "sales.head()"
   ]
  },
  {
   "cell_type": "markdown",
   "metadata": {},
   "source": [
    "Нам треба знайти які товари приносять нам найбільше грошей, тому згрупуємо дані по товарах і просумуємо виручку."
   ]
  },
  {
   "cell_type": "code",
   "execution_count": 7,
   "id": "02281d63",
   "metadata": {},
   "outputs": [
    {
     "data": {
      "application/vnd.microsoft.datawrangler.viewer.v0+json": {
       "columns": [
        {
         "name": "product_name",
         "rawType": "object",
         "type": "string"
        },
        {
         "name": "revenue",
         "rawType": "float64",
         "type": "float"
        }
       ],
       "conversionMethod": "pd.DataFrame",
       "ref": "7861b70e-8573-4ac5-9215-96c7138a728f",
       "rows": [
        [
         "Côte de Blaye",
         "68510.0"
        ],
        [
         "Thüringer Rostbratwurst",
         "33683.259000000005"
        ],
        [
         "Raclette Courdavault",
         "28215.0"
        ],
        [
         "Camembert Pierrot",
         "18360.0"
        ],
        [
         "Tarte au sucre",
         "17304.3"
        ],
        [
         "Uncle Bob's Organic Dried Pears",
         "11940.0"
        ],
        [
         "Manjimup Dried Apples",
         "11766.0"
        ],
        [
         "Ikura",
         "9610.0"
        ],
        [
         "Carnarvon Tigers",
         "9437.5"
        ],
        [
         "Sir Rodney's Marmalade",
         "8910.0"
        ]
       ],
       "shape": {
        "columns": 1,
        "rows": 10
       }
      },
      "text/html": [
       "<div>\n",
       "<style scoped>\n",
       "    .dataframe tbody tr th:only-of-type {\n",
       "        vertical-align: middle;\n",
       "    }\n",
       "\n",
       "    .dataframe tbody tr th {\n",
       "        vertical-align: top;\n",
       "    }\n",
       "\n",
       "    .dataframe thead th {\n",
       "        text-align: right;\n",
       "    }\n",
       "</style>\n",
       "<table border=\"1\" class=\"dataframe\">\n",
       "  <thead>\n",
       "    <tr style=\"text-align: right;\">\n",
       "      <th></th>\n",
       "      <th>revenue</th>\n",
       "    </tr>\n",
       "    <tr>\n",
       "      <th>product_name</th>\n",
       "      <th></th>\n",
       "    </tr>\n",
       "  </thead>\n",
       "  <tbody>\n",
       "    <tr>\n",
       "      <th>Côte de Blaye</th>\n",
       "      <td>68510.000</td>\n",
       "    </tr>\n",
       "    <tr>\n",
       "      <th>Thüringer Rostbratwurst</th>\n",
       "      <td>33683.259</td>\n",
       "    </tr>\n",
       "    <tr>\n",
       "      <th>Raclette Courdavault</th>\n",
       "      <td>28215.000</td>\n",
       "    </tr>\n",
       "    <tr>\n",
       "      <th>Camembert Pierrot</th>\n",
       "      <td>18360.000</td>\n",
       "    </tr>\n",
       "    <tr>\n",
       "      <th>Tarte au sucre</th>\n",
       "      <td>17304.300</td>\n",
       "    </tr>\n",
       "    <tr>\n",
       "      <th>Uncle Bob's Organic Dried Pears</th>\n",
       "      <td>11940.000</td>\n",
       "    </tr>\n",
       "    <tr>\n",
       "      <th>Manjimup Dried Apples</th>\n",
       "      <td>11766.000</td>\n",
       "    </tr>\n",
       "    <tr>\n",
       "      <th>Ikura</th>\n",
       "      <td>9610.000</td>\n",
       "    </tr>\n",
       "    <tr>\n",
       "      <th>Carnarvon Tigers</th>\n",
       "      <td>9437.500</td>\n",
       "    </tr>\n",
       "    <tr>\n",
       "      <th>Sir Rodney's Marmalade</th>\n",
       "      <td>8910.000</td>\n",
       "    </tr>\n",
       "  </tbody>\n",
       "</table>\n",
       "</div>"
      ],
      "text/plain": [
       "                                   revenue\n",
       "product_name                              \n",
       "Côte de Blaye                    68510.000\n",
       "Thüringer Rostbratwurst          33683.259\n",
       "Raclette Courdavault             28215.000\n",
       "Camembert Pierrot                18360.000\n",
       "Tarte au sucre                   17304.300\n",
       "Uncle Bob's Organic Dried Pears  11940.000\n",
       "Manjimup Dried Apples            11766.000\n",
       "Ikura                             9610.000\n",
       "Carnarvon Tigers                  9437.500\n",
       "Sir Rodney's Marmalade            8910.000"
      ]
     },
     "execution_count": 7,
     "metadata": {},
     "output_type": "execute_result"
    }
   ],
   "source": [
    "pivot = sales.groupby('product_name').agg({'revenue': 'sum'}).sort_values('revenue', ascending=False)\n",
    "pivot.head(10)"
   ]
  },
  {
   "cell_type": "markdown",
   "metadata": {},
   "source": [
    "Є відсортована за спаданням таблиця з виручками по товарам.  \n",
    "Тепер знайдемо вклад кожного товару в загальну виручку. "
   ]
  },
  {
   "cell_type": "code",
   "execution_count": 8,
   "id": "134170db",
   "metadata": {},
   "outputs": [
    {
     "data": {
      "application/vnd.microsoft.datawrangler.viewer.v0+json": {
       "columns": [
        {
         "name": "product_name",
         "rawType": "object",
         "type": "string"
        },
        {
         "name": "revenue",
         "rawType": "float64",
         "type": "float"
        },
        {
         "name": "percent",
         "rawType": "float64",
         "type": "float"
        }
       ],
       "conversionMethod": "pd.DataFrame",
       "ref": "df53c815-ceec-4971-9b60-a09942bc450e",
       "rows": [
        [
         "Côte de Blaye",
         "68510.0",
         "15.53"
        ],
        [
         "Thüringer Rostbratwurst",
         "33683.259000000005",
         "7.63"
        ],
        [
         "Raclette Courdavault",
         "28215.0",
         "6.39"
        ],
        [
         "Camembert Pierrot",
         "18360.0",
         "4.16"
        ],
        [
         "Tarte au sucre",
         "17304.3",
         "3.92"
        ],
        [
         "Uncle Bob's Organic Dried Pears",
         "11940.0",
         "2.71"
        ],
        [
         "Manjimup Dried Apples",
         "11766.0",
         "2.67"
        ],
        [
         "Ikura",
         "9610.0",
         "2.18"
        ],
        [
         "Carnarvon Tigers",
         "9437.5",
         "2.14"
        ],
        [
         "Sir Rodney's Marmalade",
         "8910.0",
         "2.02"
        ]
       ],
       "shape": {
        "columns": 2,
        "rows": 10
       }
      },
      "text/html": [
       "<div>\n",
       "<style scoped>\n",
       "    .dataframe tbody tr th:only-of-type {\n",
       "        vertical-align: middle;\n",
       "    }\n",
       "\n",
       "    .dataframe tbody tr th {\n",
       "        vertical-align: top;\n",
       "    }\n",
       "\n",
       "    .dataframe thead th {\n",
       "        text-align: right;\n",
       "    }\n",
       "</style>\n",
       "<table border=\"1\" class=\"dataframe\">\n",
       "  <thead>\n",
       "    <tr style=\"text-align: right;\">\n",
       "      <th></th>\n",
       "      <th>revenue</th>\n",
       "      <th>percent</th>\n",
       "    </tr>\n",
       "    <tr>\n",
       "      <th>product_name</th>\n",
       "      <th></th>\n",
       "      <th></th>\n",
       "    </tr>\n",
       "  </thead>\n",
       "  <tbody>\n",
       "    <tr>\n",
       "      <th>Côte de Blaye</th>\n",
       "      <td>68510.000</td>\n",
       "      <td>15.53</td>\n",
       "    </tr>\n",
       "    <tr>\n",
       "      <th>Thüringer Rostbratwurst</th>\n",
       "      <td>33683.259</td>\n",
       "      <td>7.63</td>\n",
       "    </tr>\n",
       "    <tr>\n",
       "      <th>Raclette Courdavault</th>\n",
       "      <td>28215.000</td>\n",
       "      <td>6.39</td>\n",
       "    </tr>\n",
       "    <tr>\n",
       "      <th>Camembert Pierrot</th>\n",
       "      <td>18360.000</td>\n",
       "      <td>4.16</td>\n",
       "    </tr>\n",
       "    <tr>\n",
       "      <th>Tarte au sucre</th>\n",
       "      <td>17304.300</td>\n",
       "      <td>3.92</td>\n",
       "    </tr>\n",
       "    <tr>\n",
       "      <th>Uncle Bob's Organic Dried Pears</th>\n",
       "      <td>11940.000</td>\n",
       "      <td>2.71</td>\n",
       "    </tr>\n",
       "    <tr>\n",
       "      <th>Manjimup Dried Apples</th>\n",
       "      <td>11766.000</td>\n",
       "      <td>2.67</td>\n",
       "    </tr>\n",
       "    <tr>\n",
       "      <th>Ikura</th>\n",
       "      <td>9610.000</td>\n",
       "      <td>2.18</td>\n",
       "    </tr>\n",
       "    <tr>\n",
       "      <th>Carnarvon Tigers</th>\n",
       "      <td>9437.500</td>\n",
       "      <td>2.14</td>\n",
       "    </tr>\n",
       "    <tr>\n",
       "      <th>Sir Rodney's Marmalade</th>\n",
       "      <td>8910.000</td>\n",
       "      <td>2.02</td>\n",
       "    </tr>\n",
       "  </tbody>\n",
       "</table>\n",
       "</div>"
      ],
      "text/plain": [
       "                                   revenue  percent\n",
       "product_name                                       \n",
       "Côte de Blaye                    68510.000    15.53\n",
       "Thüringer Rostbratwurst          33683.259     7.63\n",
       "Raclette Courdavault             28215.000     6.39\n",
       "Camembert Pierrot                18360.000     4.16\n",
       "Tarte au sucre                   17304.300     3.92\n",
       "Uncle Bob's Organic Dried Pears  11940.000     2.71\n",
       "Manjimup Dried Apples            11766.000     2.67\n",
       "Ikura                             9610.000     2.18\n",
       "Carnarvon Tigers                  9437.500     2.14\n",
       "Sir Rodney's Marmalade            8910.000     2.02"
      ]
     },
     "execution_count": 8,
     "metadata": {},
     "output_type": "execute_result"
    }
   ],
   "source": [
    "pivot['percent'] = round(pivot['revenue'] / pivot['revenue'].sum() * 100, 2)\n",
    "pivot.head(10)"
   ]
  },
  {
   "cell_type": "markdown",
   "metadata": {},
   "source": [
    "Для того щоб знайти які товари приносять нам 80% виручки, добавимо стовпець з кумулятивною сумою відсотків. "
   ]
  },
  {
   "cell_type": "code",
   "execution_count": 9,
   "id": "f09e9fd9",
   "metadata": {},
   "outputs": [
    {
     "data": {
      "application/vnd.microsoft.datawrangler.viewer.v0+json": {
       "columns": [
        {
         "name": "product_name",
         "rawType": "object",
         "type": "string"
        },
        {
         "name": "revenue",
         "rawType": "float64",
         "type": "float"
        },
        {
         "name": "percent",
         "rawType": "float64",
         "type": "float"
        },
        {
         "name": "cumsum",
         "rawType": "float64",
         "type": "float"
        }
       ],
       "conversionMethod": "pd.DataFrame",
       "ref": "29ed0c6c-6d13-455e-9b66-edfb93139e23",
       "rows": [
        [
         "Côte de Blaye",
         "68510.0",
         "15.53",
         "15.53"
        ],
        [
         "Thüringer Rostbratwurst",
         "33683.259000000005",
         "7.63",
         "23.16"
        ],
        [
         "Raclette Courdavault",
         "28215.0",
         "6.39",
         "29.55"
        ],
        [
         "Camembert Pierrot",
         "18360.0",
         "4.16",
         "33.71"
        ],
        [
         "Tarte au sucre",
         "17304.3",
         "3.92",
         "37.63"
        ],
        [
         "Uncle Bob's Organic Dried Pears",
         "11940.0",
         "2.71",
         "40.34"
        ],
        [
         "Manjimup Dried Apples",
         "11766.0",
         "2.67",
         "43.010000000000005"
        ],
        [
         "Ikura",
         "9610.0",
         "2.18",
         "45.190000000000005"
        ],
        [
         "Carnarvon Tigers",
         "9437.5",
         "2.14",
         "47.330000000000005"
        ],
        [
         "Sir Rodney's Marmalade",
         "8910.0",
         "2.02",
         "49.35000000000001"
        ]
       ],
       "shape": {
        "columns": 3,
        "rows": 10
       }
      },
      "text/html": [
       "<div>\n",
       "<style scoped>\n",
       "    .dataframe tbody tr th:only-of-type {\n",
       "        vertical-align: middle;\n",
       "    }\n",
       "\n",
       "    .dataframe tbody tr th {\n",
       "        vertical-align: top;\n",
       "    }\n",
       "\n",
       "    .dataframe thead th {\n",
       "        text-align: right;\n",
       "    }\n",
       "</style>\n",
       "<table border=\"1\" class=\"dataframe\">\n",
       "  <thead>\n",
       "    <tr style=\"text-align: right;\">\n",
       "      <th></th>\n",
       "      <th>revenue</th>\n",
       "      <th>percent</th>\n",
       "      <th>cumsum</th>\n",
       "    </tr>\n",
       "    <tr>\n",
       "      <th>product_name</th>\n",
       "      <th></th>\n",
       "      <th></th>\n",
       "      <th></th>\n",
       "    </tr>\n",
       "  </thead>\n",
       "  <tbody>\n",
       "    <tr>\n",
       "      <th>Côte de Blaye</th>\n",
       "      <td>68510.000</td>\n",
       "      <td>15.53</td>\n",
       "      <td>15.53</td>\n",
       "    </tr>\n",
       "    <tr>\n",
       "      <th>Thüringer Rostbratwurst</th>\n",
       "      <td>33683.259</td>\n",
       "      <td>7.63</td>\n",
       "      <td>23.16</td>\n",
       "    </tr>\n",
       "    <tr>\n",
       "      <th>Raclette Courdavault</th>\n",
       "      <td>28215.000</td>\n",
       "      <td>6.39</td>\n",
       "      <td>29.55</td>\n",
       "    </tr>\n",
       "    <tr>\n",
       "      <th>Camembert Pierrot</th>\n",
       "      <td>18360.000</td>\n",
       "      <td>4.16</td>\n",
       "      <td>33.71</td>\n",
       "    </tr>\n",
       "    <tr>\n",
       "      <th>Tarte au sucre</th>\n",
       "      <td>17304.300</td>\n",
       "      <td>3.92</td>\n",
       "      <td>37.63</td>\n",
       "    </tr>\n",
       "    <tr>\n",
       "      <th>Uncle Bob's Organic Dried Pears</th>\n",
       "      <td>11940.000</td>\n",
       "      <td>2.71</td>\n",
       "      <td>40.34</td>\n",
       "    </tr>\n",
       "    <tr>\n",
       "      <th>Manjimup Dried Apples</th>\n",
       "      <td>11766.000</td>\n",
       "      <td>2.67</td>\n",
       "      <td>43.01</td>\n",
       "    </tr>\n",
       "    <tr>\n",
       "      <th>Ikura</th>\n",
       "      <td>9610.000</td>\n",
       "      <td>2.18</td>\n",
       "      <td>45.19</td>\n",
       "    </tr>\n",
       "    <tr>\n",
       "      <th>Carnarvon Tigers</th>\n",
       "      <td>9437.500</td>\n",
       "      <td>2.14</td>\n",
       "      <td>47.33</td>\n",
       "    </tr>\n",
       "    <tr>\n",
       "      <th>Sir Rodney's Marmalade</th>\n",
       "      <td>8910.000</td>\n",
       "      <td>2.02</td>\n",
       "      <td>49.35</td>\n",
       "    </tr>\n",
       "  </tbody>\n",
       "</table>\n",
       "</div>"
      ],
      "text/plain": [
       "                                   revenue  percent  cumsum\n",
       "product_name                                               \n",
       "Côte de Blaye                    68510.000    15.53   15.53\n",
       "Thüringer Rostbratwurst          33683.259     7.63   23.16\n",
       "Raclette Courdavault             28215.000     6.39   29.55\n",
       "Camembert Pierrot                18360.000     4.16   33.71\n",
       "Tarte au sucre                   17304.300     3.92   37.63\n",
       "Uncle Bob's Organic Dried Pears  11940.000     2.71   40.34\n",
       "Manjimup Dried Apples            11766.000     2.67   43.01\n",
       "Ikura                             9610.000     2.18   45.19\n",
       "Carnarvon Tigers                  9437.500     2.14   47.33\n",
       "Sir Rodney's Marmalade            8910.000     2.02   49.35"
      ]
     },
     "execution_count": 9,
     "metadata": {},
     "output_type": "execute_result"
    }
   ],
   "source": [
    "pivot['cumsum'] = pivot['percent'].cumsum()\n",
    "pivot.head(10)"
   ]
  },
  {
   "cell_type": "markdown",
   "metadata": {},
   "source": [
    "Тепер присвоїмо групи товарам: А: до 80%, B: (80%-95%), С: останні 5% виручки. "
   ]
  },
  {
   "cell_type": "code",
   "execution_count": 10,
   "id": "7910d0ae",
   "metadata": {},
   "outputs": [
    {
     "data": {
      "application/vnd.microsoft.datawrangler.viewer.v0+json": {
       "columns": [
        {
         "name": "product_name",
         "rawType": "object",
         "type": "string"
        },
        {
         "name": "revenue",
         "rawType": "float64",
         "type": "float"
        },
        {
         "name": "percent",
         "rawType": "float64",
         "type": "float"
        },
        {
         "name": "cumsum",
         "rawType": "float64",
         "type": "float"
        },
        {
         "name": "revenue_abc",
         "rawType": "category",
         "type": "unknown"
        }
       ],
       "conversionMethod": "pd.DataFrame",
       "ref": "acf47d3c-864d-49fc-aac7-73f2aa08dcd8",
       "rows": [
        [
         "Côte de Blaye",
         "68510.0",
         "15.53",
         "15.53",
         "A"
        ],
        [
         "Thüringer Rostbratwurst",
         "33683.259000000005",
         "7.63",
         "23.16",
         "A"
        ],
        [
         "Raclette Courdavault",
         "28215.0",
         "6.39",
         "29.55",
         "A"
        ],
        [
         "Camembert Pierrot",
         "18360.0",
         "4.16",
         "33.71",
         "A"
        ],
        [
         "Tarte au sucre",
         "17304.3",
         "3.92",
         "37.63",
         "A"
        ],
        [
         "Uncle Bob's Organic Dried Pears",
         "11940.0",
         "2.71",
         "40.34",
         "A"
        ],
        [
         "Manjimup Dried Apples",
         "11766.0",
         "2.67",
         "43.010000000000005",
         "A"
        ],
        [
         "Ikura",
         "9610.0",
         "2.18",
         "45.190000000000005",
         "A"
        ],
        [
         "Carnarvon Tigers",
         "9437.5",
         "2.14",
         "47.330000000000005",
         "A"
        ],
        [
         "Sir Rodney's Marmalade",
         "8910.0",
         "2.02",
         "49.35000000000001",
         "A"
        ]
       ],
       "shape": {
        "columns": 4,
        "rows": 10
       }
      },
      "text/html": [
       "<div>\n",
       "<style scoped>\n",
       "    .dataframe tbody tr th:only-of-type {\n",
       "        vertical-align: middle;\n",
       "    }\n",
       "\n",
       "    .dataframe tbody tr th {\n",
       "        vertical-align: top;\n",
       "    }\n",
       "\n",
       "    .dataframe thead th {\n",
       "        text-align: right;\n",
       "    }\n",
       "</style>\n",
       "<table border=\"1\" class=\"dataframe\">\n",
       "  <thead>\n",
       "    <tr style=\"text-align: right;\">\n",
       "      <th></th>\n",
       "      <th>revenue</th>\n",
       "      <th>percent</th>\n",
       "      <th>cumsum</th>\n",
       "      <th>revenue_abc</th>\n",
       "    </tr>\n",
       "    <tr>\n",
       "      <th>product_name</th>\n",
       "      <th></th>\n",
       "      <th></th>\n",
       "      <th></th>\n",
       "      <th></th>\n",
       "    </tr>\n",
       "  </thead>\n",
       "  <tbody>\n",
       "    <tr>\n",
       "      <th>Côte de Blaye</th>\n",
       "      <td>68510.000</td>\n",
       "      <td>15.53</td>\n",
       "      <td>15.53</td>\n",
       "      <td>A</td>\n",
       "    </tr>\n",
       "    <tr>\n",
       "      <th>Thüringer Rostbratwurst</th>\n",
       "      <td>33683.259</td>\n",
       "      <td>7.63</td>\n",
       "      <td>23.16</td>\n",
       "      <td>A</td>\n",
       "    </tr>\n",
       "    <tr>\n",
       "      <th>Raclette Courdavault</th>\n",
       "      <td>28215.000</td>\n",
       "      <td>6.39</td>\n",
       "      <td>29.55</td>\n",
       "      <td>A</td>\n",
       "    </tr>\n",
       "    <tr>\n",
       "      <th>Camembert Pierrot</th>\n",
       "      <td>18360.000</td>\n",
       "      <td>4.16</td>\n",
       "      <td>33.71</td>\n",
       "      <td>A</td>\n",
       "    </tr>\n",
       "    <tr>\n",
       "      <th>Tarte au sucre</th>\n",
       "      <td>17304.300</td>\n",
       "      <td>3.92</td>\n",
       "      <td>37.63</td>\n",
       "      <td>A</td>\n",
       "    </tr>\n",
       "    <tr>\n",
       "      <th>Uncle Bob's Organic Dried Pears</th>\n",
       "      <td>11940.000</td>\n",
       "      <td>2.71</td>\n",
       "      <td>40.34</td>\n",
       "      <td>A</td>\n",
       "    </tr>\n",
       "    <tr>\n",
       "      <th>Manjimup Dried Apples</th>\n",
       "      <td>11766.000</td>\n",
       "      <td>2.67</td>\n",
       "      <td>43.01</td>\n",
       "      <td>A</td>\n",
       "    </tr>\n",
       "    <tr>\n",
       "      <th>Ikura</th>\n",
       "      <td>9610.000</td>\n",
       "      <td>2.18</td>\n",
       "      <td>45.19</td>\n",
       "      <td>A</td>\n",
       "    </tr>\n",
       "    <tr>\n",
       "      <th>Carnarvon Tigers</th>\n",
       "      <td>9437.500</td>\n",
       "      <td>2.14</td>\n",
       "      <td>47.33</td>\n",
       "      <td>A</td>\n",
       "    </tr>\n",
       "    <tr>\n",
       "      <th>Sir Rodney's Marmalade</th>\n",
       "      <td>8910.000</td>\n",
       "      <td>2.02</td>\n",
       "      <td>49.35</td>\n",
       "      <td>A</td>\n",
       "    </tr>\n",
       "  </tbody>\n",
       "</table>\n",
       "</div>"
      ],
      "text/plain": [
       "                                   revenue  percent  cumsum revenue_abc\n",
       "product_name                                                           \n",
       "Côte de Blaye                    68510.000    15.53   15.53           A\n",
       "Thüringer Rostbratwurst          33683.259     7.63   23.16           A\n",
       "Raclette Courdavault             28215.000     6.39   29.55           A\n",
       "Camembert Pierrot                18360.000     4.16   33.71           A\n",
       "Tarte au sucre                   17304.300     3.92   37.63           A\n",
       "Uncle Bob's Organic Dried Pears  11940.000     2.71   40.34           A\n",
       "Manjimup Dried Apples            11766.000     2.67   43.01           A\n",
       "Ikura                             9610.000     2.18   45.19           A\n",
       "Carnarvon Tigers                  9437.500     2.14   47.33           A\n",
       "Sir Rodney's Marmalade            8910.000     2.02   49.35           A"
      ]
     },
     "execution_count": 10,
     "metadata": {},
     "output_type": "execute_result"
    }
   ],
   "source": [
    "pivot['revenue_abc'] = pd.cut(pivot['cumsum'], bins=[0, 80, 95, 101], labels=['A', 'B', 'C'])\n",
    "pivot.head(10)"
   ]
  },
  {
   "cell_type": "markdown",
   "metadata": {},
   "source": [
    "Подивимось на розподіл товарів по групам. "
   ]
  },
  {
   "cell_type": "code",
   "execution_count": 11,
   "id": "ef4f7eb0",
   "metadata": {},
   "outputs": [
    {
     "data": {
      "text/plain": [
       "Text(0, 0.5, 'Number of products')"
      ]
     },
     "execution_count": 11,
     "metadata": {},
     "output_type": "execute_result"
    },
    {
     "data": {
      "image/png": "[encoded data removed]",
      "text/plain": [
       "<Figure size 1000x500 with 1 Axes>"
      ]
     },
     "metadata": {},
     "output_type": "display_data"
    }
   ],
   "source": [
    "pivot['revenue_abc'].value_counts().sort_index().plot(kind='bar', colormap='Set3', figsize=(10, 5))\n",
    "plt.title('ABC Analysis')\n",
    "plt.xlabel('ABC class')\n",
    "plt.ylabel('Number of products')"
   ]
  },
  {
   "cell_type": "markdown",
   "metadata": {},
   "source": [
    "Зробимо ще один вимір АВС по кількості проданих товарів. \n",
    "\n",
    "Кроки ті самі лише колонка буде з кількістю продажів. "
   ]
  },
  {
   "cell_type": "code",
   "execution_count": 12,
   "id": "e6a446a0",
   "metadata": {},
   "outputs": [
    {
     "data": {
      "application/vnd.microsoft.datawrangler.viewer.v0+json": {
       "columns": [
        {
         "name": "product_name",
         "rawType": "object",
         "type": "string"
        },
        {
         "name": "quantity",
         "rawType": "int64",
         "type": "integer"
        }
       ],
       "conversionMethod": "pd.DataFrame",
       "ref": "775aeb71-6828-4282-a3f1-5e506511a153",
       "rows": [
        [
         "Konbu",
         "645"
        ],
        [
         "Camembert Pierrot",
         "540"
        ],
        [
         "Guaraná Fantástica",
         "526"
        ],
        [
         "Raclette Courdavault",
         "513"
        ],
        [
         "Rhönbräu Klosterbier",
         "401"
        ],
        [
         "Uncle Bob's Organic Dried Pears",
         "398"
        ],
        [
         "Lakkalikööri",
         "386"
        ],
        [
         "Chai",
         "359"
        ],
        [
         "Tarte au sucre",
         "351"
        ],
        [
         "Sir Rodney's Scones",
         "351"
        ]
       ],
       "shape": {
        "columns": 1,
        "rows": 10
       }
      },
      "text/html": [
       "<div>\n",
       "<style scoped>\n",
       "    .dataframe tbody tr th:only-of-type {\n",
       "        vertical-align: middle;\n",
       "    }\n",
       "\n",
       "    .dataframe tbody tr th {\n",
       "        vertical-align: top;\n",
       "    }\n",
       "\n",
       "    .dataframe thead th {\n",
       "        text-align: right;\n",
       "    }\n",
       "</style>\n",
       "<table border=\"1\" class=\"dataframe\">\n",
       "  <thead>\n",
       "    <tr style=\"text-align: right;\">\n",
       "      <th></th>\n",
       "      <th>quantity</th>\n",
       "    </tr>\n",
       "    <tr>\n",
       "      <th>product_name</th>\n",
       "      <th></th>\n",
       "    </tr>\n",
       "  </thead>\n",
       "  <tbody>\n",
       "    <tr>\n",
       "      <th>Konbu</th>\n",
       "      <td>645</td>\n",
       "    </tr>\n",
       "    <tr>\n",
       "      <th>Camembert Pierrot</th>\n",
       "      <td>540</td>\n",
       "    </tr>\n",
       "    <tr>\n",
       "      <th>Guaraná Fantástica</th>\n",
       "      <td>526</td>\n",
       "    </tr>\n",
       "    <tr>\n",
       "      <th>Raclette Courdavault</th>\n",
       "      <td>513</td>\n",
       "    </tr>\n",
       "    <tr>\n",
       "      <th>Rhönbräu Klosterbier</th>\n",
       "      <td>401</td>\n",
       "    </tr>\n",
       "    <tr>\n",
       "      <th>Uncle Bob's Organic Dried Pears</th>\n",
       "      <td>398</td>\n",
       "    </tr>\n",
       "    <tr>\n",
       "      <th>Lakkalikööri</th>\n",
       "      <td>386</td>\n",
       "    </tr>\n",
       "    <tr>\n",
       "      <th>Chai</th>\n",
       "      <td>359</td>\n",
       "    </tr>\n",
       "    <tr>\n",
       "      <th>Tarte au sucre</th>\n",
       "      <td>351</td>\n",
       "    </tr>\n",
       "    <tr>\n",
       "      <th>Sir Rodney's Scones</th>\n",
       "      <td>351</td>\n",
       "    </tr>\n",
       "  </tbody>\n",
       "</table>\n",
       "</div>"
      ],
      "text/plain": [
       "                                 quantity\n",
       "product_name                             \n",
       "Konbu                                 645\n",
       "Camembert Pierrot                     540\n",
       "Guaraná Fantástica                    526\n",
       "Raclette Courdavault                  513\n",
       "Rhönbräu Klosterbier                  401\n",
       "Uncle Bob's Organic Dried Pears       398\n",
       "Lakkalikööri                          386\n",
       "Chai                                  359\n",
       "Tarte au sucre                        351\n",
       "Sir Rodney's Scones                   351"
      ]
     },
     "execution_count": 12,
     "metadata": {},
     "output_type": "execute_result"
    }
   ],
   "source": [
    "quantity_pivot = sales.groupby('product_name').agg({'quantity': 'sum'}).sort_values('quantity', ascending=False)\n",
    "quantity_pivot.head(10)"
   ]
  },
  {
   "cell_type": "markdown",
   "metadata": {},
   "source": [
    "Одразу добавлю кількість до основної таблиці з виручкою. "
   ]
  },
  {
   "cell_type": "code",
   "execution_count": 13,
   "id": "dea4f62c",
   "metadata": {},
   "outputs": [
    {
     "data": {
      "application/vnd.microsoft.datawrangler.viewer.v0+json": {
       "columns": [
        {
         "name": "product_name",
         "rawType": "object",
         "type": "string"
        },
        {
         "name": "revenue",
         "rawType": "float64",
         "type": "float"
        },
        {
         "name": "percent",
         "rawType": "float64",
         "type": "float"
        },
        {
         "name": "cumsum",
         "rawType": "float64",
         "type": "float"
        },
        {
         "name": "revenue_abc",
         "rawType": "category",
         "type": "unknown"
        },
        {
         "name": "quantity",
         "rawType": "int64",
         "type": "integer"
        }
       ],
       "conversionMethod": "pd.DataFrame",
       "ref": "bbb8bc98-cfe8-4e3a-a2a1-1e1345460e26",
       "rows": [
        [
         "Konbu",
         "3870.0",
         "0.88",
         "83.28000000000003",
         "B",
         "645"
        ],
        [
         "Camembert Pierrot",
         "18360.0",
         "4.16",
         "33.71",
         "A",
         "540"
        ],
        [
         "Guaraná Fantástica",
         "2227.5",
         "0.5",
         "95.17000000000003",
         "C",
         "526"
        ],
        [
         "Raclette Courdavault",
         "28215.0",
         "6.39",
         "29.55",
         "A",
         "513"
        ],
        [
         "Rhönbräu Klosterbier",
         "3107.75",
         "0.7",
         "89.59000000000003",
         "B",
         "401"
        ]
       ],
       "shape": {
        "columns": 5,
        "rows": 5
       }
      },
      "text/html": [
       "<div>\n",
       "<style scoped>\n",
       "    .dataframe tbody tr th:only-of-type {\n",
       "        vertical-align: middle;\n",
       "    }\n",
       "\n",
       "    .dataframe tbody tr th {\n",
       "        vertical-align: top;\n",
       "    }\n",
       "\n",
       "    .dataframe thead th {\n",
       "        text-align: right;\n",
       "    }\n",
       "</style>\n",
       "<table border=\"1\" class=\"dataframe\">\n",
       "  <thead>\n",
       "    <tr style=\"text-align: right;\">\n",
       "      <th></th>\n",
       "      <th>revenue</th>\n",
       "      <th>percent</th>\n",
       "      <th>cumsum</th>\n",
       "      <th>revenue_abc</th>\n",
       "      <th>quantity</th>\n",
       "    </tr>\n",
       "    <tr>\n",
       "      <th>product_name</th>\n",
       "      <th></th>\n",
       "      <th></th>\n",
       "      <th></th>\n",
       "      <th></th>\n",
       "      <th></th>\n",
       "    </tr>\n",
       "  </thead>\n",
       "  <tbody>\n",
       "    <tr>\n",
       "      <th>Konbu</th>\n",
       "      <td>3870.00</td>\n",
       "      <td>0.88</td>\n",
       "      <td>83.28</td>\n",
       "      <td>B</td>\n",
       "      <td>645</td>\n",
       "    </tr>\n",
       "    <tr>\n",
       "      <th>Camembert Pierrot</th>\n",
       "      <td>18360.00</td>\n",
       "      <td>4.16</td>\n",
       "      <td>33.71</td>\n",
       "      <td>A</td>\n",
       "      <td>540</td>\n",
       "    </tr>\n",
       "    <tr>\n",
       "      <th>Guaraná Fantástica</th>\n",
       "      <td>2227.50</td>\n",
       "      <td>0.50</td>\n",
       "      <td>95.17</td>\n",
       "      <td>C</td>\n",
       "      <td>526</td>\n",
       "    </tr>\n",
       "    <tr>\n",
       "      <th>Raclette Courdavault</th>\n",
       "      <td>28215.00</td>\n",
       "      <td>6.39</td>\n",
       "      <td>29.55</td>\n",
       "      <td>A</td>\n",
       "      <td>513</td>\n",
       "    </tr>\n",
       "    <tr>\n",
       "      <th>Rhönbräu Klosterbier</th>\n",
       "      <td>3107.75</td>\n",
       "      <td>0.70</td>\n",
       "      <td>89.59</td>\n",
       "      <td>B</td>\n",
       "      <td>401</td>\n",
       "    </tr>\n",
       "  </tbody>\n",
       "</table>\n",
       "</div>"
      ],
      "text/plain": [
       "                       revenue  percent  cumsum revenue_abc  quantity\n",
       "product_name                                                         \n",
       "Konbu                  3870.00     0.88   83.28           B       645\n",
       "Camembert Pierrot     18360.00     4.16   33.71           A       540\n",
       "Guaraná Fantástica     2227.50     0.50   95.17           C       526\n",
       "Raclette Courdavault  28215.00     6.39   29.55           A       513\n",
       "Rhönbräu Klosterbier   3107.75     0.70   89.59           B       401"
      ]
     },
     "execution_count": 13,
     "metadata": {},
     "output_type": "execute_result"
    }
   ],
   "source": [
    "pivot = pivot.merge(quantity_pivot, on='product_name', how='left').sort_values('quantity', ascending=False)\n",
    "pivot.head()"
   ]
  },
  {
   "cell_type": "markdown",
   "id": "a0d26e5d",
   "metadata": {},
   "source": [
    "Тепер зробимо ABC-аналіз для кількості товару."
   ]
  },
  {
   "cell_type": "code",
   "execution_count": 14,
   "id": "a69bd074",
   "metadata": {},
   "outputs": [
    {
     "data": {
      "application/vnd.microsoft.datawrangler.viewer.v0+json": {
       "columns": [
        {
         "name": "product_name",
         "rawType": "object",
         "type": "string"
        },
        {
         "name": "revenue",
         "rawType": "float64",
         "type": "float"
        },
        {
         "name": "percent",
         "rawType": "float64",
         "type": "float"
        },
        {
         "name": "cumsum",
         "rawType": "float64",
         "type": "float"
        },
        {
         "name": "revenue_abc",
         "rawType": "category",
         "type": "unknown"
        },
        {
         "name": "quantity",
         "rawType": "int64",
         "type": "integer"
        },
        {
         "name": "percent_quantity",
         "rawType": "float64",
         "type": "float"
        },
        {
         "name": "cumsum_quantity",
         "rawType": "float64",
         "type": "float"
        },
        {
         "name": "abc_quantity",
         "rawType": "category",
         "type": "unknown"
        }
       ],
       "conversionMethod": "pd.DataFrame",
       "ref": "1b9e3304-590d-4f46-bb39-33279a1940c3",
       "rows": [
        [
         "Konbu",
         "3870.0",
         "0.88",
         "83.28000000000003",
         "B",
         "645",
         "4.21",
         "4.21",
         "A"
        ],
        [
         "Camembert Pierrot",
         "18360.0",
         "4.16",
         "33.71",
         "A",
         "540",
         "3.52",
         "7.73",
         "A"
        ],
        [
         "Guaraná Fantástica",
         "2227.5",
         "0.5",
         "95.17000000000003",
         "C",
         "526",
         "3.43",
         "11.16",
         "A"
        ],
        [
         "Raclette Courdavault",
         "28215.0",
         "6.39",
         "29.55",
         "A",
         "513",
         "3.35",
         "14.51",
         "A"
        ],
        [
         "Rhönbräu Klosterbier",
         "3107.75",
         "0.7",
         "89.59000000000003",
         "B",
         "401",
         "2.62",
         "17.13",
         "A"
        ],
        [
         "Uncle Bob's Organic Dried Pears",
         "11940.0",
         "2.71",
         "40.34",
         "A",
         "398",
         "2.6",
         "19.73",
         "A"
        ],
        [
         "Lakkalikööri",
         "6948.0",
         "1.57",
         "54.28000000000001",
         "A",
         "386",
         "2.52",
         "22.25",
         "A"
        ],
        [
         "Chai",
         "5683.5",
         "1.29",
         "67.34000000000003",
         "A",
         "359",
         "2.34",
         "24.59",
         "A"
        ],
        [
         "Sir Rodney's Scones",
         "3510.0",
         "0.8",
         "86.55000000000003",
         "B",
         "351",
         "2.29",
         "26.88",
         "A"
        ],
        [
         "Tarte au sucre",
         "17304.3",
         "3.92",
         "37.63",
         "A",
         "351",
         "2.29",
         "29.169999999999998",
         "A"
        ]
       ],
       "shape": {
        "columns": 8,
        "rows": 10
       }
      },
      "text/html": [
       "<div>\n",
       "<style scoped>\n",
       "    .dataframe tbody tr th:only-of-type {\n",
       "        vertical-align: middle;\n",
       "    }\n",
       "\n",
       "    .dataframe tbody tr th {\n",
       "        vertical-align: top;\n",
       "    }\n",
       "\n",
       "    .dataframe thead th {\n",
       "        text-align: right;\n",
       "    }\n",
       "</style>\n",
       "<table border=\"1\" class=\"dataframe\">\n",
       "  <thead>\n",
       "    <tr style=\"text-align: right;\">\n",
       "      <th></th>\n",
       "      <th>revenue</th>\n",
       "      <th>percent</th>\n",
       "      <th>cumsum</th>\n",
       "      <th>revenue_abc</th>\n",
       "      <th>quantity</th>\n",
       "      <th>percent_quantity</th>\n",
       "      <th>cumsum_quantity</th>\n",
       "      <th>abc_quantity</th>\n",
       "    </tr>\n",
       "    <tr>\n",
       "      <th>product_name</th>\n",
       "      <th></th>\n",
       "      <th></th>\n",
       "      <th></th>\n",
       "      <th></th>\n",
       "      <th></th>\n",
       "      <th></th>\n",
       "      <th></th>\n",
       "      <th></th>\n",
       "    </tr>\n",
       "  </thead>\n",
       "  <tbody>\n",
       "    <tr>\n",
       "      <th>Konbu</th>\n",
       "      <td>3870.00</td>\n",
       "      <td>0.88</td>\n",
       "      <td>83.28</td>\n",
       "      <td>B</td>\n",
       "      <td>645</td>\n",
       "      <td>4.21</td>\n",
       "      <td>4.21</td>\n",
       "      <td>A</td>\n",
       "    </tr>\n",
       "    <tr>\n",
       "      <th>Camembert Pierrot</th>\n",
       "      <td>18360.00</td>\n",
       "      <td>4.16</td>\n",
       "      <td>33.71</td>\n",
       "      <td>A</td>\n",
       "      <td>540</td>\n",
       "      <td>3.52</td>\n",
       "      <td>7.73</td>\n",
       "      <td>A</td>\n",
       "    </tr>\n",
       "    <tr>\n",
       "      <th>Guaraná Fantástica</th>\n",
       "      <td>2227.50</td>\n",
       "      <td>0.50</td>\n",
       "      <td>95.17</td>\n",
       "      <td>C</td>\n",
       "      <td>526</td>\n",
       "      <td>3.43</td>\n",
       "      <td>11.16</td>\n",
       "      <td>A</td>\n",
       "    </tr>\n",
       "    <tr>\n",
       "      <th>Raclette Courdavault</th>\n",
       "      <td>28215.00</td>\n",
       "      <td>6.39</td>\n",
       "      <td>29.55</td>\n",
       "      <td>A</td>\n",
       "      <td>513</td>\n",
       "      <td>3.35</td>\n",
       "      <td>14.51</td>\n",
       "      <td>A</td>\n",
       "    </tr>\n",
       "    <tr>\n",
       "      <th>Rhönbräu Klosterbier</th>\n",
       "      <td>3107.75</td>\n",
       "      <td>0.70</td>\n",
       "      <td>89.59</td>\n",
       "      <td>B</td>\n",
       "      <td>401</td>\n",
       "      <td>2.62</td>\n",
       "      <td>17.13</td>\n",
       "      <td>A</td>\n",
       "    </tr>\n",
       "    <tr>\n",
       "      <th>Uncle Bob's Organic Dried Pears</th>\n",
       "      <td>11940.00</td>\n",
       "      <td>2.71</td>\n",
       "      <td>40.34</td>\n",
       "      <td>A</td>\n",
       "      <td>398</td>\n",
       "      <td>2.60</td>\n",
       "      <td>19.73</td>\n",
       "      <td>A</td>\n",
       "    </tr>\n",
       "    <tr>\n",
       "      <th>Lakkalikööri</th>\n",
       "      <td>6948.00</td>\n",
       "      <td>1.57</td>\n",
       "      <td>54.28</td>\n",
       "      <td>A</td>\n",
       "      <td>386</td>\n",
       "      <td>2.52</td>\n",
       "      <td>22.25</td>\n",
       "      <td>A</td>\n",
       "    </tr>\n",
       "    <tr>\n",
       "      <th>Chai</th>\n",
       "      <td>5683.50</td>\n",
       "      <td>1.29</td>\n",
       "      <td>67.34</td>\n",
       "      <td>A</td>\n",
       "      <td>359</td>\n",
       "      <td>2.34</td>\n",
       "      <td>24.59</td>\n",
       "      <td>A</td>\n",
       "    </tr>\n",
       "    <tr>\n",
       "      <th>Sir Rodney's Scones</th>\n",
       "      <td>3510.00</td>\n",
       "      <td>0.80</td>\n",
       "      <td>86.55</td>\n",
       "      <td>B</td>\n",
       "      <td>351</td>\n",
       "      <td>2.29</td>\n",
       "      <td>26.88</td>\n",
       "      <td>A</td>\n",
       "    </tr>\n",
       "    <tr>\n",
       "      <th>Tarte au sucre</th>\n",
       "      <td>17304.30</td>\n",
       "      <td>3.92</td>\n",
       "      <td>37.63</td>\n",
       "      <td>A</td>\n",
       "      <td>351</td>\n",
       "      <td>2.29</td>\n",
       "      <td>29.17</td>\n",
       "      <td>A</td>\n",
       "    </tr>\n",
       "  </tbody>\n",
       "</table>\n",
       "</div>"
      ],
      "text/plain": [
       "                                  revenue  percent  cumsum revenue_abc  \\\n",
       "product_name                                                             \n",
       "Konbu                             3870.00     0.88   83.28           B   \n",
       "Camembert Pierrot                18360.00     4.16   33.71           A   \n",
       "Guaraná Fantástica                2227.50     0.50   95.17           C   \n",
       "Raclette Courdavault             28215.00     6.39   29.55           A   \n",
       "Rhönbräu Klosterbier              3107.75     0.70   89.59           B   \n",
       "Uncle Bob's Organic Dried Pears  11940.00     2.71   40.34           A   \n",
       "Lakkalikööri                      6948.00     1.57   54.28           A   \n",
       "Chai                              5683.50     1.29   67.34           A   \n",
       "Sir Rodney's Scones               3510.00     0.80   86.55           B   \n",
       "Tarte au sucre                   17304.30     3.92   37.63           A   \n",
       "\n",
       "                                 quantity  percent_quantity  cumsum_quantity  \\\n",
       "product_name                                                                   \n",
       "Konbu                                 645              4.21             4.21   \n",
       "Camembert Pierrot                     540              3.52             7.73   \n",
       "Guaraná Fantástica                    526              3.43            11.16   \n",
       "Raclette Courdavault                  513              3.35            14.51   \n",
       "Rhönbräu Klosterbier                  401              2.62            17.13   \n",
       "Uncle Bob's Organic Dried Pears       398              2.60            19.73   \n",
       "Lakkalikööri                          386              2.52            22.25   \n",
       "Chai                                  359              2.34            24.59   \n",
       "Sir Rodney's Scones                   351              2.29            26.88   \n",
       "Tarte au sucre                        351              2.29            29.17   \n",
       "\n",
       "                                abc_quantity  \n",
       "product_name                                  \n",
       "Konbu                                      A  \n",
       "Camembert Pierrot                          A  \n",
       "Guaraná Fantástica                         A  \n",
       "Raclette Courdavault                       A  \n",
       "Rhönbräu Klosterbier                       A  \n",
       "Uncle Bob's Organic Dried Pears            A  \n",
       "Lakkalikööri                               A  \n",
       "Chai                                       A  \n",
       "Sir Rodney's Scones                        A  \n",
       "Tarte au sucre                             A  "
      ]
     },
     "execution_count": 14,
     "metadata": {},
     "output_type": "execute_result"
    }
   ],
   "source": [
    "pivot['percent_quantity'] = round(pivot['quantity'] / pivot['quantity'].sum() * 100, 2).sort_values(ascending=False)\n",
    "pivot['cumsum_quantity'] = pivot['percent_quantity'].cumsum()\n",
    "pivot['abc_quantity'] = pd.cut(pivot['cumsum_quantity'], bins=[0, 80, 95, 101], labels=['A', 'B', 'C'])\n",
    "pivot.head(10)\n"
   ]
  },
  {
   "cell_type": "markdown",
   "id": "1a2e21f7",
   "metadata": {},
   "source": [
    "Подивимось розподіл груп по кількості проданих товарів. "
   ]
  },
  {
   "cell_type": "code",
   "execution_count": 15,
   "id": "6aadfb19",
   "metadata": {},
   "outputs": [
    {
     "data": {
      "image/png": "[encoded data removed]",
      "text/plain": [
       "<Figure size 1000x500 with 1 Axes>"
      ]
     },
     "metadata": {},
     "output_type": "display_data"
    }
   ],
   "source": [
    "pivot['abc_quantity'].value_counts().sort_index().plot(kind='bar', colormap='Set3', figsize=(10, 5))\n",
    "plt.title('ABC Analysis by Quantity')\n",
    "plt.xlabel('ABC class')\n",
    "plt.ylabel('Number of products')\n",
    "plt.show()"
   ]
  },
  {
   "cell_type": "markdown",
   "metadata": {},
   "source": [
    "Подивимось розподіл по кількості і виручці разом. "
   ]
  },
  {
   "cell_type": "code",
   "execution_count": 16,
   "metadata": {},
   "outputs": [
    {
     "data": {
      "image/png": "[encoded data removed]",
      "text/plain": [
       "<Figure size 1000x500 with 1 Axes>"
      ]
     },
     "metadata": {},
     "output_type": "display_data"
    }
   ],
   "source": [
    "pivot[['abc_quantity', 'revenue_abc']].value_counts().sort_index()\\\n",
    "    .plot(kind='bar', colormap='Set3', figsize=(10, 5) )\n",
    "plt.title('ABC аналіз по кількості та виручці');"
   ]
  },
  {
   "cell_type": "markdown",
   "metadata": {},
   "source": [
    "Рекомендація: \n",
    "В першу чергу передивитись колонку (С,С) і прийняти рішення, або вивести з обороту товар (звільнити полку), або стимулювати продажі маркетинговими активностями.  \n",
    "(А,В) і (А,С) - проаналізувати чи можемо ми підвищити ціну на дані товари.  \n",
    "(В,А) скоріш за все якісь нішові дорогі товари, які продаються мало.  \n",
    "Всі групи пробуємо перетягнути в групу вище. "
   ]
  },
  {
   "cell_type": "markdown",
   "metadata": {},
   "source": [
    "#### Функція для спрощення розрахунку ABC аналізу"
   ]
  },
  {
   "cell_type": "code",
   "execution_count": 17,
   "id": "9b38af8a",
   "metadata": {},
   "outputs": [],
   "source": [
    "def perform_abc(df, index): \n",
    "    \"\"\"Функція для виконання ABC-аналізу.\n",
    "    Подавати на вхід таблицю з назвою товару, кількістю продажів та виручкою.\n",
    "    index - назва колонки, по якій групуємо дані.\n",
    "    \"\"\"\n",
    "    cols = list(df.columns) # зберігаємо список з назвами колонок\n",
    "    cols.remove(index) # видаляємо колонку, по якій групуємо дані\n",
    "    grouped_df = df.groupby(index).agg({col: 'sum' for col in cols})  # групуємо дані по колонці index, підсумовуємо інші колонки \n",
    "    for col in cols: # для кожної колонки виконуємо:\n",
    "        grouped_df[col + '_percent'] = round(grouped_df[col] / grouped_df[col].sum() * 100, 2)  # обчислюємо відсоток\n",
    "        grouped_df = grouped_df.sort_values(col + '_percent', ascending=False)  # сортуємо за відсотком\n",
    "        grouped_df[col + '_cumsum'] = grouped_df[col + '_percent'].cumsum() # обчислюємо кумулятивну суму\n",
    "        grouped_df[col + '_abc'] = pd.cut(grouped_df[col + '_cumsum'], bins=[0, 80, 95, 101], labels=['A', 'B', 'C']) # обчислюємо ABC-класи\n",
    "    return grouped_df[cols + [col + '_abc' for col in cols]] # повертаємо таблицю з колонками, які були на вході, та новими колонками з ABC-класами\n"
   ]
  },
  {
   "cell_type": "markdown",
   "id": "3063161f",
   "metadata": {},
   "source": [
    "#### Приклад роботи функції:"
   ]
  },
  {
   "cell_type": "code",
   "execution_count": 18,
   "metadata": {},
   "outputs": [
    {
     "data": {
      "application/vnd.microsoft.datawrangler.viewer.v0+json": {
       "columns": [
        {
         "name": "index",
         "rawType": "int64",
         "type": "integer"
        },
        {
         "name": "order_date",
         "rawType": "datetime64[ns]",
         "type": "datetime"
        },
        {
         "name": "order_id",
         "rawType": "int64",
         "type": "integer"
        },
        {
         "name": "product_id",
         "rawType": "int64",
         "type": "integer"
        },
        {
         "name": "unit_price",
         "rawType": "float64",
         "type": "float"
        },
        {
         "name": "discount",
         "rawType": "float64",
         "type": "float"
        },
        {
         "name": "quantity",
         "rawType": "int64",
         "type": "integer"
        },
        {
         "name": "product_name",
         "rawType": "object",
         "type": "string"
        },
        {
         "name": "supplier_id",
         "rawType": "int64",
         "type": "integer"
        },
        {
         "name": "category_id",
         "rawType": "int64",
         "type": "integer"
        },
        {
         "name": "discontinued",
         "rawType": "int64",
         "type": "integer"
        },
        {
         "name": "revenue",
         "rawType": "float64",
         "type": "float"
        }
       ],
       "conversionMethod": "pd.DataFrame",
       "ref": "74a5d1aa-2951-4747-93f2-06536df7fbf5",
       "rows": [
        [
         "0",
         "1998-01-01 00:00:00",
         "10808",
         "56",
         "38.0",
         "0.15",
         "20",
         "Gnocchi di nonna Alice",
         "26",
         "5",
         "0",
         "760.0"
        ],
        [
         "1",
         "1998-01-01 00:00:00",
         "10808",
         "76",
         "18.0",
         "0.15",
         "50",
         "Lakkalikööri",
         "23",
         "1",
         "0",
         "900.0"
        ],
        [
         "2",
         "1998-01-01 00:00:00",
         "10809",
         "52",
         "7.0",
         "0.0",
         "20",
         "Filo Mix",
         "24",
         "5",
         "0",
         "140.0"
        ],
        [
         "3",
         "1998-01-01 00:00:00",
         "10810",
         "13",
         "6.0",
         "0.0",
         "7",
         "Konbu",
         "6",
         "8",
         "0",
         "42.0"
        ],
        [
         "4",
         "1998-01-01 00:00:00",
         "10810",
         "25",
         "14.0",
         "0.0",
         "5",
         "NuNuCa Nuß-Nougat-Creme",
         "11",
         "3",
         "0",
         "70.0"
        ]
       ],
       "shape": {
        "columns": 11,
        "rows": 5
       }
      },
      "text/html": [
       "<div>\n",
       "<style scoped>\n",
       "    .dataframe tbody tr th:only-of-type {\n",
       "        vertical-align: middle;\n",
       "    }\n",
       "\n",
       "    .dataframe tbody tr th {\n",
       "        vertical-align: top;\n",
       "    }\n",
       "\n",
       "    .dataframe thead th {\n",
       "        text-align: right;\n",
       "    }\n",
       "</style>\n",
       "<table border=\"1\" class=\"dataframe\">\n",
       "  <thead>\n",
       "    <tr style=\"text-align: right;\">\n",
       "      <th></th>\n",
       "      <th>order_date</th>\n",
       "      <th>order_id</th>\n",
       "      <th>product_id</th>\n",
       "      <th>unit_price</th>\n",
       "      <th>discount</th>\n",
       "      <th>quantity</th>\n",
       "      <th>product_name</th>\n",
       "      <th>supplier_id</th>\n",
       "      <th>category_id</th>\n",
       "      <th>discontinued</th>\n",
       "      <th>revenue</th>\n",
       "    </tr>\n",
       "  </thead>\n",
       "  <tbody>\n",
       "    <tr>\n",
       "      <th>0</th>\n",
       "      <td>1998-01-01</td>\n",
       "      <td>10808</td>\n",
       "      <td>56</td>\n",
       "      <td>38.0</td>\n",
       "      <td>0.15</td>\n",
       "      <td>20</td>\n",
       "      <td>Gnocchi di nonna Alice</td>\n",
       "      <td>26</td>\n",
       "      <td>5</td>\n",
       "      <td>0</td>\n",
       "      <td>760.0</td>\n",
       "    </tr>\n",
       "    <tr>\n",
       "      <th>1</th>\n",
       "      <td>1998-01-01</td>\n",
       "      <td>10808</td>\n",
       "      <td>76</td>\n",
       "      <td>18.0</td>\n",
       "      <td>0.15</td>\n",
       "      <td>50</td>\n",
       "      <td>Lakkalikööri</td>\n",
       "      <td>23</td>\n",
       "      <td>1</td>\n",
       "      <td>0</td>\n",
       "      <td>900.0</td>\n",
       "    </tr>\n",
       "    <tr>\n",
       "      <th>2</th>\n",
       "      <td>1998-01-01</td>\n",
       "      <td>10809</td>\n",
       "      <td>52</td>\n",
       "      <td>7.0</td>\n",
       "      <td>0.00</td>\n",
       "      <td>20</td>\n",
       "      <td>Filo Mix</td>\n",
       "      <td>24</td>\n",
       "      <td>5</td>\n",
       "      <td>0</td>\n",
       "      <td>140.0</td>\n",
       "    </tr>\n",
       "    <tr>\n",
       "      <th>3</th>\n",
       "      <td>1998-01-01</td>\n",
       "      <td>10810</td>\n",
       "      <td>13</td>\n",
       "      <td>6.0</td>\n",
       "      <td>0.00</td>\n",
       "      <td>7</td>\n",
       "      <td>Konbu</td>\n",
       "      <td>6</td>\n",
       "      <td>8</td>\n",
       "      <td>0</td>\n",
       "      <td>42.0</td>\n",
       "    </tr>\n",
       "    <tr>\n",
       "      <th>4</th>\n",
       "      <td>1998-01-01</td>\n",
       "      <td>10810</td>\n",
       "      <td>25</td>\n",
       "      <td>14.0</td>\n",
       "      <td>0.00</td>\n",
       "      <td>5</td>\n",
       "      <td>NuNuCa Nuß-Nougat-Creme</td>\n",
       "      <td>11</td>\n",
       "      <td>3</td>\n",
       "      <td>0</td>\n",
       "      <td>70.0</td>\n",
       "    </tr>\n",
       "  </tbody>\n",
       "</table>\n",
       "</div>"
      ],
      "text/plain": [
       "  order_date  order_id  product_id  unit_price  discount  quantity  \\\n",
       "0 1998-01-01     10808          56        38.0      0.15        20   \n",
       "1 1998-01-01     10808          76        18.0      0.15        50   \n",
       "2 1998-01-01     10809          52         7.0      0.00        20   \n",
       "3 1998-01-01     10810          13         6.0      0.00         7   \n",
       "4 1998-01-01     10810          25        14.0      0.00         5   \n",
       "\n",
       "              product_name  supplier_id  category_id  discontinued  revenue  \n",
       "0   Gnocchi di nonna Alice           26            5             0    760.0  \n",
       "1             Lakkalikööri           23            1             0    900.0  \n",
       "2                 Filo Mix           24            5             0    140.0  \n",
       "3                    Konbu            6            8             0     42.0  \n",
       "4  NuNuCa Nuß-Nougat-Creme           11            3             0     70.0  "
      ]
     },
     "execution_count": 18,
     "metadata": {},
     "output_type": "execute_result"
    }
   ],
   "source": [
    "sales.head()"
   ]
  },
  {
   "cell_type": "code",
   "execution_count": 19,
   "id": "3b175f69",
   "metadata": {},
   "outputs": [],
   "source": [
    "abc = perform_abc(sales[['product_name', 'quantity', 'revenue']], 'product_name')"
   ]
  },
  {
   "cell_type": "code",
   "execution_count": 20,
   "id": "34da66bb",
   "metadata": {},
   "outputs": [
    {
     "data": {
      "image/png": "[encoded data removed]",
      "text/plain": [
       "<Figure size 1000x500 with 1 Axes>"
      ]
     },
     "metadata": {},
     "output_type": "display_data"
    }
   ],
   "source": [
    "abc[['quantity_abc', 'revenue_abc']].value_counts().sort_index()\\\n",
    "    .plot(kind='bar', colormap='Set3', figsize=(10, 5))\n",
    "plt.title('ABC Analysis by Quantity and Revenue');"
   ]
  },
  {
   "cell_type": "markdown",
   "id": "99866bd2",
   "metadata": {},
   "source": [
    "### Динаміка продажів\n",
    "\n",
    "[х] Оцінити структуру  \n",
    "[х] порахувати суму продажів за кожен день(місяц, квартал)  \n",
    "[х] порахувати динаміку   "
   ]
  },
  {
   "cell_type": "code",
   "execution_count": 21,
   "id": "3d139089",
   "metadata": {},
   "outputs": [
    {
     "data": {
      "application/vnd.microsoft.datawrangler.viewer.v0+json": {
       "columns": [
        {
         "name": "index",
         "rawType": "int64",
         "type": "integer"
        },
        {
         "name": "order_date",
         "rawType": "datetime64[ns]",
         "type": "datetime"
        },
        {
         "name": "order_id",
         "rawType": "int64",
         "type": "integer"
        },
        {
         "name": "product_id",
         "rawType": "int64",
         "type": "integer"
        },
        {
         "name": "unit_price",
         "rawType": "float64",
         "type": "float"
        },
        {
         "name": "discount",
         "rawType": "float64",
         "type": "float"
        },
        {
         "name": "quantity",
         "rawType": "int64",
         "type": "integer"
        },
        {
         "name": "product_name",
         "rawType": "object",
         "type": "string"
        },
        {
         "name": "supplier_id",
         "rawType": "int64",
         "type": "integer"
        },
        {
         "name": "category_id",
         "rawType": "int64",
         "type": "integer"
        },
        {
         "name": "discontinued",
         "rawType": "int64",
         "type": "integer"
        },
        {
         "name": "revenue",
         "rawType": "float64",
         "type": "float"
        }
       ],
       "conversionMethod": "pd.DataFrame",
       "ref": "b22cdf8d-35f0-4f41-9956-fee2fede6c61",
       "rows": [
        [
         "0",
         "1998-01-01 00:00:00",
         "10808",
         "56",
         "38.0",
         "0.15",
         "20",
         "Gnocchi di nonna Alice",
         "26",
         "5",
         "0",
         "760.0"
        ],
        [
         "1",
         "1998-01-01 00:00:00",
         "10808",
         "76",
         "18.0",
         "0.15",
         "50",
         "Lakkalikööri",
         "23",
         "1",
         "0",
         "900.0"
        ],
        [
         "2",
         "1998-01-01 00:00:00",
         "10809",
         "52",
         "7.0",
         "0.0",
         "20",
         "Filo Mix",
         "24",
         "5",
         "0",
         "140.0"
        ],
        [
         "3",
         "1998-01-01 00:00:00",
         "10810",
         "13",
         "6.0",
         "0.0",
         "7",
         "Konbu",
         "6",
         "8",
         "0",
         "42.0"
        ],
        [
         "4",
         "1998-01-01 00:00:00",
         "10810",
         "25",
         "14.0",
         "0.0",
         "5",
         "NuNuCa Nuß-Nougat-Creme",
         "11",
         "3",
         "0",
         "70.0"
        ]
       ],
       "shape": {
        "columns": 11,
        "rows": 5
       }
      },
      "text/html": [
       "<div>\n",
       "<style scoped>\n",
       "    .dataframe tbody tr th:only-of-type {\n",
       "        vertical-align: middle;\n",
       "    }\n",
       "\n",
       "    .dataframe tbody tr th {\n",
       "        vertical-align: top;\n",
       "    }\n",
       "\n",
       "    .dataframe thead th {\n",
       "        text-align: right;\n",
       "    }\n",
       "</style>\n",
       "<table border=\"1\" class=\"dataframe\">\n",
       "  <thead>\n",
       "    <tr style=\"text-align: right;\">\n",
       "      <th></th>\n",
       "      <th>order_date</th>\n",
       "      <th>order_id</th>\n",
       "      <th>product_id</th>\n",
       "      <th>unit_price</th>\n",
       "      <th>discount</th>\n",
       "      <th>quantity</th>\n",
       "      <th>product_name</th>\n",
       "      <th>supplier_id</th>\n",
       "      <th>category_id</th>\n",
       "      <th>discontinued</th>\n",
       "      <th>revenue</th>\n",
       "    </tr>\n",
       "  </thead>\n",
       "  <tbody>\n",
       "    <tr>\n",
       "      <th>0</th>\n",
       "      <td>1998-01-01</td>\n",
       "      <td>10808</td>\n",
       "      <td>56</td>\n",
       "      <td>38.0</td>\n",
       "      <td>0.15</td>\n",
       "      <td>20</td>\n",
       "      <td>Gnocchi di nonna Alice</td>\n",
       "      <td>26</td>\n",
       "      <td>5</td>\n",
       "      <td>0</td>\n",
       "      <td>760.0</td>\n",
       "    </tr>\n",
       "    <tr>\n",
       "      <th>1</th>\n",
       "      <td>1998-01-01</td>\n",
       "      <td>10808</td>\n",
       "      <td>76</td>\n",
       "      <td>18.0</td>\n",
       "      <td>0.15</td>\n",
       "      <td>50</td>\n",
       "      <td>Lakkalikööri</td>\n",
       "      <td>23</td>\n",
       "      <td>1</td>\n",
       "      <td>0</td>\n",
       "      <td>900.0</td>\n",
       "    </tr>\n",
       "    <tr>\n",
       "      <th>2</th>\n",
       "      <td>1998-01-01</td>\n",
       "      <td>10809</td>\n",
       "      <td>52</td>\n",
       "      <td>7.0</td>\n",
       "      <td>0.00</td>\n",
       "      <td>20</td>\n",
       "      <td>Filo Mix</td>\n",
       "      <td>24</td>\n",
       "      <td>5</td>\n",
       "      <td>0</td>\n",
       "      <td>140.0</td>\n",
       "    </tr>\n",
       "    <tr>\n",
       "      <th>3</th>\n",
       "      <td>1998-01-01</td>\n",
       "      <td>10810</td>\n",
       "      <td>13</td>\n",
       "      <td>6.0</td>\n",
       "      <td>0.00</td>\n",
       "      <td>7</td>\n",
       "      <td>Konbu</td>\n",
       "      <td>6</td>\n",
       "      <td>8</td>\n",
       "      <td>0</td>\n",
       "      <td>42.0</td>\n",
       "    </tr>\n",
       "    <tr>\n",
       "      <th>4</th>\n",
       "      <td>1998-01-01</td>\n",
       "      <td>10810</td>\n",
       "      <td>25</td>\n",
       "      <td>14.0</td>\n",
       "      <td>0.00</td>\n",
       "      <td>5</td>\n",
       "      <td>NuNuCa Nuß-Nougat-Creme</td>\n",
       "      <td>11</td>\n",
       "      <td>3</td>\n",
       "      <td>0</td>\n",
       "      <td>70.0</td>\n",
       "    </tr>\n",
       "  </tbody>\n",
       "</table>\n",
       "</div>"
      ],
      "text/plain": [
       "  order_date  order_id  product_id  unit_price  discount  quantity  \\\n",
       "0 1998-01-01     10808          56        38.0      0.15        20   \n",
       "1 1998-01-01     10808          76        18.0      0.15        50   \n",
       "2 1998-01-01     10809          52         7.0      0.00        20   \n",
       "3 1998-01-01     10810          13         6.0      0.00         7   \n",
       "4 1998-01-01     10810          25        14.0      0.00         5   \n",
       "\n",
       "              product_name  supplier_id  category_id  discontinued  revenue  \n",
       "0   Gnocchi di nonna Alice           26            5             0    760.0  \n",
       "1             Lakkalikööri           23            1             0    900.0  \n",
       "2                 Filo Mix           24            5             0    140.0  \n",
       "3                    Konbu            6            8             0     42.0  \n",
       "4  NuNuCa Nuß-Nougat-Creme           11            3             0     70.0  "
      ]
     },
     "execution_count": 21,
     "metadata": {},
     "output_type": "execute_result"
    }
   ],
   "source": [
    "sales.head()"
   ]
  },
  {
   "cell_type": "code",
   "execution_count": 23,
   "id": "e31927ba",
   "metadata": {},
   "outputs": [
    {
     "data": {
      "image/png": "[encoded data removed]",
      "text/plain": [
       "<Figure size 1200x600 with 1 Axes>"
      ]
     },
     "metadata": {},
     "output_type": "display_data"
    }
   ],
   "source": [
    "\n",
    "daily_sales = sales.groupby('order_date').agg({'revenue': 'sum'}).reset_index()\n",
    "\n",
    "\n",
    "plt.figure(figsize=(12, 6))\n",
    "plt.plot(daily_sales['order_date'], daily_sales['revenue'], marker='o', label='Виручка', color=plt.get_cmap('viridis')(0.5))\n",
    "plt.title('Динаміка продажів по дням', fontsize=16)\n",
    "plt.xlabel('Дата', fontsize=12)\n",
    "plt.ylabel('Виручка', fontsize=12)\n",
    "plt.grid(True)\n",
    "plt.legend()\n",
    "plt.show()"
   ]
  },
  {
   "cell_type": "markdown",
   "metadata": {},
   "source": [
    "Видно, що є дні в які нам непогано пощастило заробити. Я б подивився за рахунок чого. "
   ]
  },
  {
   "cell_type": "code",
   "execution_count": 24,
   "metadata": {},
   "outputs": [
    {
     "data": {
      "application/vnd.microsoft.datawrangler.viewer.v0+json": {
       "columns": [
        {
         "name": "index",
         "rawType": "int64",
         "type": "integer"
        },
        {
         "name": "order_date",
         "rawType": "datetime64[ns]",
         "type": "datetime"
        },
        {
         "name": "order_id",
         "rawType": "int64",
         "type": "integer"
        },
        {
         "name": "product_id",
         "rawType": "int64",
         "type": "integer"
        },
        {
         "name": "unit_price",
         "rawType": "float64",
         "type": "float"
        },
        {
         "name": "discount",
         "rawType": "float64",
         "type": "float"
        },
        {
         "name": "quantity",
         "rawType": "int64",
         "type": "integer"
        },
        {
         "name": "product_name",
         "rawType": "object",
         "type": "string"
        },
        {
         "name": "supplier_id",
         "rawType": "int64",
         "type": "integer"
        },
        {
         "name": "category_id",
         "rawType": "int64",
         "type": "integer"
        },
        {
         "name": "discontinued",
         "rawType": "int64",
         "type": "integer"
        },
        {
         "name": "revenue",
         "rawType": "float64",
         "type": "float"
        }
       ],
       "conversionMethod": "pd.DataFrame",
       "ref": "39a034ab-71fe-405d-948c-b9614236c25b",
       "rows": [
        [
         "19",
         "1998-01-06 00:00:00",
         "10816",
         "38",
         "263.5",
         "0.05",
         "30",
         "Côte de Blaye",
         "18",
         "1",
         "0",
         "7905.0"
        ],
        [
         "20",
         "1998-01-06 00:00:00",
         "10816",
         "62",
         "49.3",
         "0.05",
         "20",
         "Tarte au sucre",
         "29",
         "3",
         "0",
         "986.0"
        ],
        [
         "21",
         "1998-01-06 00:00:00",
         "10817",
         "26",
         "31.23",
         "0.15",
         "40",
         "Gumbär Gummibärchen",
         "11",
         "3",
         "0",
         "1249.2"
        ],
        [
         "22",
         "1998-01-06 00:00:00",
         "10817",
         "38",
         "263.5",
         "0.0",
         "30",
         "Côte de Blaye",
         "18",
         "1",
         "0",
         "7905.0"
        ],
        [
         "23",
         "1998-01-06 00:00:00",
         "10817",
         "40",
         "18.4",
         "0.15",
         "60",
         "Boston Crab Meat",
         "19",
         "8",
         "0",
         "1104.0"
        ]
       ],
       "shape": {
        "columns": 11,
        "rows": 5
       }
      },
      "text/html": [
       "<div>\n",
       "<style scoped>\n",
       "    .dataframe tbody tr th:only-of-type {\n",
       "        vertical-align: middle;\n",
       "    }\n",
       "\n",
       "    .dataframe tbody tr th {\n",
       "        vertical-align: top;\n",
       "    }\n",
       "\n",
       "    .dataframe thead th {\n",
       "        text-align: right;\n",
       "    }\n",
       "</style>\n",
       "<table border=\"1\" class=\"dataframe\">\n",
       "  <thead>\n",
       "    <tr style=\"text-align: right;\">\n",
       "      <th></th>\n",
       "      <th>order_date</th>\n",
       "      <th>order_id</th>\n",
       "      <th>product_id</th>\n",
       "      <th>unit_price</th>\n",
       "      <th>discount</th>\n",
       "      <th>quantity</th>\n",
       "      <th>product_name</th>\n",
       "      <th>supplier_id</th>\n",
       "      <th>category_id</th>\n",
       "      <th>discontinued</th>\n",
       "      <th>revenue</th>\n",
       "    </tr>\n",
       "  </thead>\n",
       "  <tbody>\n",
       "    <tr>\n",
       "      <th>19</th>\n",
       "      <td>1998-01-06</td>\n",
       "      <td>10816</td>\n",
       "      <td>38</td>\n",
       "      <td>263.50</td>\n",
       "      <td>0.05</td>\n",
       "      <td>30</td>\n",
       "      <td>Côte de Blaye</td>\n",
       "      <td>18</td>\n",
       "      <td>1</td>\n",
       "      <td>0</td>\n",
       "      <td>7905.0</td>\n",
       "    </tr>\n",
       "    <tr>\n",
       "      <th>20</th>\n",
       "      <td>1998-01-06</td>\n",
       "      <td>10816</td>\n",
       "      <td>62</td>\n",
       "      <td>49.30</td>\n",
       "      <td>0.05</td>\n",
       "      <td>20</td>\n",
       "      <td>Tarte au sucre</td>\n",
       "      <td>29</td>\n",
       "      <td>3</td>\n",
       "      <td>0</td>\n",
       "      <td>986.0</td>\n",
       "    </tr>\n",
       "    <tr>\n",
       "      <th>21</th>\n",
       "      <td>1998-01-06</td>\n",
       "      <td>10817</td>\n",
       "      <td>26</td>\n",
       "      <td>31.23</td>\n",
       "      <td>0.15</td>\n",
       "      <td>40</td>\n",
       "      <td>Gumbär Gummibärchen</td>\n",
       "      <td>11</td>\n",
       "      <td>3</td>\n",
       "      <td>0</td>\n",
       "      <td>1249.2</td>\n",
       "    </tr>\n",
       "    <tr>\n",
       "      <th>22</th>\n",
       "      <td>1998-01-06</td>\n",
       "      <td>10817</td>\n",
       "      <td>38</td>\n",
       "      <td>263.50</td>\n",
       "      <td>0.00</td>\n",
       "      <td>30</td>\n",
       "      <td>Côte de Blaye</td>\n",
       "      <td>18</td>\n",
       "      <td>1</td>\n",
       "      <td>0</td>\n",
       "      <td>7905.0</td>\n",
       "    </tr>\n",
       "    <tr>\n",
       "      <th>23</th>\n",
       "      <td>1998-01-06</td>\n",
       "      <td>10817</td>\n",
       "      <td>40</td>\n",
       "      <td>18.40</td>\n",
       "      <td>0.15</td>\n",
       "      <td>60</td>\n",
       "      <td>Boston Crab Meat</td>\n",
       "      <td>19</td>\n",
       "      <td>8</td>\n",
       "      <td>0</td>\n",
       "      <td>1104.0</td>\n",
       "    </tr>\n",
       "  </tbody>\n",
       "</table>\n",
       "</div>"
      ],
      "text/plain": [
       "   order_date  order_id  product_id  unit_price  discount  quantity  \\\n",
       "19 1998-01-06     10816          38      263.50      0.05        30   \n",
       "20 1998-01-06     10816          62       49.30      0.05        20   \n",
       "21 1998-01-06     10817          26       31.23      0.15        40   \n",
       "22 1998-01-06     10817          38      263.50      0.00        30   \n",
       "23 1998-01-06     10817          40       18.40      0.15        60   \n",
       "\n",
       "           product_name  supplier_id  category_id  discontinued  revenue  \n",
       "19        Côte de Blaye           18            1             0   7905.0  \n",
       "20       Tarte au sucre           29            3             0    986.0  \n",
       "21  Gumbär Gummibärchen           11            3             0   1249.2  \n",
       "22        Côte de Blaye           18            1             0   7905.0  \n",
       "23     Boston Crab Meat           19            8             0   1104.0  "
      ]
     },
     "execution_count": 24,
     "metadata": {},
     "output_type": "execute_result"
    }
   ],
   "source": [
    "sales[sales['order_date'].isin(daily_sales[daily_sales['revenue'] > 15000]['order_date'])].head()"
   ]
  },
  {
   "cell_type": "markdown",
   "metadata": {},
   "source": [
    "Ми маємо дані за чотири місяці. Промоную додати додаткові колонки такі як місяць та тиждень. І потім будемо відстежувати динаміку по дню, тижню та місяцю. "
   ]
  },
  {
   "cell_type": "code",
   "execution_count": 25,
   "metadata": {},
   "outputs": [],
   "source": [
    "sales['week'] = sales['order_date'].dt.isocalendar().week"
   ]
  },
  {
   "cell_type": "code",
   "execution_count": 26,
   "metadata": {},
   "outputs": [],
   "source": [
    "sales['month'] = sales['order_date'].dt.month"
   ]
  },
  {
   "cell_type": "code",
   "execution_count": 27,
   "id": "f8bf772c",
   "metadata": {},
   "outputs": [
    {
     "data": {
      "image/png": "[encoded data removed]",
      "text/plain": [
       "<Figure size 1200x600 with 1 Axes>"
      ]
     },
     "metadata": {},
     "output_type": "display_data"
    }
   ],
   "source": [
    "\n",
    "weekly_sales = sales.groupby('week').agg({'revenue': 'sum'}).reset_index()\n",
    "\n",
    "\n",
    "plt.figure(figsize=(12, 6))\n",
    "plt.plot(weekly_sales['week'], weekly_sales['revenue'], marker='o', label='Виручка', color=plt.get_cmap('viridis')(0.5))\n",
    "plt.title('Динаміка продажів по тижням', fontsize=16)\n",
    "plt.xlabel('Дата', fontsize=12)\n",
    "plt.ylabel('Виручка', fontsize=12)\n",
    "plt.grid(True)\n",
    "plt.legend()\n",
    "plt.show()"
   ]
  },
  {
   "cell_type": "code",
   "execution_count": 28,
   "metadata": {},
   "outputs": [
    {
     "data": {
      "image/png": "[encoded data removed]",
      "text/plain": [
       "<Figure size 1200x600 with 1 Axes>"
      ]
     },
     "metadata": {},
     "output_type": "display_data"
    }
   ],
   "source": [
    "monthly_sales = sales.groupby('month').agg({'revenue': 'sum'}).reset_index()\n",
    "\n",
    "\n",
    "plt.figure(figsize=(12, 6))\n",
    "plt.plot(monthly_sales['month'], monthly_sales['revenue'], marker='o', label='Виручка', color=plt.get_cmap('viridis')(0.5))\n",
    "plt.title('Динаміка продажів по місяцям', fontsize=16)\n",
    "plt.xlabel('Дата', fontsize=12)\n",
    "plt.ylabel('Виручка', fontsize=12)\n",
    "plt.grid(True)\n",
    "plt.legend()\n",
    "plt.show()"
   ]
  },
  {
   "cell_type": "markdown",
   "metadata": {},
   "source": [
    "Поглянемо на динаміку продажів стосовно попереднього місяця у відсотках. "
   ]
  },
  {
   "cell_type": "code",
   "execution_count": 29,
   "metadata": {},
   "outputs": [
    {
     "data": {
      "text/plain": [
       "0      NaN\n",
       "1     2.49\n",
       "2     6.69\n",
       "3    18.36\n",
       "Name: revenue, dtype: float64"
      ]
     },
     "execution_count": 29,
     "metadata": {},
     "output_type": "execute_result"
    }
   ],
   "source": [
    "round(monthly_sales['revenue'].pct_change()*100, 2)"
   ]
  },
  {
   "cell_type": "markdown",
   "metadata": {},
   "source": [
    "В квітні приросли достатньо сильно аж на 18%.  \n",
    "Але не треба забувати, що у нас в квітні був один день де ми продали більше ніж на 25000. Його треба буде розібрати більш детально. "
   ]
  },
  {
   "cell_type": "markdown",
   "metadata": {},
   "source": [
    "### XYZ - аналіз \n",
    "\n",
    "[x] Рахуємо продажі по дням з розбивкою по товарах  \n",
    "[x] Рахуємо коефіціент варіації  \n",
    "[x] Оприділяємо групу "
   ]
  },
  {
   "cell_type": "code",
   "execution_count": 30,
   "metadata": {},
   "outputs": [
    {
     "data": {
      "application/vnd.microsoft.datawrangler.viewer.v0+json": {
       "columns": [
        {
         "name": "index",
         "rawType": "int64",
         "type": "integer"
        },
        {
         "name": "order_date",
         "rawType": "datetime64[ns]",
         "type": "datetime"
        },
        {
         "name": "order_id",
         "rawType": "int64",
         "type": "integer"
        },
        {
         "name": "product_id",
         "rawType": "int64",
         "type": "integer"
        },
        {
         "name": "unit_price",
         "rawType": "float64",
         "type": "float"
        },
        {
         "name": "discount",
         "rawType": "float64",
         "type": "float"
        },
        {
         "name": "quantity",
         "rawType": "int64",
         "type": "integer"
        },
        {
         "name": "product_name",
         "rawType": "object",
         "type": "string"
        },
        {
         "name": "supplier_id",
         "rawType": "int64",
         "type": "integer"
        },
        {
         "name": "category_id",
         "rawType": "int64",
         "type": "integer"
        },
        {
         "name": "discontinued",
         "rawType": "int64",
         "type": "integer"
        },
        {
         "name": "revenue",
         "rawType": "float64",
         "type": "float"
        },
        {
         "name": "week",
         "rawType": "UInt32",
         "type": "integer"
        },
        {
         "name": "month",
         "rawType": "int32",
         "type": "integer"
        }
       ],
       "conversionMethod": "pd.DataFrame",
       "ref": "8a593e64-750c-475c-a1f0-9104456a6274",
       "rows": [
        [
         "0",
         "1998-01-01 00:00:00",
         "10808",
         "56",
         "38.0",
         "0.15",
         "20",
         "Gnocchi di nonna Alice",
         "26",
         "5",
         "0",
         "760.0",
         "1",
         "1"
        ],
        [
         "1",
         "1998-01-01 00:00:00",
         "10808",
         "76",
         "18.0",
         "0.15",
         "50",
         "Lakkalikööri",
         "23",
         "1",
         "0",
         "900.0",
         "1",
         "1"
        ],
        [
         "2",
         "1998-01-01 00:00:00",
         "10809",
         "52",
         "7.0",
         "0.0",
         "20",
         "Filo Mix",
         "24",
         "5",
         "0",
         "140.0",
         "1",
         "1"
        ],
        [
         "3",
         "1998-01-01 00:00:00",
         "10810",
         "13",
         "6.0",
         "0.0",
         "7",
         "Konbu",
         "6",
         "8",
         "0",
         "42.0",
         "1",
         "1"
        ],
        [
         "4",
         "1998-01-01 00:00:00",
         "10810",
         "25",
         "14.0",
         "0.0",
         "5",
         "NuNuCa Nuß-Nougat-Creme",
         "11",
         "3",
         "0",
         "70.0",
         "1",
         "1"
        ]
       ],
       "shape": {
        "columns": 13,
        "rows": 5
       }
      },
      "text/html": [
       "<div>\n",
       "<style scoped>\n",
       "    .dataframe tbody tr th:only-of-type {\n",
       "        vertical-align: middle;\n",
       "    }\n",
       "\n",
       "    .dataframe tbody tr th {\n",
       "        vertical-align: top;\n",
       "    }\n",
       "\n",
       "    .dataframe thead th {\n",
       "        text-align: right;\n",
       "    }\n",
       "</style>\n",
       "<table border=\"1\" class=\"dataframe\">\n",
       "  <thead>\n",
       "    <tr style=\"text-align: right;\">\n",
       "      <th></th>\n",
       "      <th>order_date</th>\n",
       "      <th>order_id</th>\n",
       "      <th>product_id</th>\n",
       "      <th>unit_price</th>\n",
       "      <th>discount</th>\n",
       "      <th>quantity</th>\n",
       "      <th>product_name</th>\n",
       "      <th>supplier_id</th>\n",
       "      <th>category_id</th>\n",
       "      <th>discontinued</th>\n",
       "      <th>revenue</th>\n",
       "      <th>week</th>\n",
       "      <th>month</th>\n",
       "    </tr>\n",
       "  </thead>\n",
       "  <tbody>\n",
       "    <tr>\n",
       "      <th>0</th>\n",
       "      <td>1998-01-01</td>\n",
       "      <td>10808</td>\n",
       "      <td>56</td>\n",
       "      <td>38.0</td>\n",
       "      <td>0.15</td>\n",
       "      <td>20</td>\n",
       "      <td>Gnocchi di nonna Alice</td>\n",
       "      <td>26</td>\n",
       "      <td>5</td>\n",
       "      <td>0</td>\n",
       "      <td>760.0</td>\n",
       "      <td>1</td>\n",
       "      <td>1</td>\n",
       "    </tr>\n",
       "    <tr>\n",
       "      <th>1</th>\n",
       "      <td>1998-01-01</td>\n",
       "      <td>10808</td>\n",
       "      <td>76</td>\n",
       "      <td>18.0</td>\n",
       "      <td>0.15</td>\n",
       "      <td>50</td>\n",
       "      <td>Lakkalikööri</td>\n",
       "      <td>23</td>\n",
       "      <td>1</td>\n",
       "      <td>0</td>\n",
       "      <td>900.0</td>\n",
       "      <td>1</td>\n",
       "      <td>1</td>\n",
       "    </tr>\n",
       "    <tr>\n",
       "      <th>2</th>\n",
       "      <td>1998-01-01</td>\n",
       "      <td>10809</td>\n",
       "      <td>52</td>\n",
       "      <td>7.0</td>\n",
       "      <td>0.00</td>\n",
       "      <td>20</td>\n",
       "      <td>Filo Mix</td>\n",
       "      <td>24</td>\n",
       "      <td>5</td>\n",
       "      <td>0</td>\n",
       "      <td>140.0</td>\n",
       "      <td>1</td>\n",
       "      <td>1</td>\n",
       "    </tr>\n",
       "    <tr>\n",
       "      <th>3</th>\n",
       "      <td>1998-01-01</td>\n",
       "      <td>10810</td>\n",
       "      <td>13</td>\n",
       "      <td>6.0</td>\n",
       "      <td>0.00</td>\n",
       "      <td>7</td>\n",
       "      <td>Konbu</td>\n",
       "      <td>6</td>\n",
       "      <td>8</td>\n",
       "      <td>0</td>\n",
       "      <td>42.0</td>\n",
       "      <td>1</td>\n",
       "      <td>1</td>\n",
       "    </tr>\n",
       "    <tr>\n",
       "      <th>4</th>\n",
       "      <td>1998-01-01</td>\n",
       "      <td>10810</td>\n",
       "      <td>25</td>\n",
       "      <td>14.0</td>\n",
       "      <td>0.00</td>\n",
       "      <td>5</td>\n",
       "      <td>NuNuCa Nuß-Nougat-Creme</td>\n",
       "      <td>11</td>\n",
       "      <td>3</td>\n",
       "      <td>0</td>\n",
       "      <td>70.0</td>\n",
       "      <td>1</td>\n",
       "      <td>1</td>\n",
       "    </tr>\n",
       "  </tbody>\n",
       "</table>\n",
       "</div>"
      ],
      "text/plain": [
       "  order_date  order_id  product_id  unit_price  discount  quantity  \\\n",
       "0 1998-01-01     10808          56        38.0      0.15        20   \n",
       "1 1998-01-01     10808          76        18.0      0.15        50   \n",
       "2 1998-01-01     10809          52         7.0      0.00        20   \n",
       "3 1998-01-01     10810          13         6.0      0.00         7   \n",
       "4 1998-01-01     10810          25        14.0      0.00         5   \n",
       "\n",
       "              product_name  supplier_id  category_id  discontinued  revenue  \\\n",
       "0   Gnocchi di nonna Alice           26            5             0    760.0   \n",
       "1             Lakkalikööri           23            1             0    900.0   \n",
       "2                 Filo Mix           24            5             0    140.0   \n",
       "3                    Konbu            6            8             0     42.0   \n",
       "4  NuNuCa Nuß-Nougat-Creme           11            3             0     70.0   \n",
       "\n",
       "   week  month  \n",
       "0     1      1  \n",
       "1     1      1  \n",
       "2     1      1  \n",
       "3     1      1  \n",
       "4     1      1  "
      ]
     },
     "execution_count": 30,
     "metadata": {},
     "output_type": "execute_result"
    }
   ],
   "source": [
    "sales.head()"
   ]
  },
  {
   "cell_type": "markdown",
   "metadata": {},
   "source": [
    "Спочатку дізнаємось скільки кожного товару продаеться по місяцям."
   ]
  },
  {
   "cell_type": "code",
   "execution_count": 31,
   "metadata": {},
   "outputs": [
    {
     "data": {
      "application/vnd.microsoft.datawrangler.viewer.v0+json": {
       "columns": [
        {
         "name": "index",
         "rawType": "int64",
         "type": "integer"
        },
        {
         "name": "month",
         "rawType": "int32",
         "type": "integer"
        },
        {
         "name": "product_name",
         "rawType": "object",
         "type": "string"
        },
        {
         "name": "quantity",
         "rawType": "int64",
         "type": "integer"
        }
       ],
       "conversionMethod": "pd.DataFrame",
       "ref": "8fe92a6c-d0da-4a2f-a93c-2e341206e0e3",
       "rows": [
        [
         "0",
         "1",
         "Alice Mutton",
         "48"
        ],
        [
         "1",
         "1",
         "Aniseed Syrup",
         "79"
        ],
        [
         "2",
         "1",
         "Boston Crab Meat",
         "115"
        ],
        [
         "3",
         "1",
         "Camembert Pierrot",
         "156"
        ],
        [
         "4",
         "1",
         "Carnarvon Tigers",
         "55"
        ]
       ],
       "shape": {
        "columns": 3,
        "rows": 5
       }
      },
      "text/html": [
       "<div>\n",
       "<style scoped>\n",
       "    .dataframe tbody tr th:only-of-type {\n",
       "        vertical-align: middle;\n",
       "    }\n",
       "\n",
       "    .dataframe tbody tr th {\n",
       "        vertical-align: top;\n",
       "    }\n",
       "\n",
       "    .dataframe thead th {\n",
       "        text-align: right;\n",
       "    }\n",
       "</style>\n",
       "<table border=\"1\" class=\"dataframe\">\n",
       "  <thead>\n",
       "    <tr style=\"text-align: right;\">\n",
       "      <th></th>\n",
       "      <th>month</th>\n",
       "      <th>product_name</th>\n",
       "      <th>quantity</th>\n",
       "    </tr>\n",
       "  </thead>\n",
       "  <tbody>\n",
       "    <tr>\n",
       "      <th>0</th>\n",
       "      <td>1</td>\n",
       "      <td>Alice Mutton</td>\n",
       "      <td>48</td>\n",
       "    </tr>\n",
       "    <tr>\n",
       "      <th>1</th>\n",
       "      <td>1</td>\n",
       "      <td>Aniseed Syrup</td>\n",
       "      <td>79</td>\n",
       "    </tr>\n",
       "    <tr>\n",
       "      <th>2</th>\n",
       "      <td>1</td>\n",
       "      <td>Boston Crab Meat</td>\n",
       "      <td>115</td>\n",
       "    </tr>\n",
       "    <tr>\n",
       "      <th>3</th>\n",
       "      <td>1</td>\n",
       "      <td>Camembert Pierrot</td>\n",
       "      <td>156</td>\n",
       "    </tr>\n",
       "    <tr>\n",
       "      <th>4</th>\n",
       "      <td>1</td>\n",
       "      <td>Carnarvon Tigers</td>\n",
       "      <td>55</td>\n",
       "    </tr>\n",
       "  </tbody>\n",
       "</table>\n",
       "</div>"
      ],
      "text/plain": [
       "   month       product_name  quantity\n",
       "0      1       Alice Mutton        48\n",
       "1      1      Aniseed Syrup        79\n",
       "2      1   Boston Crab Meat       115\n",
       "3      1  Camembert Pierrot       156\n",
       "4      1   Carnarvon Tigers        55"
      ]
     },
     "execution_count": 31,
     "metadata": {},
     "output_type": "execute_result"
    }
   ],
   "source": [
    "df = sales.groupby([ 'month','product_name']).agg({'quantity': 'sum'}).reset_index()\n",
    "df.head()"
   ]
  },
  {
   "cell_type": "markdown",
   "metadata": {},
   "source": [
    "Знайдемо коваріацію по полю quantity"
   ]
  },
  {
   "cell_type": "code",
   "execution_count": 32,
   "metadata": {},
   "outputs": [
    {
     "data": {
      "application/vnd.microsoft.datawrangler.viewer.v0+json": {
       "columns": [
        {
         "name": "index",
         "rawType": "int64",
         "type": "integer"
        },
        {
         "name": "product_name",
         "rawType": "object",
         "type": "string"
        },
        {
         "name": "cov",
         "rawType": "float64",
         "type": "float"
        }
       ],
       "conversionMethod": "pd.DataFrame",
       "ref": "e4f53e7a-1d09-484d-bb23-7b473f16fca3",
       "rows": [
        [
         "0",
         "Alice Mutton",
         "0.5436085025840127"
        ],
        [
         "1",
         "Aniseed Syrup",
         "0.7343031958475686"
        ],
        [
         "2",
         "Boston Crab Meat",
         "0.5284239619703085"
        ],
        [
         "3",
         "Camembert Pierrot",
         "0.26404749403051553"
        ],
        [
         "4",
         "Carnarvon Tigers",
         "0.5032531626747574"
        ],
        [
         "5",
         "Chai",
         "0.11376366493962194"
        ],
        [
         "6",
         "Chang",
         "0.982157628406674"
        ],
        [
         "7",
         "Chartreuse verte",
         "0.7177444175615947"
        ],
        [
         "8",
         "Chef Anton's Cajun Seasoning",
         "0.5339654842241512"
        ],
        [
         "9",
         "Chef Anton's Gumbo Mix",
         "0.8717797887081348"
        ],
        [
         "10",
         "Chocolade",
         null
        ],
        [
         "11",
         "Côte de Blaye",
         "0.4741856925360751"
        ],
        [
         "12",
         "Escargots de Bourgogne",
         "0.5317117458256456"
        ],
        [
         "13",
         "Filo Mix",
         "0.6032689585417638"
        ],
        [
         "14",
         "Flotemysost",
         "0.8763608788883379"
        ],
        [
         "15",
         "Geitost",
         "0.4014482164893722"
        ],
        [
         "16",
         "Gnocchi di nonna Alice",
         "0.7550101065564356"
        ],
        [
         "17",
         "Gorgonzola Telino",
         "0.8804619220769374"
        ],
        [
         "18",
         "Grandma's Boysenberry Spread",
         "0.8549285220284664"
        ],
        [
         "19",
         "Gravad lax",
         "1.0814574300500137"
        ],
        [
         "20",
         "Guaraná Fantástica",
         "0.5072306051909443"
        ],
        [
         "21",
         "Gudbrandsdalsost",
         "0.531013473126601"
        ],
        [
         "22",
         "Gula Malacca",
         "0.2546077926751042"
        ],
        [
         "23",
         "Gumbär Gummibärchen",
         "0.9078932726867289"
        ],
        [
         "24",
         "Gustaf's Knäckebröd",
         "0.8346880653460401"
        ],
        [
         "25",
         "Ikura",
         "0.5642610790966194"
        ],
        [
         "26",
         "Inlagd Sill",
         "0.5402899360437302"
        ],
        [
         "27",
         "Ipoh Coffee",
         "0.19078784028338913"
        ],
        [
         "28",
         "Jack's New England Clam Chowder",
         "0.5258522159705197"
        ],
        [
         "29",
         "Konbu",
         "0.6180506932732635"
        ],
        [
         "30",
         "Lakkalikööri",
         "0.6490555094213305"
        ],
        [
         "31",
         "Laughing Lumberjack Lager",
         "0.606976978666884"
        ],
        [
         "32",
         "Longlife Tofu",
         "0.0"
        ],
        [
         "33",
         "Louisiana Fiery Hot Pepper Sauce",
         "0.8018104514160438"
        ],
        [
         "34",
         "Manjimup Dried Apples",
         "1.0918879275242952"
        ],
        [
         "35",
         "Mascarpone Fabioli",
         "0.9433838577940088"
        ],
        [
         "36",
         "Maxilaku",
         "0.18043107788434926"
        ],
        [
         "37",
         "Mishi Kobe Niku",
         null
        ],
        [
         "38",
         "Mozzarella di Giovanni",
         "0.5130318671289769"
        ],
        [
         "39",
         "Nord-Ost Matjeshering",
         "1.0922443340137706"
        ],
        [
         "40",
         "Northwoods Cranberry Sauce",
         "0.22873274416244135"
        ],
        [
         "41",
         "NuNuCa Nuß-Nougat-Creme",
         "0.831778790111091"
        ],
        [
         "42",
         "Original Frankfurter grüne Soße",
         "0.16946507773811495"
        ],
        [
         "43",
         "Outback Lager",
         "0.163343783068783"
        ],
        [
         "44",
         "Pavlova",
         "0.7088250008313133"
        ],
        [
         "45",
         "Perth Pasties",
         "0.9817522746467361"
        ],
        [
         "46",
         "Pâté chinois",
         "1.0171253610052204"
        ],
        [
         "47",
         "Queso Cabrales",
         "0.6227367946911478"
        ],
        [
         "48",
         "Queso Manchego La Pastora",
         "0.09026895078977201"
        ],
        [
         "49",
         "Raclette Courdavault",
         "1.112915330068534"
        ]
       ],
       "shape": {
        "columns": 2,
        "rows": 74
       }
      },
      "text/html": [
       "<div>\n",
       "<style scoped>\n",
       "    .dataframe tbody tr th:only-of-type {\n",
       "        vertical-align: middle;\n",
       "    }\n",
       "\n",
       "    .dataframe tbody tr th {\n",
       "        vertical-align: top;\n",
       "    }\n",
       "\n",
       "    .dataframe thead th {\n",
       "        text-align: right;\n",
       "    }\n",
       "</style>\n",
       "<table border=\"1\" class=\"dataframe\">\n",
       "  <thead>\n",
       "    <tr style=\"text-align: right;\">\n",
       "      <th></th>\n",
       "      <th>product_name</th>\n",
       "      <th>cov</th>\n",
       "    </tr>\n",
       "  </thead>\n",
       "  <tbody>\n",
       "    <tr>\n",
       "      <th>0</th>\n",
       "      <td>Alice Mutton</td>\n",
       "      <td>0.543609</td>\n",
       "    </tr>\n",
       "    <tr>\n",
       "      <th>1</th>\n",
       "      <td>Aniseed Syrup</td>\n",
       "      <td>0.734303</td>\n",
       "    </tr>\n",
       "    <tr>\n",
       "      <th>2</th>\n",
       "      <td>Boston Crab Meat</td>\n",
       "      <td>0.528424</td>\n",
       "    </tr>\n",
       "    <tr>\n",
       "      <th>3</th>\n",
       "      <td>Camembert Pierrot</td>\n",
       "      <td>0.264047</td>\n",
       "    </tr>\n",
       "    <tr>\n",
       "      <th>4</th>\n",
       "      <td>Carnarvon Tigers</td>\n",
       "      <td>0.503253</td>\n",
       "    </tr>\n",
       "    <tr>\n",
       "      <th>...</th>\n",
       "      <td>...</td>\n",
       "      <td>...</td>\n",
       "    </tr>\n",
       "    <tr>\n",
       "      <th>69</th>\n",
       "      <td>Uncle Bob's Organic Dried Pears</td>\n",
       "      <td>0.908478</td>\n",
       "    </tr>\n",
       "    <tr>\n",
       "      <th>70</th>\n",
       "      <td>Valkoinen suklaa</td>\n",
       "      <td>NaN</td>\n",
       "    </tr>\n",
       "    <tr>\n",
       "      <th>71</th>\n",
       "      <td>Vegie-spread</td>\n",
       "      <td>0.606092</td>\n",
       "    </tr>\n",
       "    <tr>\n",
       "      <th>72</th>\n",
       "      <td>Wimmers gute Semmelknödel</td>\n",
       "      <td>0.836975</td>\n",
       "    </tr>\n",
       "    <tr>\n",
       "      <th>73</th>\n",
       "      <td>Zaanse koeken</td>\n",
       "      <td>0.389851</td>\n",
       "    </tr>\n",
       "  </tbody>\n",
       "</table>\n",
       "<p>74 rows × 2 columns</p>\n",
       "</div>"
      ],
      "text/plain": [
       "                       product_name       cov\n",
       "0                      Alice Mutton  0.543609\n",
       "1                     Aniseed Syrup  0.734303\n",
       "2                  Boston Crab Meat  0.528424\n",
       "3                 Camembert Pierrot  0.264047\n",
       "4                  Carnarvon Tigers  0.503253\n",
       "..                              ...       ...\n",
       "69  Uncle Bob's Organic Dried Pears  0.908478\n",
       "70                 Valkoinen suklaa       NaN\n",
       "71                     Vegie-spread  0.606092\n",
       "72        Wimmers gute Semmelknödel  0.836975\n",
       "73                    Zaanse koeken  0.389851\n",
       "\n",
       "[74 rows x 2 columns]"
      ]
     },
     "execution_count": 32,
     "metadata": {},
     "output_type": "execute_result"
    }
   ],
   "source": [
    "df = df.groupby('product_name').apply(lambda x: x.std()/x.mean())['quantity'].reset_index()\n",
    "df.rename(columns={'quantity':'cov' }, inplace=True)\n",
    "df"
   ]
  },
  {
   "cell_type": "markdown",
   "metadata": {},
   "source": [
    "Присвоїмо кожному товару групу в залежності від величини коваріації.  \n",
    "Чим більша коваріація тим менше прогнозовані продажі товару.  \n",
    "Візьмемо стандартні пороги X < 10%, Y < 25%, Z - всі інші. "
   ]
  },
  {
   "cell_type": "code",
   "execution_count": 33,
   "metadata": {},
   "outputs": [],
   "source": [
    "df['xyz']  = np.where(df['cov'] < 0.1, 'X', np.where(df['cov'] < 0.25, 'Y', 'Z'))\n"
   ]
  },
  {
   "cell_type": "markdown",
   "metadata": {},
   "source": [
    "Об'єднаємо XYZ і АВС.  \n",
    "Подивимось розподіл товарів по прогнозованості продажів. "
   ]
  },
  {
   "cell_type": "code",
   "execution_count": 34,
   "metadata": {},
   "outputs": [
    {
     "data": {
      "image/png": "[encoded data removed]",
      "text/plain": [
       "<Figure size 1000x500 with 1 Axes>"
      ]
     },
     "metadata": {},
     "output_type": "display_data"
    }
   ],
   "source": [
    "final = df.merge(abc, on='product_name', how='left')\n",
    "final['xyz'].value_counts().sort_index().plot(kind='bar', colormap='Set3', figsize=(10, 5))\n",
    "\n",
    "\n",
    "plt.title('XYZ розподіл товарів', fontsize=16)\n",
    "plt.legend()\n",
    "plt.show()"
   ]
  },
  {
   "cell_type": "code",
   "execution_count": 35,
   "metadata": {},
   "outputs": [
    {
     "data": {
      "text/plain": [
       "xyz\n",
       "X     2\n",
       "Y     6\n",
       "Z    66\n",
       "Name: count, dtype: int64"
      ]
     },
     "execution_count": 35,
     "metadata": {},
     "output_type": "execute_result"
    }
   ],
   "source": [
    "final['xyz'].value_counts().sort_index()"
   ]
  },
  {
   "cell_type": "markdown",
   "metadata": {},
   "source": [
    "Всього 2 товара в корзині зі стабільним попитом. Це не дуже добре.  \n",
    "Давайте подивимось на об'єднані групи. "
   ]
  },
  {
   "cell_type": "code",
   "execution_count": 36,
   "metadata": {},
   "outputs": [
    {
     "data": {
      "image/png": "[encoded data removed]",
      "text/plain": [
       "<Figure size 1000x500 with 1 Axes>"
      ]
     },
     "metadata": {},
     "output_type": "display_data"
    }
   ],
   "source": [
    "final['abc_xyz'] = final['xyz'].astype(str) + '_' + final['quantity_abc'].astype(str) + '_' + final['revenue_abc'].astype(str)\n",
    "final['abc_xyz'].value_counts().sort_index().plot(kind='bar', colormap='Set3', figsize=(10, 5))\n",
    "\n",
    "plt.title('ABC-XYZ розподіл товарів', fontsize=16)\n",
    "plt.legend()\n",
    "plt.show()\n"
   ]
  },
  {
   "cell_type": "markdown",
   "metadata": {},
   "source": [
    "Тепер ситуація ще гірше виглядає. Так, як наші стабільні групи стабільно не продаються.  \n",
    "\n",
    " "
   ]
  },
  {
   "cell_type": "markdown",
   "metadata": {},
   "source": [
    "## Рекомендація:\n",
    "Не закупати велику кількість товару на склад.  \n",
    "А ще краще купувати у постачальника після передплати клієнтом."
   ]
  }
 ],
 "metadata": {
  "kernelspec": {
   "display_name": "Python 3",
   "language": "python",
   "name": "python3"
  },
  "language_info": {
   "codemirror_mode": {
    "name": "ipython",
    "version": 3
   },
   "file_extension": ".py",
   "mimetype": "text/x-python",
   "name": "python",
   "nbconvert_exporter": "python",
   "pygments_lexer": "ipython3",
   "version": "3.12.3"
  }
 },
 "nbformat": 4,
 "nbformat_minor": 5
}
