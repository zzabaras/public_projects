{
 "cells": [
  {
   "cell_type": "markdown",
   "id": "430ac714",
   "metadata": {},
   "source": [
    "#### Task\n",
    "\n",
    "It is necessary to analyze the impact on sales, marketing changes in three stores: 77, 86 and 88. The period of marketing activities lasted from the beginning of February 2019 to the end of April 2019.\n",
    "It is necessary to check with similar stores from our network of stores.\n",
    "\n",
    "Recommend whether you want to implement these marketing activities throughout the network."
   ]
  },
  {
   "cell_type": "code",
   "execution_count": 1,
   "id": "b54b33a8",
   "metadata": {},
   "outputs": [],
   "source": [
    "import pandas as pd\n",
    "import numpy as np\n",
    "import matplotlib.pyplot as plt\n",
    "import seaborn as sns\n",
    "import re\n",
    "\n",
    "from scipy.spatial.distance import euclidean\n",
    "from scipy.stats import pearsonr\n",
    "\n",
    "import warnings\n",
    "warnings.filterwarnings(\"ignore\")"
   ]
  },
  {
   "cell_type": "code",
   "execution_count": 2,
   "id": "fd7992bf",
   "metadata": {},
   "outputs": [
    {
     "data": {
      "application/vnd.microsoft.datawrangler.viewer.v0+json": {
       "columns": [
        {
         "name": "index",
         "rawType": "int64",
         "type": "integer"
        },
        {
         "name": "LYLTY_CARD_NBR",
         "rawType": "int64",
         "type": "integer"
        },
        {
         "name": "DATE",
         "rawType": "object",
         "type": "string"
        },
        {
         "name": "STORE_NBR",
         "rawType": "int64",
         "type": "integer"
        },
        {
         "name": "TXN_ID",
         "rawType": "int64",
         "type": "integer"
        },
        {
         "name": "PROD_NBR",
         "rawType": "int64",
         "type": "integer"
        },
        {
         "name": "PROD_NAME",
         "rawType": "object",
         "type": "string"
        },
        {
         "name": "PROD_QTY",
         "rawType": "int64",
         "type": "integer"
        },
        {
         "name": "TOT_SALES",
         "rawType": "float64",
         "type": "float"
        },
        {
         "name": "PACK_SIZE",
         "rawType": "int64",
         "type": "integer"
        },
        {
         "name": "BRAND",
         "rawType": "object",
         "type": "string"
        },
        {
         "name": "LIFESTAGE",
         "rawType": "object",
         "type": "string"
        },
        {
         "name": "PREMIUM_CUSTOMER",
         "rawType": "object",
         "type": "string"
        }
       ],
       "conversionMethod": "pd.DataFrame",
       "ref": "2fe898e8-ec45-4a90-9fb1-dd76773f6574",
       "rows": [
        [
         "0",
         "1000",
         "2018-10-17",
         "1",
         "1",
         "5",
         "Natural Chip        Compny SeaSalt175g",
         "2",
         "6.0",
         "175",
         "NATURAL",
         "YOUNG SINGLES/COUPLES",
         "Premium"
        ],
        [
         "1",
         "1002",
         "2018-09-16",
         "1",
         "2",
         "58",
         "Red Rock Deli Chikn&Garlic Aioli 150g",
         "1",
         "2.7",
         "150",
         "RRD",
         "YOUNG SINGLES/COUPLES",
         "Mainstream"
        ],
        [
         "2",
         "1003",
         "2019-03-07",
         "1",
         "3",
         "52",
         "Grain Waves Sour    Cream&Chives 210G",
         "1",
         "3.6",
         "210",
         "GRNWVES",
         "YOUNG FAMILIES",
         "Budget"
        ],
        [
         "3",
         "1003",
         "2019-03-08",
         "1",
         "4",
         "106",
         "Natural ChipCo      Hony Soy Chckn175g",
         "1",
         "3.0",
         "175",
         "NATURAL",
         "YOUNG FAMILIES",
         "Budget"
        ],
        [
         "4",
         "1004",
         "2018-11-02",
         "1",
         "5",
         "96",
         "WW Original Stacked Chips 160g",
         "1",
         "1.9",
         "160",
         "WOOLWORTHS",
         "OLDER SINGLES/COUPLES",
         "Mainstream"
        ]
       ],
       "shape": {
        "columns": 12,
        "rows": 5
       }
      },
      "text/html": [
       "<div>\n",
       "<style scoped>\n",
       "    .dataframe tbody tr th:only-of-type {\n",
       "        vertical-align: middle;\n",
       "    }\n",
       "\n",
       "    .dataframe tbody tr th {\n",
       "        vertical-align: top;\n",
       "    }\n",
       "\n",
       "    .dataframe thead th {\n",
       "        text-align: right;\n",
       "    }\n",
       "</style>\n",
       "<table border=\"1\" class=\"dataframe\">\n",
       "  <thead>\n",
       "    <tr style=\"text-align: right;\">\n",
       "      <th></th>\n",
       "      <th>LYLTY_CARD_NBR</th>\n",
       "      <th>DATE</th>\n",
       "      <th>STORE_NBR</th>\n",
       "      <th>TXN_ID</th>\n",
       "      <th>PROD_NBR</th>\n",
       "      <th>PROD_NAME</th>\n",
       "      <th>PROD_QTY</th>\n",
       "      <th>TOT_SALES</th>\n",
       "      <th>PACK_SIZE</th>\n",
       "      <th>BRAND</th>\n",
       "      <th>LIFESTAGE</th>\n",
       "      <th>PREMIUM_CUSTOMER</th>\n",
       "    </tr>\n",
       "  </thead>\n",
       "  <tbody>\n",
       "    <tr>\n",
       "      <th>0</th>\n",
       "      <td>1000</td>\n",
       "      <td>2018-10-17</td>\n",
       "      <td>1</td>\n",
       "      <td>1</td>\n",
       "      <td>5</td>\n",
       "      <td>Natural Chip        Compny SeaSalt175g</td>\n",
       "      <td>2</td>\n",
       "      <td>6.0</td>\n",
       "      <td>175</td>\n",
       "      <td>NATURAL</td>\n",
       "      <td>YOUNG SINGLES/COUPLES</td>\n",
       "      <td>Premium</td>\n",
       "    </tr>\n",
       "    <tr>\n",
       "      <th>1</th>\n",
       "      <td>1002</td>\n",
       "      <td>2018-09-16</td>\n",
       "      <td>1</td>\n",
       "      <td>2</td>\n",
       "      <td>58</td>\n",
       "      <td>Red Rock Deli Chikn&amp;Garlic Aioli 150g</td>\n",
       "      <td>1</td>\n",
       "      <td>2.7</td>\n",
       "      <td>150</td>\n",
       "      <td>RRD</td>\n",
       "      <td>YOUNG SINGLES/COUPLES</td>\n",
       "      <td>Mainstream</td>\n",
       "    </tr>\n",
       "    <tr>\n",
       "      <th>2</th>\n",
       "      <td>1003</td>\n",
       "      <td>2019-03-07</td>\n",
       "      <td>1</td>\n",
       "      <td>3</td>\n",
       "      <td>52</td>\n",
       "      <td>Grain Waves Sour    Cream&amp;Chives 210G</td>\n",
       "      <td>1</td>\n",
       "      <td>3.6</td>\n",
       "      <td>210</td>\n",
       "      <td>GRNWVES</td>\n",
       "      <td>YOUNG FAMILIES</td>\n",
       "      <td>Budget</td>\n",
       "    </tr>\n",
       "    <tr>\n",
       "      <th>3</th>\n",
       "      <td>1003</td>\n",
       "      <td>2019-03-08</td>\n",
       "      <td>1</td>\n",
       "      <td>4</td>\n",
       "      <td>106</td>\n",
       "      <td>Natural ChipCo      Hony Soy Chckn175g</td>\n",
       "      <td>1</td>\n",
       "      <td>3.0</td>\n",
       "      <td>175</td>\n",
       "      <td>NATURAL</td>\n",
       "      <td>YOUNG FAMILIES</td>\n",
       "      <td>Budget</td>\n",
       "    </tr>\n",
       "    <tr>\n",
       "      <th>4</th>\n",
       "      <td>1004</td>\n",
       "      <td>2018-11-02</td>\n",
       "      <td>1</td>\n",
       "      <td>5</td>\n",
       "      <td>96</td>\n",
       "      <td>WW Original Stacked Chips 160g</td>\n",
       "      <td>1</td>\n",
       "      <td>1.9</td>\n",
       "      <td>160</td>\n",
       "      <td>WOOLWORTHS</td>\n",
       "      <td>OLDER SINGLES/COUPLES</td>\n",
       "      <td>Mainstream</td>\n",
       "    </tr>\n",
       "  </tbody>\n",
       "</table>\n",
       "</div>"
      ],
      "text/plain": [
       "   LYLTY_CARD_NBR        DATE  STORE_NBR  TXN_ID  PROD_NBR  \\\n",
       "0            1000  2018-10-17          1       1         5   \n",
       "1            1002  2018-09-16          1       2        58   \n",
       "2            1003  2019-03-07          1       3        52   \n",
       "3            1003  2019-03-08          1       4       106   \n",
       "4            1004  2018-11-02          1       5        96   \n",
       "\n",
       "                                PROD_NAME  PROD_QTY  TOT_SALES  PACK_SIZE  \\\n",
       "0  Natural Chip        Compny SeaSalt175g         2        6.0        175   \n",
       "1   Red Rock Deli Chikn&Garlic Aioli 150g         1        2.7        150   \n",
       "2   Grain Waves Sour    Cream&Chives 210G         1        3.6        210   \n",
       "3  Natural ChipCo      Hony Soy Chckn175g         1        3.0        175   \n",
       "4          WW Original Stacked Chips 160g         1        1.9        160   \n",
       "\n",
       "        BRAND              LIFESTAGE PREMIUM_CUSTOMER  \n",
       "0     NATURAL  YOUNG SINGLES/COUPLES          Premium  \n",
       "1         RRD  YOUNG SINGLES/COUPLES       Mainstream  \n",
       "2     GRNWVES         YOUNG FAMILIES           Budget  \n",
       "3     NATURAL         YOUNG FAMILIES           Budget  \n",
       "4  WOOLWORTHS  OLDER SINGLES/COUPLES       Mainstream  "
      ]
     },
     "execution_count": 2,
     "metadata": {},
     "output_type": "execute_result"
    }
   ],
   "source": [
    "df = pd.read_csv('.\\data\\QVI_data.csv')\n",
    "df.head()"
   ]
  },
  {
   "cell_type": "code",
   "execution_count": 3,
   "id": "8ede1a5a",
   "metadata": {},
   "outputs": [],
   "source": [
    "df.columns = df.columns.str.lower()"
   ]
  },
  {
   "cell_type": "code",
   "execution_count": 4,
   "id": "d7e9d508",
   "metadata": {},
   "outputs": [
    {
     "name": "stdout",
     "output_type": "stream",
     "text": [
      "<class 'pandas.core.frame.DataFrame'>\n",
      "RangeIndex: 264834 entries, 0 to 264833\n",
      "Data columns (total 12 columns):\n",
      " #   Column            Non-Null Count   Dtype  \n",
      "---  ------            --------------   -----  \n",
      " 0   lylty_card_nbr    264834 non-null  int64  \n",
      " 1   date              264834 non-null  object \n",
      " 2   store_nbr         264834 non-null  int64  \n",
      " 3   txn_id            264834 non-null  int64  \n",
      " 4   prod_nbr          264834 non-null  int64  \n",
      " 5   prod_name         264834 non-null  object \n",
      " 6   prod_qty          264834 non-null  int64  \n",
      " 7   tot_sales         264834 non-null  float64\n",
      " 8   pack_size         264834 non-null  int64  \n",
      " 9   brand             264834 non-null  object \n",
      " 10  lifestage         264834 non-null  object \n",
      " 11  premium_customer  264834 non-null  object \n",
      "dtypes: float64(1), int64(6), object(5)\n",
      "memory usage: 24.2+ MB\n"
     ]
    },
    {
     "data": {
      "application/vnd.microsoft.datawrangler.viewer.v0+json": {
       "columns": [
        {
         "name": "index",
         "rawType": "object",
         "type": "string"
        },
        {
         "name": "lylty_card_nbr",
         "rawType": "float64",
         "type": "float"
        },
        {
         "name": "store_nbr",
         "rawType": "float64",
         "type": "float"
        },
        {
         "name": "txn_id",
         "rawType": "float64",
         "type": "float"
        },
        {
         "name": "prod_nbr",
         "rawType": "float64",
         "type": "float"
        },
        {
         "name": "prod_qty",
         "rawType": "float64",
         "type": "float"
        },
        {
         "name": "tot_sales",
         "rawType": "float64",
         "type": "float"
        },
        {
         "name": "pack_size",
         "rawType": "float64",
         "type": "float"
        }
       ],
       "conversionMethod": "pd.DataFrame",
       "ref": "0c8ef2e9-82d4-45ac-a3af-011346cbce64",
       "rows": [
        [
         "count",
         "264834.0",
         "264834.0",
         "264834.0",
         "264834.0",
         "264834.0",
         "264834.0",
         "264834.0"
        ],
        [
         "mean",
         "135548.79333091673",
         "135.07942333688274",
         "135157.62323568726",
         "56.58355422642108",
         "1.9058126977653926",
         "7.299346005422263",
         "182.42551183005205"
        ],
        [
         "std",
         "80579.89891202643",
         "76.78406341971971",
         "78132.92043605322",
         "32.82644370677064",
         "0.3434359641650687",
         "2.5272406659088262",
         "64.32514796498938"
        ],
        [
         "min",
         "1000.0",
         "1.0",
         "1.0",
         "1.0",
         "1.0",
         "1.5",
         "70.0"
        ],
        [
         "25%",
         "70021.0",
         "70.0",
         "67600.5",
         "28.0",
         "2.0",
         "5.4",
         "150.0"
        ],
        [
         "50%",
         "130357.0",
         "130.0",
         "135136.5",
         "56.0",
         "2.0",
         "7.4",
         "170.0"
        ],
        [
         "75%",
         "203094.0",
         "203.0",
         "202699.75",
         "85.0",
         "2.0",
         "9.2",
         "175.0"
        ],
        [
         "max",
         "2373711.0",
         "272.0",
         "2415841.0",
         "114.0",
         "5.0",
         "29.5",
         "380.0"
        ]
       ],
       "shape": {
        "columns": 7,
        "rows": 8
       }
      },
      "text/html": [
       "<div>\n",
       "<style scoped>\n",
       "    .dataframe tbody tr th:only-of-type {\n",
       "        vertical-align: middle;\n",
       "    }\n",
       "\n",
       "    .dataframe tbody tr th {\n",
       "        vertical-align: top;\n",
       "    }\n",
       "\n",
       "    .dataframe thead th {\n",
       "        text-align: right;\n",
       "    }\n",
       "</style>\n",
       "<table border=\"1\" class=\"dataframe\">\n",
       "  <thead>\n",
       "    <tr style=\"text-align: right;\">\n",
       "      <th></th>\n",
       "      <th>lylty_card_nbr</th>\n",
       "      <th>store_nbr</th>\n",
       "      <th>txn_id</th>\n",
       "      <th>prod_nbr</th>\n",
       "      <th>prod_qty</th>\n",
       "      <th>tot_sales</th>\n",
       "      <th>pack_size</th>\n",
       "    </tr>\n",
       "  </thead>\n",
       "  <tbody>\n",
       "    <tr>\n",
       "      <th>count</th>\n",
       "      <td>2.648340e+05</td>\n",
       "      <td>264834.000000</td>\n",
       "      <td>2.648340e+05</td>\n",
       "      <td>264834.000000</td>\n",
       "      <td>264834.000000</td>\n",
       "      <td>264834.000000</td>\n",
       "      <td>264834.000000</td>\n",
       "    </tr>\n",
       "    <tr>\n",
       "      <th>mean</th>\n",
       "      <td>1.355488e+05</td>\n",
       "      <td>135.079423</td>\n",
       "      <td>1.351576e+05</td>\n",
       "      <td>56.583554</td>\n",
       "      <td>1.905813</td>\n",
       "      <td>7.299346</td>\n",
       "      <td>182.425512</td>\n",
       "    </tr>\n",
       "    <tr>\n",
       "      <th>std</th>\n",
       "      <td>8.057990e+04</td>\n",
       "      <td>76.784063</td>\n",
       "      <td>7.813292e+04</td>\n",
       "      <td>32.826444</td>\n",
       "      <td>0.343436</td>\n",
       "      <td>2.527241</td>\n",
       "      <td>64.325148</td>\n",
       "    </tr>\n",
       "    <tr>\n",
       "      <th>min</th>\n",
       "      <td>1.000000e+03</td>\n",
       "      <td>1.000000</td>\n",
       "      <td>1.000000e+00</td>\n",
       "      <td>1.000000</td>\n",
       "      <td>1.000000</td>\n",
       "      <td>1.500000</td>\n",
       "      <td>70.000000</td>\n",
       "    </tr>\n",
       "    <tr>\n",
       "      <th>25%</th>\n",
       "      <td>7.002100e+04</td>\n",
       "      <td>70.000000</td>\n",
       "      <td>6.760050e+04</td>\n",
       "      <td>28.000000</td>\n",
       "      <td>2.000000</td>\n",
       "      <td>5.400000</td>\n",
       "      <td>150.000000</td>\n",
       "    </tr>\n",
       "    <tr>\n",
       "      <th>50%</th>\n",
       "      <td>1.303570e+05</td>\n",
       "      <td>130.000000</td>\n",
       "      <td>1.351365e+05</td>\n",
       "      <td>56.000000</td>\n",
       "      <td>2.000000</td>\n",
       "      <td>7.400000</td>\n",
       "      <td>170.000000</td>\n",
       "    </tr>\n",
       "    <tr>\n",
       "      <th>75%</th>\n",
       "      <td>2.030940e+05</td>\n",
       "      <td>203.000000</td>\n",
       "      <td>2.026998e+05</td>\n",
       "      <td>85.000000</td>\n",
       "      <td>2.000000</td>\n",
       "      <td>9.200000</td>\n",
       "      <td>175.000000</td>\n",
       "    </tr>\n",
       "    <tr>\n",
       "      <th>max</th>\n",
       "      <td>2.373711e+06</td>\n",
       "      <td>272.000000</td>\n",
       "      <td>2.415841e+06</td>\n",
       "      <td>114.000000</td>\n",
       "      <td>5.000000</td>\n",
       "      <td>29.500000</td>\n",
       "      <td>380.000000</td>\n",
       "    </tr>\n",
       "  </tbody>\n",
       "</table>\n",
       "</div>"
      ],
      "text/plain": [
       "       lylty_card_nbr      store_nbr        txn_id       prod_nbr  \\\n",
       "count    2.648340e+05  264834.000000  2.648340e+05  264834.000000   \n",
       "mean     1.355488e+05     135.079423  1.351576e+05      56.583554   \n",
       "std      8.057990e+04      76.784063  7.813292e+04      32.826444   \n",
       "min      1.000000e+03       1.000000  1.000000e+00       1.000000   \n",
       "25%      7.002100e+04      70.000000  6.760050e+04      28.000000   \n",
       "50%      1.303570e+05     130.000000  1.351365e+05      56.000000   \n",
       "75%      2.030940e+05     203.000000  2.026998e+05      85.000000   \n",
       "max      2.373711e+06     272.000000  2.415841e+06     114.000000   \n",
       "\n",
       "            prod_qty      tot_sales      pack_size  \n",
       "count  264834.000000  264834.000000  264834.000000  \n",
       "mean        1.905813       7.299346     182.425512  \n",
       "std         0.343436       2.527241      64.325148  \n",
       "min         1.000000       1.500000      70.000000  \n",
       "25%         2.000000       5.400000     150.000000  \n",
       "50%         2.000000       7.400000     170.000000  \n",
       "75%         2.000000       9.200000     175.000000  \n",
       "max         5.000000      29.500000     380.000000  "
      ]
     },
     "execution_count": 4,
     "metadata": {},
     "output_type": "execute_result"
    }
   ],
   "source": [
    "\n",
    "df.info()\n",
    "df.describe()\n",
    "\n"
   ]
  },
  {
   "cell_type": "code",
   "execution_count": 5,
   "id": "29783115",
   "metadata": {},
   "outputs": [],
   "source": [
    "df['date'] = pd.to_datetime(df['date'])"
   ]
  },
  {
   "cell_type": "code",
   "execution_count": 6,
   "id": "344ede56",
   "metadata": {},
   "outputs": [],
   "source": [
    "df['month'] = df['date'].dt.to_period('M')"
   ]
  },
  {
   "cell_type": "code",
   "execution_count": 7,
   "id": "a4ca1be8",
   "metadata": {},
   "outputs": [],
   "source": [
    "trial_stores = [77, 86, 88]\n",
    "trial_period = ['2019-02', '2019-03', '2019-04']\n",
    "trial_period = pd.PeriodIndex(trial_period, freq='M')"
   ]
  },
  {
   "cell_type": "markdown",
   "id": "f7f092ee",
   "metadata": {},
   "source": [
    "Create a table with metrics"
   ]
  },
  {
   "cell_type": "code",
   "execution_count": 8,
   "id": "8321912f",
   "metadata": {},
   "outputs": [
    {
     "data": {
      "application/vnd.microsoft.datawrangler.viewer.v0+json": {
       "columns": [
        {
         "name": "index",
         "rawType": "int64",
         "type": "integer"
        },
        {
         "name": "store_nbr",
         "rawType": "int64",
         "type": "integer"
        },
        {
         "name": "month",
         "rawType": "period[M]",
         "type": "unknown"
        },
        {
         "name": "total_sales",
         "rawType": "float64",
         "type": "float"
        },
        {
         "name": "total_customers",
         "rawType": "int64",
         "type": "integer"
        },
        {
         "name": "transactions",
         "rawType": "int64",
         "type": "integer"
        },
        {
         "name": "avg_transactions_per_customer",
         "rawType": "float64",
         "type": "float"
        }
       ],
       "conversionMethod": "pd.DataFrame",
       "ref": "e386b542-a40c-479c-baa7-a60b394e008e",
       "rows": [
        [
         "0",
         "1",
         "2018-07",
         "206.9",
         "49",
         "52",
         "1.0612244897959184"
        ],
        [
         "1",
         "1",
         "2018-08",
         "176.1",
         "42",
         "43",
         "1.0238095238095237"
        ],
        [
         "2",
         "1",
         "2018-09",
         "278.8",
         "59",
         "62",
         "1.0508474576271187"
        ],
        [
         "3",
         "1",
         "2018-10",
         "188.1",
         "44",
         "45",
         "1.0227272727272727"
        ],
        [
         "4",
         "1",
         "2018-11",
         "192.6",
         "46",
         "47",
         "1.0217391304347827"
        ],
        [
         "5",
         "1",
         "2018-12",
         "189.6",
         "42",
         "47",
         "1.119047619047619"
        ],
        [
         "6",
         "1",
         "2019-01",
         "154.8",
         "35",
         "36",
         "1.0285714285714285"
        ],
        [
         "7",
         "1",
         "2019-02",
         "225.4",
         "52",
         "55",
         "1.0576923076923077"
        ],
        [
         "8",
         "1",
         "2019-03",
         "192.9",
         "45",
         "49",
         "1.0888888888888888"
        ],
        [
         "9",
         "1",
         "2019-04",
         "192.9",
         "42",
         "43",
         "1.0238095238095237"
        ],
        [
         "10",
         "1",
         "2019-05",
         "221.4",
         "46",
         "51",
         "1.108695652173913"
        ],
        [
         "11",
         "1",
         "2019-06",
         "174.1",
         "42",
         "42",
         "1.0"
        ],
        [
         "12",
         "2",
         "2018-07",
         "150.8",
         "39",
         "41",
         "1.0512820512820513"
        ],
        [
         "13",
         "2",
         "2018-08",
         "193.8",
         "39",
         "43",
         "1.1025641025641026"
        ],
        [
         "14",
         "2",
         "2018-09",
         "154.4",
         "36",
         "37",
         "1.0277777777777777"
        ],
        [
         "15",
         "2",
         "2018-10",
         "167.8",
         "41",
         "43",
         "1.048780487804878"
        ],
        [
         "16",
         "2",
         "2018-11",
         "162.9",
         "39",
         "40",
         "1.0256410256410255"
        ],
        [
         "17",
         "2",
         "2018-12",
         "136.0",
         "35",
         "37",
         "1.0571428571428572"
        ],
        [
         "18",
         "2",
         "2019-01",
         "162.8",
         "43",
         "45",
         "1.0465116279069768"
        ],
        [
         "19",
         "2",
         "2019-02",
         "139.4",
         "29",
         "32",
         "1.103448275862069"
        ],
        [
         "20",
         "2",
         "2019-03",
         "192.1",
         "43",
         "46",
         "1.069767441860465"
        ],
        [
         "21",
         "2",
         "2019-04",
         "196.5",
         "47",
         "49",
         "1.0425531914893618"
        ],
        [
         "22",
         "2",
         "2019-05",
         "192.7",
         "48",
         "50",
         "1.0416666666666667"
        ],
        [
         "23",
         "2",
         "2019-06",
         "156.6",
         "40",
         "42",
         "1.05"
        ],
        [
         "24",
         "3",
         "2018-07",
         "1205.7",
         "112",
         "138",
         "1.2321428571428572"
        ],
        [
         "25",
         "3",
         "2018-08",
         "1079.75",
         "112",
         "131",
         "1.1696428571428572"
        ],
        [
         "26",
         "3",
         "2018-09",
         "1021.5",
         "102",
         "119",
         "1.1666666666666667"
        ],
        [
         "27",
         "3",
         "2018-10",
         "1037.9",
         "104",
         "119",
         "1.1442307692307692"
        ],
        [
         "28",
         "3",
         "2018-11",
         "1008.0",
         "101",
         "118",
         "1.1683168316831682"
        ],
        [
         "29",
         "3",
         "2018-12",
         "1121.6",
         "111",
         "129",
         "1.162162162162162"
        ],
        [
         "30",
         "3",
         "2019-01",
         "1051.7",
         "102",
         "119",
         "1.1666666666666667"
        ],
        [
         "31",
         "3",
         "2019-02",
         "1197.7",
         "116",
         "136",
         "1.1724137931034482"
        ],
        [
         "32",
         "3",
         "2019-03",
         "1124.4",
         "109",
         "129",
         "1.18348623853211"
        ],
        [
         "33",
         "3",
         "2019-04",
         "920.0",
         "90",
         "108",
         "1.2"
        ],
        [
         "34",
         "3",
         "2019-05",
         "996.9",
         "108",
         "123",
         "1.1388888888888888"
        ],
        [
         "35",
         "3",
         "2019-06",
         "1037.3",
         "105",
         "120",
         "1.1428571428571428"
        ],
        [
         "36",
         "4",
         "2018-07",
         "1399.9",
         "128",
         "158",
         "1.234375"
        ],
        [
         "37",
         "4",
         "2018-08",
         "1259.5",
         "123",
         "150",
         "1.2195121951219512"
        ],
        [
         "38",
         "4",
         "2018-09",
         "1198.6",
         "119",
         "136",
         "1.1428571428571428"
        ],
        [
         "39",
         "4",
         "2018-10",
         "1346.4",
         "123",
         "153",
         "1.2439024390243902"
        ],
        [
         "40",
         "4",
         "2018-11",
         "1212.0",
         "118",
         "138",
         "1.1694915254237288"
        ],
        [
         "41",
         "4",
         "2018-12",
         "1185.6",
         "104",
         "133",
         "1.2788461538461537"
        ],
        [
         "42",
         "4",
         "2019-01",
         "1525.0",
         "134",
         "167",
         "1.2462686567164178"
        ],
        [
         "43",
         "4",
         "2019-02",
         "883.4",
         "91",
         "101",
         "1.10989010989011"
        ],
        [
         "44",
         "4",
         "2019-03",
         "1192.4",
         "118",
         "135",
         "1.1440677966101696"
        ],
        [
         "45",
         "4",
         "2019-04",
         "1230.5",
         "116",
         "136",
         "1.1724137931034482"
        ],
        [
         "46",
         "4",
         "2019-05",
         "1018.35",
         "105",
         "126",
         "1.2"
        ],
        [
         "47",
         "4",
         "2019-06",
         "1196.0",
         "118",
         "134",
         "1.1355932203389831"
        ],
        [
         "48",
         "5",
         "2018-07",
         "812.0",
         "93",
         "120",
         "1.2903225806451613"
        ],
        [
         "49",
         "5",
         "2018-08",
         "745.1",
         "97",
         "112",
         "1.1546391752577319"
        ]
       ],
       "shape": {
        "columns": 6,
        "rows": 3169
       }
      },
      "text/html": [
       "<div>\n",
       "<style scoped>\n",
       "    .dataframe tbody tr th:only-of-type {\n",
       "        vertical-align: middle;\n",
       "    }\n",
       "\n",
       "    .dataframe tbody tr th {\n",
       "        vertical-align: top;\n",
       "    }\n",
       "\n",
       "    .dataframe thead th {\n",
       "        text-align: right;\n",
       "    }\n",
       "</style>\n",
       "<table border=\"1\" class=\"dataframe\">\n",
       "  <thead>\n",
       "    <tr style=\"text-align: right;\">\n",
       "      <th></th>\n",
       "      <th>store_nbr</th>\n",
       "      <th>month</th>\n",
       "      <th>total_sales</th>\n",
       "      <th>total_customers</th>\n",
       "      <th>transactions</th>\n",
       "      <th>avg_transactions_per_customer</th>\n",
       "    </tr>\n",
       "  </thead>\n",
       "  <tbody>\n",
       "    <tr>\n",
       "      <th>0</th>\n",
       "      <td>1</td>\n",
       "      <td>2018-07</td>\n",
       "      <td>206.9</td>\n",
       "      <td>49</td>\n",
       "      <td>52</td>\n",
       "      <td>1.061224</td>\n",
       "    </tr>\n",
       "    <tr>\n",
       "      <th>1</th>\n",
       "      <td>1</td>\n",
       "      <td>2018-08</td>\n",
       "      <td>176.1</td>\n",
       "      <td>42</td>\n",
       "      <td>43</td>\n",
       "      <td>1.023810</td>\n",
       "    </tr>\n",
       "    <tr>\n",
       "      <th>2</th>\n",
       "      <td>1</td>\n",
       "      <td>2018-09</td>\n",
       "      <td>278.8</td>\n",
       "      <td>59</td>\n",
       "      <td>62</td>\n",
       "      <td>1.050847</td>\n",
       "    </tr>\n",
       "    <tr>\n",
       "      <th>3</th>\n",
       "      <td>1</td>\n",
       "      <td>2018-10</td>\n",
       "      <td>188.1</td>\n",
       "      <td>44</td>\n",
       "      <td>45</td>\n",
       "      <td>1.022727</td>\n",
       "    </tr>\n",
       "    <tr>\n",
       "      <th>4</th>\n",
       "      <td>1</td>\n",
       "      <td>2018-11</td>\n",
       "      <td>192.6</td>\n",
       "      <td>46</td>\n",
       "      <td>47</td>\n",
       "      <td>1.021739</td>\n",
       "    </tr>\n",
       "    <tr>\n",
       "      <th>...</th>\n",
       "      <td>...</td>\n",
       "      <td>...</td>\n",
       "      <td>...</td>\n",
       "      <td>...</td>\n",
       "      <td>...</td>\n",
       "      <td>...</td>\n",
       "    </tr>\n",
       "    <tr>\n",
       "      <th>3164</th>\n",
       "      <td>272</td>\n",
       "      <td>2019-02</td>\n",
       "      <td>395.5</td>\n",
       "      <td>45</td>\n",
       "      <td>48</td>\n",
       "      <td>1.066667</td>\n",
       "    </tr>\n",
       "    <tr>\n",
       "      <th>3165</th>\n",
       "      <td>272</td>\n",
       "      <td>2019-03</td>\n",
       "      <td>442.3</td>\n",
       "      <td>50</td>\n",
       "      <td>53</td>\n",
       "      <td>1.060000</td>\n",
       "    </tr>\n",
       "    <tr>\n",
       "      <th>3166</th>\n",
       "      <td>272</td>\n",
       "      <td>2019-04</td>\n",
       "      <td>445.1</td>\n",
       "      <td>54</td>\n",
       "      <td>55</td>\n",
       "      <td>1.018519</td>\n",
       "    </tr>\n",
       "    <tr>\n",
       "      <th>3167</th>\n",
       "      <td>272</td>\n",
       "      <td>2019-05</td>\n",
       "      <td>314.6</td>\n",
       "      <td>34</td>\n",
       "      <td>40</td>\n",
       "      <td>1.176471</td>\n",
       "    </tr>\n",
       "    <tr>\n",
       "      <th>3168</th>\n",
       "      <td>272</td>\n",
       "      <td>2019-06</td>\n",
       "      <td>312.1</td>\n",
       "      <td>34</td>\n",
       "      <td>37</td>\n",
       "      <td>1.088235</td>\n",
       "    </tr>\n",
       "  </tbody>\n",
       "</table>\n",
       "<p>3169 rows × 6 columns</p>\n",
       "</div>"
      ],
      "text/plain": [
       "      store_nbr    month  total_sales  total_customers  transactions  \\\n",
       "0             1  2018-07        206.9               49            52   \n",
       "1             1  2018-08        176.1               42            43   \n",
       "2             1  2018-09        278.8               59            62   \n",
       "3             1  2018-10        188.1               44            45   \n",
       "4             1  2018-11        192.6               46            47   \n",
       "...         ...      ...          ...              ...           ...   \n",
       "3164        272  2019-02        395.5               45            48   \n",
       "3165        272  2019-03        442.3               50            53   \n",
       "3166        272  2019-04        445.1               54            55   \n",
       "3167        272  2019-05        314.6               34            40   \n",
       "3168        272  2019-06        312.1               34            37   \n",
       "\n",
       "      avg_transactions_per_customer  \n",
       "0                          1.061224  \n",
       "1                          1.023810  \n",
       "2                          1.050847  \n",
       "3                          1.022727  \n",
       "4                          1.021739  \n",
       "...                             ...  \n",
       "3164                       1.066667  \n",
       "3165                       1.060000  \n",
       "3166                       1.018519  \n",
       "3167                       1.176471  \n",
       "3168                       1.088235  \n",
       "\n",
       "[3169 rows x 6 columns]"
      ]
     },
     "execution_count": 8,
     "metadata": {},
     "output_type": "execute_result"
    }
   ],
   "source": [
    "monthly_metrics = df.groupby(['store_nbr', 'month']).agg(\n",
    "    total_sales=('tot_sales', 'sum'),\n",
    "    total_customers=('lylty_card_nbr', pd.Series.nunique),\n",
    "    transactions=('txn_id', 'nunique')\n",
    ").reset_index()\n",
    "\n",
    "monthly_metrics['avg_transactions_per_customer'] = monthly_metrics['transactions'] / monthly_metrics['total_customers']\n",
    "monthly_metrics\n"
   ]
  },
  {
   "cell_type": "markdown",
   "id": "325456d7",
   "metadata": {},
   "source": [
    "Function for assessing the similarity between stores"
   ]
  },
  {
   "cell_type": "code",
   "execution_count": 9,
   "id": "9d1256b9",
   "metadata": {},
   "outputs": [],
   "source": [
    "def calculate_similarity(trial_store_id, metrics_df, metric_name='total_sales'):\n",
    "    trial_data = metrics_df[metrics_df['store_nbr'] == trial_store_id].sort_values('month')\n",
    "    scores = {}\n",
    "\n",
    "    for store_id in metrics_df['store_nbr'].unique():\n",
    "        if store_id == trial_store_id:\n",
    "            continue\n",
    "\n",
    "        control_data = metrics_df[metrics_df['store_nbr'] == store_id].sort_values('month')\n",
    "\n",
    "        # Check if the lengths of the dataframes are equal\n",
    "        if len(trial_data) != len(control_data):\n",
    "            continue\n",
    "\n",
    "        # pearson correlation\n",
    "        correlation, _ = pearsonr(trial_data[metric_name], control_data[metric_name])\n",
    "\n",
    "        # euclidean distance\n",
    "        distance = euclidean(trial_data[metric_name], control_data[metric_name])\n",
    "        scores[store_id] = {'correlation': correlation, 'distance': distance}\n",
    "\n",
    "    # DataFrame\n",
    "    similarity_df = pd.DataFrame.from_dict(scores, orient='index')\n",
    "    similarity_df['scaled_distance'] = 1 - (similarity_df['distance'] - similarity_df['distance'].min()) / (similarity_df['distance'].max() - similarity_df['distance'].min())\n",
    "    similarity_df['combined_score'] = (similarity_df['correlation'] + similarity_df['scaled_distance']) / 2\n",
    "\n",
    "    return similarity_df.sort_values('combined_score', ascending=False)\n"
   ]
  },
  {
   "cell_type": "code",
   "execution_count": 10,
   "id": "37775c25",
   "metadata": {},
   "outputs": [
    {
     "data": {
      "application/vnd.microsoft.datawrangler.viewer.v0+json": {
       "columns": [
        {
         "name": "index",
         "rawType": "int64",
         "type": "integer"
        },
        {
         "name": "correlation",
         "rawType": "float64",
         "type": "float"
        },
        {
         "name": "distance",
         "rawType": "float64",
         "type": "float"
        },
        {
         "name": "scaled_distance",
         "rawType": "float64",
         "type": "float"
        },
        {
         "name": "combined_score",
         "rawType": "float64",
         "type": "float"
        }
       ],
       "conversionMethod": "pd.DataFrame",
       "ref": "ad26e1a0-d9ea-4530-9d5c-7940e44e6b45",
       "rows": [
        [
         "41",
         "0.7622919166702136",
         "152.44015219095002",
         "0.9919120142777053",
         "0.8771019654739594"
        ],
        [
         "167",
         "0.696075370925005",
         "230.36123805883662",
         "0.9729398203350785",
         "0.8345075956300418"
        ],
        [
         "35",
         "0.6997077859225784",
         "419.9158368054247",
         "0.926787144585225",
         "0.8132474652539017"
        ],
        [
         "20",
         "0.6207009345156632",
         "185.25213224144008",
         "0.9839229668687028",
         "0.802311950692183"
        ],
        [
         "233",
         "0.6130627056765473",
         "157.08274889369616",
         "0.9907816367417552",
         "0.8019221712091513"
        ],
        [
         "234",
         "0.6322039793448234",
         "525.4203935897425",
         "0.9010989384873697",
         "0.7666514589160965"
        ],
        [
         "115",
         "0.5776202864763619",
         "305.10980400504997",
         "0.9547400702383048",
         "0.7661801783573333"
        ],
        [
         "176",
         "0.5311586143458606",
         "152.68624692486225",
         "0.991852095233097",
         "0.7615053547894788"
        ],
        [
         "53",
         "0.5263087246439477",
         "148.28851101821746",
         "0.9929228541631097",
         "0.7596157894035287"
        ],
        [
         "82",
         "0.5373334018671303",
         "331.93901548326613",
         "0.948207704860909",
         "0.7427705533640196"
        ],
        [
         "46",
         "0.38691319334128343",
         "119.221820569894",
         "1.0",
         "0.6934565966706417"
        ],
        [
         "185",
         "0.37382448841899296",
         "137.93628964126881",
         "0.9954434087666925",
         "0.6846339485928428"
        ],
        [
         "268",
         "0.3725576099270177",
         "192.53730158075865",
         "0.9821491768339391",
         "0.6773533933804784"
        ],
        [
         "111",
         "0.37497467268470297",
         "218.29967934012183",
         "0.975876563691682",
         "0.6754256181881925"
        ],
        [
         "254",
         "0.41029793418538124",
         "425.42962990370097",
         "0.9254446485091645",
         "0.6678712913472729"
        ],
        [
         "188",
         "0.31150044325868204",
         "139.87558757696073",
         "0.9949712293028325",
         "0.6532358362807573"
        ],
        [
         "265",
         "0.32692469722324025",
         "226.82693843545127",
         "0.9738003501539251",
         "0.6503625236885826"
        ],
        [
         "98",
         "0.3743047657473368",
         "434.0574155569745",
         "0.9233439588064203",
         "0.6488243622768786"
        ],
        [
         "50",
         "0.304387329498449",
         "161.61027195076431",
         "0.9896792772897315",
         "0.6470333033940903"
        ],
        [
         "205",
         "0.2912751822412497",
         "165.35319773140162",
         "0.9887679512599132",
         "0.6400215667505815"
        ],
        [
         "187",
         "0.28574921320223856",
         "149.01567031691667",
         "0.9927458057161014",
         "0.63924750945917"
        ],
        [
         "224",
         "0.4141923888421693",
         "770.177804146549",
         "0.8415055048197236",
         "0.6278489468309465"
        ],
        [
         "264",
         "0.270746277839269",
         "204.94091831549892",
         "0.9791291493322627",
         "0.6249377135857659"
        ],
        [
         "195",
         "0.27190507015026044",
         "218.9091877925639",
         "0.9757281608243373",
         "0.6238166154872988"
        ],
        [
         "17",
         "0.33783877682925323",
         "495.3837098653931",
         "0.9084122578882041",
         "0.6231255173587287"
        ],
        [
         "145",
         "0.2801105791942581",
         "258.3292859898002",
         "0.9661301715265062",
         "0.6231203753603821"
        ],
        [
         "27",
         "0.3631318946921004",
         "632.189504816396",
         "0.8751028391939334",
         "0.6191173669430169"
        ],
        [
         "84",
         "0.36929057603553683",
         "701.7742585760751",
         "0.8581603719647564",
         "0.6137254740001465"
        ],
        [
         "132",
         "0.37596587279022986",
         "741.4299832081246",
         "0.8485050124394765",
         "0.6122354426148532"
        ],
        [
         "121",
         "0.23879686601006583",
         "218.91473225893222",
         "0.9757268108599461",
         "0.6072618384350059"
        ],
        [
         "2",
         "0.2616022390747847",
         "318.40998728055",
         "0.9515017470839908",
         "0.6065519930793878"
        ],
        [
         "214",
         "0.20853116032492947",
         "168.7564517285191",
         "0.9879393283762589",
         "0.5982352443505942"
        ],
        [
         "151",
         "0.25063898124656275",
         "365.9143342368539",
         "0.939935408222891",
         "0.5952871947347269"
        ],
        [
         "108",
         "0.21223833576694817",
         "270.68300648544596",
         "0.963122292740605",
         "0.5876803142537765"
        ],
        [
         "64",
         "0.27968964221683135",
         "567.6708377220025",
         "0.8908118177252384",
         "0.5852507299710349"
        ],
        [
         "21",
         "0.2903248345680022",
         "644.0910417014043",
         "0.8722050578875931",
         "0.5812649462277977"
        ],
        [
         "204",
         "0.3138103913195926",
         "752.6666061411254",
         "0.84576912410873",
         "0.5797897577141613"
        ],
        [
         "163",
         "0.16701954787855675",
         "184.23916521738803",
         "0.9841696036631437",
         "0.5755945757708502"
        ],
        [
         "18",
         "0.13571009738669607",
         "165.44452242368138",
         "0.9887457155613937",
         "0.5622279064740449"
        ],
        [
         "184",
         "0.6451177564482619",
         "2283.0168752113946",
         "0.473160069941045",
         "0.5591389131946534"
        ],
        [
         "192",
         "0.260097769588775",
         "780.1253681300205",
         "0.8390834760318922",
         "0.5495906228103336"
        ],
        [
         "255",
         "0.09983628114433668",
         "159.94014505432963",
         "0.9900859190996478",
         "0.5449611001219923"
        ],
        [
         "173",
         "0.2552333317048206",
         "807.565584023985",
         "0.8324023435506211",
         "0.5438178376277208"
        ],
        [
         "245",
         "0.16061727950087606",
         "421.7628717656404",
         "0.9263374292726916",
         "0.5434773543867838"
        ],
        [
         "74",
         "0.1123845010750478",
         "266.80680276184864",
         "0.9640660692291656",
         "0.5382252851521067"
        ],
        [
         "136",
         "0.12517689510613705",
         "322.13039285357723",
         "0.9505959042650601",
         "0.5378863996855986"
        ],
        [
         "189",
         "0.16374989426766756",
         "491.31086900250847",
         "0.9094039115065727",
         "0.5365769028871201"
        ],
        [
         "202",
         "0.25312268798121745",
         "873.8347455325865",
         "0.816267155359223",
         "0.5346949216702203"
        ],
        [
         "228",
         "0.13240620363136937",
         "400.4090033952783",
         "0.9315366603618825",
         "0.531971431996626"
        ],
        [
         "256",
         "0.0884333448159823",
         "228.43738748287242",
         "0.9734082386821445",
         "0.5309207917490635"
        ]
       ],
       "shape": {
        "columns": 4,
        "rows": 259
       }
      },
      "text/html": [
       "<div>\n",
       "<style scoped>\n",
       "    .dataframe tbody tr th:only-of-type {\n",
       "        vertical-align: middle;\n",
       "    }\n",
       "\n",
       "    .dataframe tbody tr th {\n",
       "        vertical-align: top;\n",
       "    }\n",
       "\n",
       "    .dataframe thead th {\n",
       "        text-align: right;\n",
       "    }\n",
       "</style>\n",
       "<table border=\"1\" class=\"dataframe\">\n",
       "  <thead>\n",
       "    <tr style=\"text-align: right;\">\n",
       "      <th></th>\n",
       "      <th>correlation</th>\n",
       "      <th>distance</th>\n",
       "      <th>scaled_distance</th>\n",
       "      <th>combined_score</th>\n",
       "    </tr>\n",
       "  </thead>\n",
       "  <tbody>\n",
       "    <tr>\n",
       "      <th>41</th>\n",
       "      <td>0.762292</td>\n",
       "      <td>152.440152</td>\n",
       "      <td>0.991912</td>\n",
       "      <td>0.877102</td>\n",
       "    </tr>\n",
       "    <tr>\n",
       "      <th>167</th>\n",
       "      <td>0.696075</td>\n",
       "      <td>230.361238</td>\n",
       "      <td>0.972940</td>\n",
       "      <td>0.834508</td>\n",
       "    </tr>\n",
       "    <tr>\n",
       "      <th>35</th>\n",
       "      <td>0.699708</td>\n",
       "      <td>419.915837</td>\n",
       "      <td>0.926787</td>\n",
       "      <td>0.813247</td>\n",
       "    </tr>\n",
       "    <tr>\n",
       "      <th>20</th>\n",
       "      <td>0.620701</td>\n",
       "      <td>185.252132</td>\n",
       "      <td>0.983923</td>\n",
       "      <td>0.802312</td>\n",
       "    </tr>\n",
       "    <tr>\n",
       "      <th>233</th>\n",
       "      <td>0.613063</td>\n",
       "      <td>157.082749</td>\n",
       "      <td>0.990782</td>\n",
       "      <td>0.801922</td>\n",
       "    </tr>\n",
       "    <tr>\n",
       "      <th>...</th>\n",
       "      <td>...</td>\n",
       "      <td>...</td>\n",
       "      <td>...</td>\n",
       "      <td>...</td>\n",
       "    </tr>\n",
       "    <tr>\n",
       "      <th>203</th>\n",
       "      <td>-0.230314</td>\n",
       "      <td>3345.789249</td>\n",
       "      <td>0.214397</td>\n",
       "      <td>-0.007959</td>\n",
       "    </tr>\n",
       "    <tr>\n",
       "      <th>55</th>\n",
       "      <td>-0.497079</td>\n",
       "      <td>2266.464362</td>\n",
       "      <td>0.477190</td>\n",
       "      <td>-0.009944</td>\n",
       "    </tr>\n",
       "    <tr>\n",
       "      <th>223</th>\n",
       "      <td>-0.497214</td>\n",
       "      <td>2380.155397</td>\n",
       "      <td>0.449509</td>\n",
       "      <td>-0.023852</td>\n",
       "    </tr>\n",
       "    <tr>\n",
       "      <th>4</th>\n",
       "      <td>-0.294778</td>\n",
       "      <td>3401.930964</td>\n",
       "      <td>0.200727</td>\n",
       "      <td>-0.047025</td>\n",
       "    </tr>\n",
       "    <tr>\n",
       "      <th>75</th>\n",
       "      <td>-0.631936</td>\n",
       "      <td>2925.970137</td>\n",
       "      <td>0.316614</td>\n",
       "      <td>-0.157661</td>\n",
       "    </tr>\n",
       "  </tbody>\n",
       "</table>\n",
       "<p>259 rows × 4 columns</p>\n",
       "</div>"
      ],
      "text/plain": [
       "     correlation     distance  scaled_distance  combined_score\n",
       "41      0.762292   152.440152         0.991912        0.877102\n",
       "167     0.696075   230.361238         0.972940        0.834508\n",
       "35      0.699708   419.915837         0.926787        0.813247\n",
       "20      0.620701   185.252132         0.983923        0.802312\n",
       "233     0.613063   157.082749         0.990782        0.801922\n",
       "..           ...          ...              ...             ...\n",
       "203    -0.230314  3345.789249         0.214397       -0.007959\n",
       "55     -0.497079  2266.464362         0.477190       -0.009944\n",
       "223    -0.497214  2380.155397         0.449509       -0.023852\n",
       "4      -0.294778  3401.930964         0.200727       -0.047025\n",
       "75     -0.631936  2925.970137         0.316614       -0.157661\n",
       "\n",
       "[259 rows x 4 columns]"
      ]
     },
     "execution_count": 10,
     "metadata": {},
     "output_type": "execute_result"
    }
   ],
   "source": [
    "calculate_similarity(trial_stores[0], monthly_metrics, metric_name='total_sales')"
   ]
  },
  {
   "cell_type": "markdown",
   "id": "d9638150",
   "metadata": {},
   "source": [
    "Selection of control store for pilot"
   ]
  },
  {
   "cell_type": "code",
   "execution_count": 11,
   "id": "f72844a2",
   "metadata": {},
   "outputs": [
    {
     "name": "stdout",
     "output_type": "stream",
     "text": [
      "For trial store 77 control store — 41\n",
      "For trial store 86 control store — 109\n",
      "For trial store 88 control store — 201\n"
     ]
    }
   ],
   "source": [
    "\n",
    "control_matches = {}\n",
    "\n",
    "for trial in trial_stores:\n",
    "    similarity = calculate_similarity(trial, monthly_metrics, metric_name='total_sales')\n",
    "    best_match = similarity.index[0]\n",
    "    control_matches[trial] = best_match\n",
    "    print(f\"For trial store {trial} control store — {best_match}\")\n"
   ]
  },
  {
   "cell_type": "code",
   "execution_count": 12,
   "id": "4e439ee2",
   "metadata": {},
   "outputs": [
    {
     "data": {
      "text/plain": [
       "{77: np.int64(41), 86: np.int64(109), 88: np.int64(201)}"
      ]
     },
     "execution_count": 12,
     "metadata": {},
     "output_type": "execute_result"
    }
   ],
   "source": [
    "control_matches"
   ]
  },
  {
   "cell_type": "markdown",
   "id": "e1387955",
   "metadata": {},
   "source": [
    "Comparison of metrics during the trial period"
   ]
  },
  {
   "cell_type": "code",
   "execution_count": null,
   "id": "c6f71d34",
   "metadata": {},
   "outputs": [],
   "source": [
    "def compare_trial_effect(trial_id, control_id, metric_name='total_sales'):\n",
    "    # get data for the trial period\n",
    "    trial_data = monthly_metrics[(monthly_metrics['store_nbr'] == trial_id) & \n",
    "                                 (monthly_metrics['month'].isin(trial_period))]\n",
    "    control_data = monthly_metrics[(monthly_metrics['store_nbr'] == control_id) & \n",
    "                                   (monthly_metrics['month'].isin(trial_period))]\n",
    "    \n",
    "    \n",
    "    # sample\n",
    "    sample_df = trial_data.merge(control_data, on='month', suffixes=('_trial', '_control'))\n",
    "    sample_df['diff_sales'] = sample_df['total_sales_trial'] - sample_df['total_sales_control']\n",
    "    sample_df['diff_costomers'] = sample_df['total_customers_trial'] - sample_df['total_customers_control']\n",
    "    sample_df['diff_transactions'] = sample_df['transactions_trial'] - sample_df['transactions_control']\n",
    "    sample_df['diff_avg_transactions_per_customer'] = sample_df['avg_transactions_per_customer_trial'] - sample_df['avg_transactions_per_customer_control']\n",
    "    sample_df['percent_change'] = (sample_df['diff_sales'] / sample_df['total_sales_control']) * 100\n",
    " \n",
    "        \n",
    "    return sample_df"
   ]
  },
  {
   "cell_type": "code",
   "execution_count": null,
   "id": "bbeed0a3",
   "metadata": {},
   "outputs": [],
   "source": [
    "results = []\n",
    "comp_df_full = pd.DataFrame()\n",
    "\n",
    "# Get the data for every pair of stores.\n",
    "for trial_id, control_id in control_matches.items():\n",
    "    comp_df = compare_trial_effect(trial_id, control_id, metric_name='total_sales')\n",
    "    comp_df_full = pd.concat([comp_df_full, comp_df], ignore_index=True)\n",
    "    \n",
    "    # Calculate metrics \n",
    "    result = comp_df.groupby('store_nbr_trial').agg(\n",
    "        store_nbr_control=('store_nbr_control', 'first'),\n",
    "        diff_sales=('diff_sales', 'sum'),\n",
    "        diff_costomers=('diff_costomers', 'sum'),\n",
    "        diff_transactions=('diff_transactions', 'sum'),\n",
    "        diff_avg_transactions_per_customer=('diff_avg_transactions_per_customer', 'sum'),\n",
    "        diff_sales_percent_change=('diff_sales', lambda x: (sum(x) / sum(comp_df['total_sales_control'])) * 100),\n",
    "        diff_costomers_percent_change=('diff_costomers', lambda x: (sum(x) / sum(comp_df['total_customers_control'])) * 100),\n",
    "        diff_transactions_percent_change=('diff_transactions', lambda x: (sum(x) / sum(comp_df['transactions_control'])) * 100),\n",
    "        diff_avg_transactions_percent_change=('diff_avg_transactions_per_customer', lambda x: (sum(x) / sum(comp_df['avg_transactions_per_customer_control'])) * 100),\n",
    "        \n",
    "    ).reset_index()\n",
    "    \n",
    "    # add result to the list\n",
    "    results.append(result)\n",
    "\n",
    "\n",
    "# Concatenate all results into a single DataFrame\n",
    "final_results = pd.concat(results, ignore_index=True)"
   ]
  },
  {
   "cell_type": "code",
   "execution_count": 15,
   "id": "88f368f0",
   "metadata": {},
   "outputs": [
    {
     "data": {
      "application/vnd.microsoft.datawrangler.viewer.v0+json": {
       "columns": [
        {
         "name": "index",
         "rawType": "int64",
         "type": "integer"
        },
        {
         "name": "store_nbr_trial",
         "rawType": "int64",
         "type": "integer"
        },
        {
         "name": "month",
         "rawType": "period[M]",
         "type": "unknown"
        },
        {
         "name": "total_sales_trial",
         "rawType": "float64",
         "type": "float"
        },
        {
         "name": "total_customers_trial",
         "rawType": "int64",
         "type": "integer"
        },
        {
         "name": "transactions_trial",
         "rawType": "int64",
         "type": "integer"
        },
        {
         "name": "avg_transactions_per_customer_trial",
         "rawType": "float64",
         "type": "float"
        },
        {
         "name": "store_nbr_control",
         "rawType": "int64",
         "type": "integer"
        },
        {
         "name": "total_sales_control",
         "rawType": "float64",
         "type": "float"
        },
        {
         "name": "total_customers_control",
         "rawType": "int64",
         "type": "integer"
        },
        {
         "name": "transactions_control",
         "rawType": "int64",
         "type": "integer"
        },
        {
         "name": "avg_transactions_per_customer_control",
         "rawType": "float64",
         "type": "float"
        },
        {
         "name": "diff_sales",
         "rawType": "float64",
         "type": "float"
        },
        {
         "name": "diff_costomers",
         "rawType": "int64",
         "type": "integer"
        },
        {
         "name": "diff_transactions",
         "rawType": "int64",
         "type": "integer"
        },
        {
         "name": "diff_avg_transactions_per_customer",
         "rawType": "float64",
         "type": "float"
        },
        {
         "name": "percent_change",
         "rawType": "float64",
         "type": "float"
        }
       ],
       "conversionMethod": "pd.DataFrame",
       "ref": "566fe6f3-a47b-4aeb-bcf9-37c08b2466f4",
       "rows": [
        [
         "0",
         "77",
         "2019-02",
         "235.0",
         "45",
         "45",
         "1.0",
         "41",
         "234.6",
         "50",
         "50",
         "1.0",
         "0.4000000000000057",
         "-5",
         "-5",
         "0.0",
         "0.17050298380221895"
        ],
        [
         "1",
         "77",
         "2019-03",
         "278.5",
         "50",
         "55",
         "1.1",
         "41",
         "226.2",
         "46",
         "49",
         "1.065217391304348",
         "52.30000000000001",
         "4",
         "6",
         "0.034782608695652195",
         "23.1211317418214"
        ],
        [
         "2",
         "77",
         "2019-04",
         "263.5",
         "47",
         "48",
         "1.0212765957446808",
         "41",
         "231.3",
         "47",
         "49",
         "1.0425531914893618",
         "32.19999999999999",
         "0",
         "-1",
         "-0.021276595744680993",
         "13.921314310419364"
        ],
        [
         "3",
         "86",
         "2019-02",
         "913.2",
         "107",
         "138",
         "1.2897196261682242",
         "109",
         "858.4",
         "91",
         "122",
         "1.3406593406593406",
         "54.80000000000007",
         "16",
         "16",
         "-0.05093971449111634",
         "6.383970177073634"
        ],
        [
         "4",
         "86",
         "2019-03",
         "1026.8",
         "115",
         "140",
         "1.2173913043478262",
         "109",
         "1039.2",
         "114",
         "145",
         "1.2719298245614035",
         "-12.400000000000091",
         "1",
         "-5",
         "-0.0545385202135773",
         "-1.1932255581216407"
        ],
        [
         "5",
         "86",
         "2019-04",
         "848.2",
         "105",
         "126",
         "1.2",
         "109",
         "728.6",
         "80",
         "104",
         "1.3",
         "119.60000000000002",
         "25",
         "22",
         "-0.10000000000000009",
         "16.415042547351085"
        ],
        [
         "6",
         "88",
         "2019-02",
         "1370.2",
         "124",
         "153",
         "1.2338709677419355",
         "201",
         "1139.2",
         "111",
         "128",
         "1.1531531531531531",
         "231.0",
         "13",
         "25",
         "0.08071781458878236",
         "20.277387640449437"
        ],
        [
         "7",
         "88",
         "2019-03",
         "1477.2",
         "134",
         "169",
         "1.2611940298507462",
         "201",
         "1364.2",
         "130",
         "152",
         "1.1692307692307693",
         "113.0",
         "4",
         "17",
         "0.09196326061997695",
         "8.283242926257147"
        ],
        [
         "8",
         "88",
         "2019-04",
         "1439.4",
         "128",
         "162",
         "1.265625",
         "201",
         "1246.6",
         "122",
         "146",
         "1.1967213114754098",
         "192.80000000000018",
         "6",
         "16",
         "0.06890368852459017",
         "15.466067704155318"
        ]
       ],
       "shape": {
        "columns": 16,
        "rows": 9
       }
      },
      "text/html": [
       "<div>\n",
       "<style scoped>\n",
       "    .dataframe tbody tr th:only-of-type {\n",
       "        vertical-align: middle;\n",
       "    }\n",
       "\n",
       "    .dataframe tbody tr th {\n",
       "        vertical-align: top;\n",
       "    }\n",
       "\n",
       "    .dataframe thead th {\n",
       "        text-align: right;\n",
       "    }\n",
       "</style>\n",
       "<table border=\"1\" class=\"dataframe\">\n",
       "  <thead>\n",
       "    <tr style=\"text-align: right;\">\n",
       "      <th></th>\n",
       "      <th>store_nbr_trial</th>\n",
       "      <th>month</th>\n",
       "      <th>total_sales_trial</th>\n",
       "      <th>total_customers_trial</th>\n",
       "      <th>transactions_trial</th>\n",
       "      <th>avg_transactions_per_customer_trial</th>\n",
       "      <th>store_nbr_control</th>\n",
       "      <th>total_sales_control</th>\n",
       "      <th>total_customers_control</th>\n",
       "      <th>transactions_control</th>\n",
       "      <th>avg_transactions_per_customer_control</th>\n",
       "      <th>diff_sales</th>\n",
       "      <th>diff_costomers</th>\n",
       "      <th>diff_transactions</th>\n",
       "      <th>diff_avg_transactions_per_customer</th>\n",
       "      <th>percent_change</th>\n",
       "    </tr>\n",
       "  </thead>\n",
       "  <tbody>\n",
       "    <tr>\n",
       "      <th>0</th>\n",
       "      <td>77</td>\n",
       "      <td>2019-02</td>\n",
       "      <td>235.0</td>\n",
       "      <td>45</td>\n",
       "      <td>45</td>\n",
       "      <td>1.000000</td>\n",
       "      <td>41</td>\n",
       "      <td>234.6</td>\n",
       "      <td>50</td>\n",
       "      <td>50</td>\n",
       "      <td>1.000000</td>\n",
       "      <td>0.4</td>\n",
       "      <td>-5</td>\n",
       "      <td>-5</td>\n",
       "      <td>0.000000</td>\n",
       "      <td>0.170503</td>\n",
       "    </tr>\n",
       "    <tr>\n",
       "      <th>1</th>\n",
       "      <td>77</td>\n",
       "      <td>2019-03</td>\n",
       "      <td>278.5</td>\n",
       "      <td>50</td>\n",
       "      <td>55</td>\n",
       "      <td>1.100000</td>\n",
       "      <td>41</td>\n",
       "      <td>226.2</td>\n",
       "      <td>46</td>\n",
       "      <td>49</td>\n",
       "      <td>1.065217</td>\n",
       "      <td>52.3</td>\n",
       "      <td>4</td>\n",
       "      <td>6</td>\n",
       "      <td>0.034783</td>\n",
       "      <td>23.121132</td>\n",
       "    </tr>\n",
       "    <tr>\n",
       "      <th>2</th>\n",
       "      <td>77</td>\n",
       "      <td>2019-04</td>\n",
       "      <td>263.5</td>\n",
       "      <td>47</td>\n",
       "      <td>48</td>\n",
       "      <td>1.021277</td>\n",
       "      <td>41</td>\n",
       "      <td>231.3</td>\n",
       "      <td>47</td>\n",
       "      <td>49</td>\n",
       "      <td>1.042553</td>\n",
       "      <td>32.2</td>\n",
       "      <td>0</td>\n",
       "      <td>-1</td>\n",
       "      <td>-0.021277</td>\n",
       "      <td>13.921314</td>\n",
       "    </tr>\n",
       "    <tr>\n",
       "      <th>3</th>\n",
       "      <td>86</td>\n",
       "      <td>2019-02</td>\n",
       "      <td>913.2</td>\n",
       "      <td>107</td>\n",
       "      <td>138</td>\n",
       "      <td>1.289720</td>\n",
       "      <td>109</td>\n",
       "      <td>858.4</td>\n",
       "      <td>91</td>\n",
       "      <td>122</td>\n",
       "      <td>1.340659</td>\n",
       "      <td>54.8</td>\n",
       "      <td>16</td>\n",
       "      <td>16</td>\n",
       "      <td>-0.050940</td>\n",
       "      <td>6.383970</td>\n",
       "    </tr>\n",
       "    <tr>\n",
       "      <th>4</th>\n",
       "      <td>86</td>\n",
       "      <td>2019-03</td>\n",
       "      <td>1026.8</td>\n",
       "      <td>115</td>\n",
       "      <td>140</td>\n",
       "      <td>1.217391</td>\n",
       "      <td>109</td>\n",
       "      <td>1039.2</td>\n",
       "      <td>114</td>\n",
       "      <td>145</td>\n",
       "      <td>1.271930</td>\n",
       "      <td>-12.4</td>\n",
       "      <td>1</td>\n",
       "      <td>-5</td>\n",
       "      <td>-0.054539</td>\n",
       "      <td>-1.193226</td>\n",
       "    </tr>\n",
       "    <tr>\n",
       "      <th>5</th>\n",
       "      <td>86</td>\n",
       "      <td>2019-04</td>\n",
       "      <td>848.2</td>\n",
       "      <td>105</td>\n",
       "      <td>126</td>\n",
       "      <td>1.200000</td>\n",
       "      <td>109</td>\n",
       "      <td>728.6</td>\n",
       "      <td>80</td>\n",
       "      <td>104</td>\n",
       "      <td>1.300000</td>\n",
       "      <td>119.6</td>\n",
       "      <td>25</td>\n",
       "      <td>22</td>\n",
       "      <td>-0.100000</td>\n",
       "      <td>16.415043</td>\n",
       "    </tr>\n",
       "    <tr>\n",
       "      <th>6</th>\n",
       "      <td>88</td>\n",
       "      <td>2019-02</td>\n",
       "      <td>1370.2</td>\n",
       "      <td>124</td>\n",
       "      <td>153</td>\n",
       "      <td>1.233871</td>\n",
       "      <td>201</td>\n",
       "      <td>1139.2</td>\n",
       "      <td>111</td>\n",
       "      <td>128</td>\n",
       "      <td>1.153153</td>\n",
       "      <td>231.0</td>\n",
       "      <td>13</td>\n",
       "      <td>25</td>\n",
       "      <td>0.080718</td>\n",
       "      <td>20.277388</td>\n",
       "    </tr>\n",
       "    <tr>\n",
       "      <th>7</th>\n",
       "      <td>88</td>\n",
       "      <td>2019-03</td>\n",
       "      <td>1477.2</td>\n",
       "      <td>134</td>\n",
       "      <td>169</td>\n",
       "      <td>1.261194</td>\n",
       "      <td>201</td>\n",
       "      <td>1364.2</td>\n",
       "      <td>130</td>\n",
       "      <td>152</td>\n",
       "      <td>1.169231</td>\n",
       "      <td>113.0</td>\n",
       "      <td>4</td>\n",
       "      <td>17</td>\n",
       "      <td>0.091963</td>\n",
       "      <td>8.283243</td>\n",
       "    </tr>\n",
       "    <tr>\n",
       "      <th>8</th>\n",
       "      <td>88</td>\n",
       "      <td>2019-04</td>\n",
       "      <td>1439.4</td>\n",
       "      <td>128</td>\n",
       "      <td>162</td>\n",
       "      <td>1.265625</td>\n",
       "      <td>201</td>\n",
       "      <td>1246.6</td>\n",
       "      <td>122</td>\n",
       "      <td>146</td>\n",
       "      <td>1.196721</td>\n",
       "      <td>192.8</td>\n",
       "      <td>6</td>\n",
       "      <td>16</td>\n",
       "      <td>0.068904</td>\n",
       "      <td>15.466068</td>\n",
       "    </tr>\n",
       "  </tbody>\n",
       "</table>\n",
       "</div>"
      ],
      "text/plain": [
       "   store_nbr_trial    month  total_sales_trial  total_customers_trial  \\\n",
       "0               77  2019-02              235.0                     45   \n",
       "1               77  2019-03              278.5                     50   \n",
       "2               77  2019-04              263.5                     47   \n",
       "3               86  2019-02              913.2                    107   \n",
       "4               86  2019-03             1026.8                    115   \n",
       "5               86  2019-04              848.2                    105   \n",
       "6               88  2019-02             1370.2                    124   \n",
       "7               88  2019-03             1477.2                    134   \n",
       "8               88  2019-04             1439.4                    128   \n",
       "\n",
       "   transactions_trial  avg_transactions_per_customer_trial  store_nbr_control  \\\n",
       "0                  45                             1.000000                 41   \n",
       "1                  55                             1.100000                 41   \n",
       "2                  48                             1.021277                 41   \n",
       "3                 138                             1.289720                109   \n",
       "4                 140                             1.217391                109   \n",
       "5                 126                             1.200000                109   \n",
       "6                 153                             1.233871                201   \n",
       "7                 169                             1.261194                201   \n",
       "8                 162                             1.265625                201   \n",
       "\n",
       "   total_sales_control  total_customers_control  transactions_control  \\\n",
       "0                234.6                       50                    50   \n",
       "1                226.2                       46                    49   \n",
       "2                231.3                       47                    49   \n",
       "3                858.4                       91                   122   \n",
       "4               1039.2                      114                   145   \n",
       "5                728.6                       80                   104   \n",
       "6               1139.2                      111                   128   \n",
       "7               1364.2                      130                   152   \n",
       "8               1246.6                      122                   146   \n",
       "\n",
       "   avg_transactions_per_customer_control  diff_sales  diff_costomers  \\\n",
       "0                               1.000000         0.4              -5   \n",
       "1                               1.065217        52.3               4   \n",
       "2                               1.042553        32.2               0   \n",
       "3                               1.340659        54.8              16   \n",
       "4                               1.271930       -12.4               1   \n",
       "5                               1.300000       119.6              25   \n",
       "6                               1.153153       231.0              13   \n",
       "7                               1.169231       113.0               4   \n",
       "8                               1.196721       192.8               6   \n",
       "\n",
       "   diff_transactions  diff_avg_transactions_per_customer  percent_change  \n",
       "0                 -5                            0.000000        0.170503  \n",
       "1                  6                            0.034783       23.121132  \n",
       "2                 -1                           -0.021277       13.921314  \n",
       "3                 16                           -0.050940        6.383970  \n",
       "4                 -5                           -0.054539       -1.193226  \n",
       "5                 22                           -0.100000       16.415043  \n",
       "6                 25                            0.080718       20.277388  \n",
       "7                 17                            0.091963        8.283243  \n",
       "8                 16                            0.068904       15.466068  "
      ]
     },
     "execution_count": 15,
     "metadata": {},
     "output_type": "execute_result"
    }
   ],
   "source": [
    "comp_df_full"
   ]
  },
  {
   "cell_type": "code",
   "execution_count": 16,
   "id": "5cbd4df9",
   "metadata": {},
   "outputs": [
    {
     "data": {
      "application/vnd.microsoft.datawrangler.viewer.v0+json": {
       "columns": [
        {
         "name": "index",
         "rawType": "int64",
         "type": "integer"
        },
        {
         "name": "store_nbr_trial",
         "rawType": "int64",
         "type": "integer"
        },
        {
         "name": "store_nbr_control",
         "rawType": "int64",
         "type": "integer"
        },
        {
         "name": "diff_sales",
         "rawType": "float64",
         "type": "float"
        },
        {
         "name": "diff_costomers",
         "rawType": "int64",
         "type": "integer"
        },
        {
         "name": "diff_transactions",
         "rawType": "int64",
         "type": "integer"
        },
        {
         "name": "diff_avg_transactions_per_customer",
         "rawType": "float64",
         "type": "float"
        },
        {
         "name": "diff_sales_percent_change",
         "rawType": "float64",
         "type": "float"
        },
        {
         "name": "diff_costomers_percent_change",
         "rawType": "float64",
         "type": "float"
        },
        {
         "name": "diff_transactions_percent_change",
         "rawType": "float64",
         "type": "float"
        },
        {
         "name": "diff_avg_transactions_percent_change",
         "rawType": "float64",
         "type": "float"
        }
       ],
       "conversionMethod": "pd.DataFrame",
       "ref": "45f7072f-91b6-4bdd-a4e0-3340834b312c",
       "rows": [
        [
         "0",
         "77",
         "41",
         "84.9",
         "-1",
         "0",
         "0.013506012950971202",
         "12.267013437364543",
         "-0.6993006993006993",
         "0.0",
         "0.43458848042863135"
        ],
        [
         "1",
         "86",
         "109",
         "162.0",
         "42",
         "33",
         "-0.20547823470469373",
         "6.168608636052091",
         "14.736842105263156",
         "8.89487870619946",
         "-5.251720178832036"
        ],
        [
         "2",
         "88",
         "201",
         "536.8000000000002",
         "23",
         "58",
         "0.24158476373334947",
         "14.314666666666673",
         "6.336088154269973",
         "13.615023474178404",
         "6.864948550242935"
        ]
       ],
       "shape": {
        "columns": 10,
        "rows": 3
       }
      },
      "text/html": [
       "<div>\n",
       "<style scoped>\n",
       "    .dataframe tbody tr th:only-of-type {\n",
       "        vertical-align: middle;\n",
       "    }\n",
       "\n",
       "    .dataframe tbody tr th {\n",
       "        vertical-align: top;\n",
       "    }\n",
       "\n",
       "    .dataframe thead th {\n",
       "        text-align: right;\n",
       "    }\n",
       "</style>\n",
       "<table border=\"1\" class=\"dataframe\">\n",
       "  <thead>\n",
       "    <tr style=\"text-align: right;\">\n",
       "      <th></th>\n",
       "      <th>store_nbr_trial</th>\n",
       "      <th>store_nbr_control</th>\n",
       "      <th>diff_sales</th>\n",
       "      <th>diff_costomers</th>\n",
       "      <th>diff_transactions</th>\n",
       "      <th>diff_avg_transactions_per_customer</th>\n",
       "      <th>diff_sales_percent_change</th>\n",
       "      <th>diff_costomers_percent_change</th>\n",
       "      <th>diff_transactions_percent_change</th>\n",
       "      <th>diff_avg_transactions_percent_change</th>\n",
       "    </tr>\n",
       "  </thead>\n",
       "  <tbody>\n",
       "    <tr>\n",
       "      <th>0</th>\n",
       "      <td>77</td>\n",
       "      <td>41</td>\n",
       "      <td>84.9</td>\n",
       "      <td>-1</td>\n",
       "      <td>0</td>\n",
       "      <td>0.013506</td>\n",
       "      <td>12.267013</td>\n",
       "      <td>-0.699301</td>\n",
       "      <td>0.000000</td>\n",
       "      <td>0.434588</td>\n",
       "    </tr>\n",
       "    <tr>\n",
       "      <th>1</th>\n",
       "      <td>86</td>\n",
       "      <td>109</td>\n",
       "      <td>162.0</td>\n",
       "      <td>42</td>\n",
       "      <td>33</td>\n",
       "      <td>-0.205478</td>\n",
       "      <td>6.168609</td>\n",
       "      <td>14.736842</td>\n",
       "      <td>8.894879</td>\n",
       "      <td>-5.251720</td>\n",
       "    </tr>\n",
       "    <tr>\n",
       "      <th>2</th>\n",
       "      <td>88</td>\n",
       "      <td>201</td>\n",
       "      <td>536.8</td>\n",
       "      <td>23</td>\n",
       "      <td>58</td>\n",
       "      <td>0.241585</td>\n",
       "      <td>14.314667</td>\n",
       "      <td>6.336088</td>\n",
       "      <td>13.615023</td>\n",
       "      <td>6.864949</td>\n",
       "    </tr>\n",
       "  </tbody>\n",
       "</table>\n",
       "</div>"
      ],
      "text/plain": [
       "   store_nbr_trial  store_nbr_control  diff_sales  diff_costomers  \\\n",
       "0               77                 41        84.9              -1   \n",
       "1               86                109       162.0              42   \n",
       "2               88                201       536.8              23   \n",
       "\n",
       "   diff_transactions  diff_avg_transactions_per_customer  \\\n",
       "0                  0                            0.013506   \n",
       "1                 33                           -0.205478   \n",
       "2                 58                            0.241585   \n",
       "\n",
       "   diff_sales_percent_change  diff_costomers_percent_change  \\\n",
       "0                  12.267013                      -0.699301   \n",
       "1                   6.168609                      14.736842   \n",
       "2                  14.314667                       6.336088   \n",
       "\n",
       "   diff_transactions_percent_change  diff_avg_transactions_percent_change  \n",
       "0                          0.000000                              0.434588  \n",
       "1                          8.894879                             -5.251720  \n",
       "2                         13.615023                              6.864949  "
      ]
     },
     "execution_count": 16,
     "metadata": {},
     "output_type": "execute_result"
    }
   ],
   "source": [
    "final_results"
   ]
  },
  {
   "cell_type": "code",
   "execution_count": 17,
   "id": "f2181f97",
   "metadata": {},
   "outputs": [
    {
     "data": {
      "application/vnd.microsoft.datawrangler.viewer.v0+json": {
       "columns": [
        {
         "name": "index",
         "rawType": "int64",
         "type": "integer"
        },
        {
         "name": "store_nbr_trial",
         "rawType": "int64",
         "type": "integer"
        },
        {
         "name": "store_nbr_control",
         "rawType": "int64",
         "type": "integer"
        },
        {
         "name": "diff_sales_percent_change",
         "rawType": "float64",
         "type": "float"
        },
        {
         "name": "diff_sales",
         "rawType": "float64",
         "type": "float"
        },
        {
         "name": "diff_costomers",
         "rawType": "int64",
         "type": "integer"
        },
        {
         "name": "diff_transactions",
         "rawType": "int64",
         "type": "integer"
        },
        {
         "name": "diff_avg_transactions_per_customer",
         "rawType": "float64",
         "type": "float"
        }
       ],
       "conversionMethod": "pd.DataFrame",
       "ref": "ff6ff67e-6679-4b04-b68f-cf8238b2a926",
       "rows": [
        [
         "0",
         "77",
         "41",
         "12.267013437364543",
         "84.9",
         "-1",
         "0",
         "0.013506012950971202"
        ],
        [
         "1",
         "86",
         "109",
         "6.168608636052091",
         "162.0",
         "42",
         "33",
         "-0.20547823470469373"
        ],
        [
         "2",
         "88",
         "201",
         "14.314666666666673",
         "536.8000000000002",
         "23",
         "58",
         "0.24158476373334947"
        ]
       ],
       "shape": {
        "columns": 7,
        "rows": 3
       }
      },
      "text/html": [
       "<div>\n",
       "<style scoped>\n",
       "    .dataframe tbody tr th:only-of-type {\n",
       "        vertical-align: middle;\n",
       "    }\n",
       "\n",
       "    .dataframe tbody tr th {\n",
       "        vertical-align: top;\n",
       "    }\n",
       "\n",
       "    .dataframe thead th {\n",
       "        text-align: right;\n",
       "    }\n",
       "</style>\n",
       "<table border=\"1\" class=\"dataframe\">\n",
       "  <thead>\n",
       "    <tr style=\"text-align: right;\">\n",
       "      <th></th>\n",
       "      <th>store_nbr_trial</th>\n",
       "      <th>store_nbr_control</th>\n",
       "      <th>diff_sales_percent_change</th>\n",
       "      <th>diff_sales</th>\n",
       "      <th>diff_costomers</th>\n",
       "      <th>diff_transactions</th>\n",
       "      <th>diff_avg_transactions_per_customer</th>\n",
       "    </tr>\n",
       "  </thead>\n",
       "  <tbody>\n",
       "    <tr>\n",
       "      <th>0</th>\n",
       "      <td>77</td>\n",
       "      <td>41</td>\n",
       "      <td>12.267013</td>\n",
       "      <td>84.9</td>\n",
       "      <td>-1</td>\n",
       "      <td>0</td>\n",
       "      <td>0.013506</td>\n",
       "    </tr>\n",
       "    <tr>\n",
       "      <th>1</th>\n",
       "      <td>86</td>\n",
       "      <td>109</td>\n",
       "      <td>6.168609</td>\n",
       "      <td>162.0</td>\n",
       "      <td>42</td>\n",
       "      <td>33</td>\n",
       "      <td>-0.205478</td>\n",
       "    </tr>\n",
       "    <tr>\n",
       "      <th>2</th>\n",
       "      <td>88</td>\n",
       "      <td>201</td>\n",
       "      <td>14.314667</td>\n",
       "      <td>536.8</td>\n",
       "      <td>23</td>\n",
       "      <td>58</td>\n",
       "      <td>0.241585</td>\n",
       "    </tr>\n",
       "  </tbody>\n",
       "</table>\n",
       "</div>"
      ],
      "text/plain": [
       "   store_nbr_trial  store_nbr_control  diff_sales_percent_change  diff_sales  \\\n",
       "0               77                 41                  12.267013        84.9   \n",
       "1               86                109                   6.168609       162.0   \n",
       "2               88                201                  14.314667       536.8   \n",
       "\n",
       "   diff_costomers  diff_transactions  diff_avg_transactions_per_customer  \n",
       "0              -1                  0                            0.013506  \n",
       "1              42                 33                           -0.205478  \n",
       "2              23                 58                            0.241585  "
      ]
     },
     "execution_count": 17,
     "metadata": {},
     "output_type": "execute_result"
    }
   ],
   "source": [
    "final_results[['store_nbr_trial', 'store_nbr_control', 'diff_sales_percent_change', 'diff_sales', 'diff_costomers', 'diff_transactions', 'diff_avg_transactions_per_customer']]"
   ]
  },
  {
   "cell_type": "markdown",
   "id": "a1a89c89",
   "metadata": {},
   "source": [
    "#### Analysis result\n",
    "\n",
    "If we take as a basis that changes of more than 10% are significant, we see that in store 77 and 88 sales increased significantly, and in 86 stores there was also growth, but not more than 10 percent.\n",
    "\n",
    "I recommend implementing changes to all stores."
   ]
  }
 ],
 "metadata": {
  "kernelspec": {
   "display_name": "Python 3",
   "language": "python",
   "name": "python3"
  },
  "language_info": {
   "codemirror_mode": {
    "name": "ipython",
    "version": 3
   },
   "file_extension": ".py",
   "mimetype": "text/x-python",
   "name": "python",
   "nbconvert_exporter": "python",
   "pygments_lexer": "ipython3",
   "version": "3.12.3"
  }
 },
 "nbformat": 4,
 "nbformat_minor": 5
}
