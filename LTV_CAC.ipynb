{
 "cells": [
  {
   "cell_type": "markdown",
   "id": "3593859f",
   "metadata": {},
   "source": [
    "# Рахуємо LTV і CAC"
   ]
  },
  {
   "cell_type": "code",
   "execution_count": 1,
   "id": "375b3ca6",
   "metadata": {},
   "outputs": [],
   "source": [
    "import pandas as pd \n",
    "from termcolor import cprint\n",
    "import seaborn as sns\n",
    "import matplotlib.pyplot as plt\n",
    "import numpy as np"
   ]
  },
  {
   "cell_type": "code",
   "execution_count": 83,
   "id": "5aca2c8f",
   "metadata": {},
   "outputs": [
    {
     "name": "stdout",
     "output_type": "stream",
     "text": [
      "\u001b[32m______________orders________________\u001b[0m\n",
      "\n",
      "\u001b[32m               oid  order_date  revenue            uid\n",
      "0  o_6464340367720  2019-06-04      987  1977063117428\n",
      "1  o_3250639350268  2019-07-09     1757  1977063117428\n",
      "2  o_1069773391530  2019-07-21     1380  1977063117428\n",
      "3  o_8535010565482  2019-08-11     1150  1977063117428\n",
      "4  o_0501192807113  2019-04-12     1117  1411482247934\u001b[0m\n",
      "\n",
      "\u001b[34m______________costs________________\u001b[0m\n",
      "\n",
      "\u001b[34m         date  costs\n",
      "0  2019-01-07   3085\n",
      "1  2019-01-12   5594\n",
      "2  2019-01-13   8523\n",
      "3  2019-01-14  10356\n",
      "4  2019-01-15   7455\u001b[0m\n"
     ]
    }
   ],
   "source": [
    "orders = pd.read_csv('./data/ltv_orders_2.csv')\n",
    "costs = pd.read_csv('./data/ltv_costs_2.csv')\n",
    "\n",
    "cprint('______________orders________________', 'green')\n",
    "print()\n",
    "cprint(orders.head(),'green')\n",
    "print()\n",
    "cprint('______________costs________________', 'blue')\n",
    "print()\n",
    "cprint(costs.head(), 'blue')"
   ]
  },
  {
   "cell_type": "markdown",
   "id": "e719012c",
   "metadata": {},
   "source": [
    "Дивимось розподіл дат замовлень"
   ]
  },
  {
   "cell_type": "code",
   "execution_count": 3,
   "id": "861d58fd",
   "metadata": {},
   "outputs": [
    {
     "name": "stdout",
     "output_type": "stream",
     "text": [
      "\u001b[32m______________orders________________\u001b[0m\n",
      "count           5946\n",
      "unique           240\n",
      "top       2019-06-27\n",
      "freq              53\n",
      "Name: order_date, dtype: object\n",
      "2019-01-07\n",
      "2019-09-08\n",
      "\u001b[34m______________costs________________\u001b[0m\n",
      "count            236\n",
      "unique           236\n",
      "top       2019-01-07\n",
      "freq               1\n",
      "Name: date, dtype: object\n",
      "2019-01-07\n",
      "2019-09-08\n"
     ]
    }
   ],
   "source": [
    "cprint('______________orders________________', 'green')\n",
    "print(orders['order_date'].describe())\n",
    "print(orders['order_date'].min())\n",
    "print(orders['order_date'].max())\n",
    "cprint('______________costs________________', 'blue')\n",
    "print(costs['date'].describe())\n",
    "print(costs['date'].min())\n",
    "print(costs['date'].max())"
   ]
  },
  {
   "cell_type": "markdown",
   "id": "de10a531",
   "metadata": {},
   "source": [
    "У нас дані по виручці та витратам за однаковий період в 8 місяців. \n",
    "\n",
    "Подивимось динаміку виручки та затрат по кожному місяцю. "
   ]
  },
  {
   "cell_type": "code",
   "execution_count": 4,
   "id": "fee348ed",
   "metadata": {},
   "outputs": [
    {
     "data": {
      "application/vnd.microsoft.datawrangler.viewer.v0+json": {
       "columns": [
        {
         "name": "order_month",
         "rawType": "period[M]",
         "type": "unknown"
        },
        {
         "name": "revenue",
         "rawType": "int64",
         "type": "integer"
        }
       ],
       "conversionMethod": "pd.DataFrame",
       "ref": "02380e6c-cc49-4070-a3f3-669f0afe09c2",
       "rows": [
        [
         "2019-01",
         "61650"
        ],
        [
         "2019-02",
         "223917"
        ],
        [
         "2019-03",
         "497242"
        ],
        [
         "2019-04",
         "687080"
        ],
        [
         "2019-05",
         "894742"
        ],
        [
         "2019-06",
         "1050544"
        ],
        [
         "2019-07",
         "1109351"
        ],
        [
         "2019-08",
         "1141694"
        ],
        [
         "2019-09",
         "266026"
        ]
       ],
       "shape": {
        "columns": 1,
        "rows": 9
       }
      },
      "text/html": [
       "<div>\n",
       "<style scoped>\n",
       "    .dataframe tbody tr th:only-of-type {\n",
       "        vertical-align: middle;\n",
       "    }\n",
       "\n",
       "    .dataframe tbody tr th {\n",
       "        vertical-align: top;\n",
       "    }\n",
       "\n",
       "    .dataframe thead th {\n",
       "        text-align: right;\n",
       "    }\n",
       "</style>\n",
       "<table border=\"1\" class=\"dataframe\">\n",
       "  <thead>\n",
       "    <tr style=\"text-align: right;\">\n",
       "      <th></th>\n",
       "      <th>revenue</th>\n",
       "    </tr>\n",
       "    <tr>\n",
       "      <th>order_month</th>\n",
       "      <th></th>\n",
       "    </tr>\n",
       "  </thead>\n",
       "  <tbody>\n",
       "    <tr>\n",
       "      <th>2019-01</th>\n",
       "      <td>61650</td>\n",
       "    </tr>\n",
       "    <tr>\n",
       "      <th>2019-02</th>\n",
       "      <td>223917</td>\n",
       "    </tr>\n",
       "    <tr>\n",
       "      <th>2019-03</th>\n",
       "      <td>497242</td>\n",
       "    </tr>\n",
       "    <tr>\n",
       "      <th>2019-04</th>\n",
       "      <td>687080</td>\n",
       "    </tr>\n",
       "    <tr>\n",
       "      <th>2019-05</th>\n",
       "      <td>894742</td>\n",
       "    </tr>\n",
       "    <tr>\n",
       "      <th>2019-06</th>\n",
       "      <td>1050544</td>\n",
       "    </tr>\n",
       "    <tr>\n",
       "      <th>2019-07</th>\n",
       "      <td>1109351</td>\n",
       "    </tr>\n",
       "    <tr>\n",
       "      <th>2019-08</th>\n",
       "      <td>1141694</td>\n",
       "    </tr>\n",
       "    <tr>\n",
       "      <th>2019-09</th>\n",
       "      <td>266026</td>\n",
       "    </tr>\n",
       "  </tbody>\n",
       "</table>\n",
       "</div>"
      ],
      "text/plain": [
       "             revenue\n",
       "order_month         \n",
       "2019-01        61650\n",
       "2019-02       223917\n",
       "2019-03       497242\n",
       "2019-04       687080\n",
       "2019-05       894742\n",
       "2019-06      1050544\n",
       "2019-07      1109351\n",
       "2019-08      1141694\n",
       "2019-09       266026"
      ]
     },
     "execution_count": 4,
     "metadata": {},
     "output_type": "execute_result"
    }
   ],
   "source": [
    "orders['order_month'] = pd.to_datetime(orders['order_date']).dt.to_period('M')\n",
    "revenue_per_month = orders.groupby('order_month').agg({'revenue': 'sum'})\n",
    "revenue_per_month"
   ]
  },
  {
   "cell_type": "code",
   "execution_count": 5,
   "id": "e1663e92",
   "metadata": {},
   "outputs": [
    {
     "data": {
      "image/png": "[encoded data removed]",
      "text/plain": [
       "<Figure size 640x480 with 1 Axes>"
      ]
     },
     "metadata": {},
     "output_type": "display_data"
    }
   ],
   "source": [
    "orders.groupby('order_month').agg({'revenue': 'sum'}).plot(kind='line', marker = 'o', title='Виручка по місяцям', color='g');"
   ]
  },
  {
   "cell_type": "code",
   "execution_count": 6,
   "id": "5e951384",
   "metadata": {},
   "outputs": [
    {
     "data": {
      "application/vnd.microsoft.datawrangler.viewer.v0+json": {
       "columns": [
        {
         "name": "cost_month",
         "rawType": "period[M]",
         "type": "unknown"
        },
        {
         "name": "costs",
         "rawType": "int64",
         "type": "integer"
        }
       ],
       "conversionMethod": "pd.DataFrame",
       "ref": "e1042124-d76d-4f33-8542-f1ee404341a0",
       "rows": [
        [
         "2019-01",
         "131376"
        ],
        [
         "2019-02",
         "365652"
        ],
        [
         "2019-03",
         "574721"
        ],
        [
         "2019-04",
         "496602"
        ],
        [
         "2019-05",
         "536254"
        ],
        [
         "2019-06",
         "660975"
        ],
        [
         "2019-07",
         "706049"
        ],
        [
         "2019-08",
         "796449"
        ],
        [
         "2019-09",
         "207446"
        ]
       ],
       "shape": {
        "columns": 1,
        "rows": 9
       }
      },
      "text/html": [
       "<div>\n",
       "<style scoped>\n",
       "    .dataframe tbody tr th:only-of-type {\n",
       "        vertical-align: middle;\n",
       "    }\n",
       "\n",
       "    .dataframe tbody tr th {\n",
       "        vertical-align: top;\n",
       "    }\n",
       "\n",
       "    .dataframe thead th {\n",
       "        text-align: right;\n",
       "    }\n",
       "</style>\n",
       "<table border=\"1\" class=\"dataframe\">\n",
       "  <thead>\n",
       "    <tr style=\"text-align: right;\">\n",
       "      <th></th>\n",
       "      <th>costs</th>\n",
       "    </tr>\n",
       "    <tr>\n",
       "      <th>cost_month</th>\n",
       "      <th></th>\n",
       "    </tr>\n",
       "  </thead>\n",
       "  <tbody>\n",
       "    <tr>\n",
       "      <th>2019-01</th>\n",
       "      <td>131376</td>\n",
       "    </tr>\n",
       "    <tr>\n",
       "      <th>2019-02</th>\n",
       "      <td>365652</td>\n",
       "    </tr>\n",
       "    <tr>\n",
       "      <th>2019-03</th>\n",
       "      <td>574721</td>\n",
       "    </tr>\n",
       "    <tr>\n",
       "      <th>2019-04</th>\n",
       "      <td>496602</td>\n",
       "    </tr>\n",
       "    <tr>\n",
       "      <th>2019-05</th>\n",
       "      <td>536254</td>\n",
       "    </tr>\n",
       "    <tr>\n",
       "      <th>2019-06</th>\n",
       "      <td>660975</td>\n",
       "    </tr>\n",
       "    <tr>\n",
       "      <th>2019-07</th>\n",
       "      <td>706049</td>\n",
       "    </tr>\n",
       "    <tr>\n",
       "      <th>2019-08</th>\n",
       "      <td>796449</td>\n",
       "    </tr>\n",
       "    <tr>\n",
       "      <th>2019-09</th>\n",
       "      <td>207446</td>\n",
       "    </tr>\n",
       "  </tbody>\n",
       "</table>\n",
       "</div>"
      ],
      "text/plain": [
       "             costs\n",
       "cost_month        \n",
       "2019-01     131376\n",
       "2019-02     365652\n",
       "2019-03     574721\n",
       "2019-04     496602\n",
       "2019-05     536254\n",
       "2019-06     660975\n",
       "2019-07     706049\n",
       "2019-08     796449\n",
       "2019-09     207446"
      ]
     },
     "execution_count": 6,
     "metadata": {},
     "output_type": "execute_result"
    }
   ],
   "source": [
    "costs['cost_month'] = pd.to_datetime(costs['date']).dt.to_period('M')\n",
    "cost_per_month = costs.groupby('cost_month').agg({'costs': 'sum'})\n",
    "cost_per_month "
   ]
  },
  {
   "cell_type": "code",
   "execution_count": 7,
   "id": "3470cc6b",
   "metadata": {},
   "outputs": [
    {
     "data": {
      "image/png": "[encoded data removed]",
      "text/plain": [
       "<Figure size 640x480 with 1 Axes>"
      ]
     },
     "metadata": {},
     "output_type": "display_data"
    }
   ],
   "source": [
    "costs.groupby('cost_month').agg({'costs': 'sum'}).plot(kind='line',marker = 'o',title='Витрати по місяцям' );"
   ]
  },
  {
   "cell_type": "code",
   "execution_count": 8,
   "id": "43beaf64",
   "metadata": {},
   "outputs": [
    {
     "data": {
      "application/vnd.microsoft.datawrangler.viewer.v0+json": {
       "columns": [
        {
         "name": "order_month",
         "rawType": "period[M]",
         "type": "unknown"
        },
        {
         "name": "revenue",
         "rawType": "int64",
         "type": "integer"
        },
        {
         "name": "costs",
         "rawType": "int64",
         "type": "integer"
        }
       ],
       "conversionMethod": "pd.DataFrame",
       "ref": "e997b156-bd4c-4198-b53f-3c9563102609",
       "rows": [
        [
         "2019-01",
         "61650",
         "131376"
        ],
        [
         "2019-02",
         "223917",
         "365652"
        ],
        [
         "2019-03",
         "497242",
         "574721"
        ],
        [
         "2019-04",
         "687080",
         "496602"
        ],
        [
         "2019-05",
         "894742",
         "536254"
        ],
        [
         "2019-06",
         "1050544",
         "660975"
        ],
        [
         "2019-07",
         "1109351",
         "706049"
        ],
        [
         "2019-08",
         "1141694",
         "796449"
        ],
        [
         "2019-09",
         "266026",
         "207446"
        ]
       ],
       "shape": {
        "columns": 2,
        "rows": 9
       }
      },
      "text/html": [
       "<div>\n",
       "<style scoped>\n",
       "    .dataframe tbody tr th:only-of-type {\n",
       "        vertical-align: middle;\n",
       "    }\n",
       "\n",
       "    .dataframe tbody tr th {\n",
       "        vertical-align: top;\n",
       "    }\n",
       "\n",
       "    .dataframe thead th {\n",
       "        text-align: right;\n",
       "    }\n",
       "</style>\n",
       "<table border=\"1\" class=\"dataframe\">\n",
       "  <thead>\n",
       "    <tr style=\"text-align: right;\">\n",
       "      <th></th>\n",
       "      <th>revenue</th>\n",
       "      <th>costs</th>\n",
       "    </tr>\n",
       "    <tr>\n",
       "      <th>order_month</th>\n",
       "      <th></th>\n",
       "      <th></th>\n",
       "    </tr>\n",
       "  </thead>\n",
       "  <tbody>\n",
       "    <tr>\n",
       "      <th>2019-01</th>\n",
       "      <td>61650</td>\n",
       "      <td>131376</td>\n",
       "    </tr>\n",
       "    <tr>\n",
       "      <th>2019-02</th>\n",
       "      <td>223917</td>\n",
       "      <td>365652</td>\n",
       "    </tr>\n",
       "    <tr>\n",
       "      <th>2019-03</th>\n",
       "      <td>497242</td>\n",
       "      <td>574721</td>\n",
       "    </tr>\n",
       "    <tr>\n",
       "      <th>2019-04</th>\n",
       "      <td>687080</td>\n",
       "      <td>496602</td>\n",
       "    </tr>\n",
       "    <tr>\n",
       "      <th>2019-05</th>\n",
       "      <td>894742</td>\n",
       "      <td>536254</td>\n",
       "    </tr>\n",
       "    <tr>\n",
       "      <th>2019-06</th>\n",
       "      <td>1050544</td>\n",
       "      <td>660975</td>\n",
       "    </tr>\n",
       "    <tr>\n",
       "      <th>2019-07</th>\n",
       "      <td>1109351</td>\n",
       "      <td>706049</td>\n",
       "    </tr>\n",
       "    <tr>\n",
       "      <th>2019-08</th>\n",
       "      <td>1141694</td>\n",
       "      <td>796449</td>\n",
       "    </tr>\n",
       "    <tr>\n",
       "      <th>2019-09</th>\n",
       "      <td>266026</td>\n",
       "      <td>207446</td>\n",
       "    </tr>\n",
       "  </tbody>\n",
       "</table>\n",
       "</div>"
      ],
      "text/plain": [
       "             revenue   costs\n",
       "order_month                 \n",
       "2019-01        61650  131376\n",
       "2019-02       223917  365652\n",
       "2019-03       497242  574721\n",
       "2019-04       687080  496602\n",
       "2019-05       894742  536254\n",
       "2019-06      1050544  660975\n",
       "2019-07      1109351  706049\n",
       "2019-08      1141694  796449\n",
       "2019-09       266026  207446"
      ]
     },
     "execution_count": 8,
     "metadata": {},
     "output_type": "execute_result"
    }
   ],
   "source": [
    "revenue_per_month.join(cost_per_month)"
   ]
  },
  {
   "cell_type": "code",
   "execution_count": 9,
   "id": "60132ed3",
   "metadata": {},
   "outputs": [
    {
     "data": {
      "image/png": "[encoded data removed]",
      "text/plain": [
       "<Figure size 1500x500 with 1 Axes>"
      ]
     },
     "metadata": {},
     "output_type": "display_data"
    }
   ],
   "source": [
    "revenue_per_month.join(cost_per_month, how='outer').plot(kind='bar', title='Витрати та виручка по місяцям', color=['g','b'], figsize=(15, 5), width=0.8);"
   ]
  },
  {
   "cell_type": "markdown",
   "id": "54705799",
   "metadata": {},
   "source": [
    "Виручка почала перевищувати витрати лише з 4-го місяця. \n",
    "\n",
    "Розрахуємо LTV\n",
    "для цього розіб'ємо замовлення по когортам по даті першого замовлення. "
   ]
  },
  {
   "cell_type": "code",
   "execution_count": 10,
   "id": "09d2f8f9",
   "metadata": {},
   "outputs": [
    {
     "data": {
      "application/vnd.microsoft.datawrangler.viewer.v0+json": {
       "columns": [
        {
         "name": "index",
         "rawType": "int64",
         "type": "integer"
        },
        {
         "name": "uid",
         "rawType": "int64",
         "type": "integer"
        },
        {
         "name": "first_order_month",
         "rawType": "period[M]",
         "type": "unknown"
        }
       ],
       "conversionMethod": "pd.DataFrame",
       "ref": "b490d88d-dd07-4a6f-a8e9-84bd59d62151",
       "rows": [
        [
         "0",
         "13074317240",
         "2019-08"
        ],
        [
         "1",
         "13358924638",
         "2019-03"
        ],
        [
         "2",
         "14050647580",
         "2019-03"
        ],
        [
         "3",
         "16884559282",
         "2019-06"
        ],
        [
         "4",
         "20218465033",
         "2019-05"
        ]
       ],
       "shape": {
        "columns": 2,
        "rows": 5
       }
      },
      "text/html": [
       "<div>\n",
       "<style scoped>\n",
       "    .dataframe tbody tr th:only-of-type {\n",
       "        vertical-align: middle;\n",
       "    }\n",
       "\n",
       "    .dataframe tbody tr th {\n",
       "        vertical-align: top;\n",
       "    }\n",
       "\n",
       "    .dataframe thead th {\n",
       "        text-align: right;\n",
       "    }\n",
       "</style>\n",
       "<table border=\"1\" class=\"dataframe\">\n",
       "  <thead>\n",
       "    <tr style=\"text-align: right;\">\n",
       "      <th></th>\n",
       "      <th>uid</th>\n",
       "      <th>first_order_month</th>\n",
       "    </tr>\n",
       "  </thead>\n",
       "  <tbody>\n",
       "    <tr>\n",
       "      <th>0</th>\n",
       "      <td>13074317240</td>\n",
       "      <td>2019-08</td>\n",
       "    </tr>\n",
       "    <tr>\n",
       "      <th>1</th>\n",
       "      <td>13358924638</td>\n",
       "      <td>2019-03</td>\n",
       "    </tr>\n",
       "    <tr>\n",
       "      <th>2</th>\n",
       "      <td>14050647580</td>\n",
       "      <td>2019-03</td>\n",
       "    </tr>\n",
       "    <tr>\n",
       "      <th>3</th>\n",
       "      <td>16884559282</td>\n",
       "      <td>2019-06</td>\n",
       "    </tr>\n",
       "    <tr>\n",
       "      <th>4</th>\n",
       "      <td>20218465033</td>\n",
       "      <td>2019-05</td>\n",
       "    </tr>\n",
       "  </tbody>\n",
       "</table>\n",
       "</div>"
      ],
      "text/plain": [
       "           uid first_order_month\n",
       "0  13074317240           2019-08\n",
       "1  13358924638           2019-03\n",
       "2  14050647580           2019-03\n",
       "3  16884559282           2019-06\n",
       "4  20218465033           2019-05"
      ]
     },
     "execution_count": 10,
     "metadata": {},
     "output_type": "execute_result"
    }
   ],
   "source": [
    "first_orders = orders.groupby('uid').agg({'order_month': 'min'}).reset_index()\n",
    "first_orders.columns = ['uid', 'first_order_month']\n",
    "first_orders.head()"
   ]
  },
  {
   "cell_type": "markdown",
   "id": "32a664c7",
   "metadata": {},
   "source": [
    "Подивимось на кількість клієнтів в кожній когорті. "
   ]
  },
  {
   "cell_type": "code",
   "execution_count": 11,
   "id": "b551cb43",
   "metadata": {},
   "outputs": [
    {
     "data": {
      "application/vnd.microsoft.datawrangler.viewer.v0+json": {
       "columns": [
        {
         "name": "index",
         "rawType": "int64",
         "type": "integer"
        },
        {
         "name": "first_order_month",
         "rawType": "period[M]",
         "type": "unknown"
        },
        {
         "name": "n_buyers",
         "rawType": "int64",
         "type": "integer"
        }
       ],
       "conversionMethod": "pd.DataFrame",
       "ref": "c5f47956-e38c-40d4-a719-1ea009d92ce5",
       "rows": [
        [
         "0",
         "2019-01",
         "46"
        ],
        [
         "1",
         "2019-02",
         "122"
        ],
        [
         "2",
         "2019-03",
         "182"
        ],
        [
         "3",
         "2019-04",
         "173"
        ],
        [
         "4",
         "2019-05",
         "182"
        ],
        [
         "5",
         "2019-06",
         "220"
        ],
        [
         "6",
         "2019-07",
         "233"
        ],
        [
         "7",
         "2019-08",
         "268"
        ],
        [
         "8",
         "2019-09",
         "67"
        ]
       ],
       "shape": {
        "columns": 2,
        "rows": 9
       }
      },
      "text/html": [
       "<div>\n",
       "<style scoped>\n",
       "    .dataframe tbody tr th:only-of-type {\n",
       "        vertical-align: middle;\n",
       "    }\n",
       "\n",
       "    .dataframe tbody tr th {\n",
       "        vertical-align: top;\n",
       "    }\n",
       "\n",
       "    .dataframe thead th {\n",
       "        text-align: right;\n",
       "    }\n",
       "</style>\n",
       "<table border=\"1\" class=\"dataframe\">\n",
       "  <thead>\n",
       "    <tr style=\"text-align: right;\">\n",
       "      <th></th>\n",
       "      <th>first_order_month</th>\n",
       "      <th>n_buyers</th>\n",
       "    </tr>\n",
       "  </thead>\n",
       "  <tbody>\n",
       "    <tr>\n",
       "      <th>0</th>\n",
       "      <td>2019-01</td>\n",
       "      <td>46</td>\n",
       "    </tr>\n",
       "    <tr>\n",
       "      <th>1</th>\n",
       "      <td>2019-02</td>\n",
       "      <td>122</td>\n",
       "    </tr>\n",
       "    <tr>\n",
       "      <th>2</th>\n",
       "      <td>2019-03</td>\n",
       "      <td>182</td>\n",
       "    </tr>\n",
       "    <tr>\n",
       "      <th>3</th>\n",
       "      <td>2019-04</td>\n",
       "      <td>173</td>\n",
       "    </tr>\n",
       "    <tr>\n",
       "      <th>4</th>\n",
       "      <td>2019-05</td>\n",
       "      <td>182</td>\n",
       "    </tr>\n",
       "    <tr>\n",
       "      <th>5</th>\n",
       "      <td>2019-06</td>\n",
       "      <td>220</td>\n",
       "    </tr>\n",
       "    <tr>\n",
       "      <th>6</th>\n",
       "      <td>2019-07</td>\n",
       "      <td>233</td>\n",
       "    </tr>\n",
       "    <tr>\n",
       "      <th>7</th>\n",
       "      <td>2019-08</td>\n",
       "      <td>268</td>\n",
       "    </tr>\n",
       "    <tr>\n",
       "      <th>8</th>\n",
       "      <td>2019-09</td>\n",
       "      <td>67</td>\n",
       "    </tr>\n",
       "  </tbody>\n",
       "</table>\n",
       "</div>"
      ],
      "text/plain": [
       "  first_order_month  n_buyers\n",
       "0           2019-01        46\n",
       "1           2019-02       122\n",
       "2           2019-03       182\n",
       "3           2019-04       173\n",
       "4           2019-05       182\n",
       "5           2019-06       220\n",
       "6           2019-07       233\n",
       "7           2019-08       268\n",
       "8           2019-09        67"
      ]
     },
     "execution_count": 11,
     "metadata": {},
     "output_type": "execute_result"
    }
   ],
   "source": [
    "cohort_sizes = first_orders.groupby('first_order_month').agg({'uid': 'nunique'}).reset_index()\n",
    "cohort_sizes.columns = ['first_order_month', 'n_buyers']\n",
    "cohort_sizes"
   ]
  },
  {
   "cell_type": "markdown",
   "id": "5707f87d",
   "metadata": {},
   "source": [
    "Добавимо в таблицю з замовленнями стовчик з місяцем першого замовлення."
   ]
  },
  {
   "cell_type": "code",
   "execution_count": 12,
   "id": "c4c068e4",
   "metadata": {},
   "outputs": [
    {
     "data": {
      "application/vnd.microsoft.datawrangler.viewer.v0+json": {
       "columns": [
        {
         "name": "index",
         "rawType": "int64",
         "type": "integer"
        },
        {
         "name": "oid",
         "rawType": "object",
         "type": "string"
        },
        {
         "name": "order_date",
         "rawType": "object",
         "type": "string"
        },
        {
         "name": "revenue",
         "rawType": "int64",
         "type": "integer"
        },
        {
         "name": "uid",
         "rawType": "int64",
         "type": "integer"
        },
        {
         "name": "order_month",
         "rawType": "period[M]",
         "type": "unknown"
        },
        {
         "name": "first_order_month",
         "rawType": "period[M]",
         "type": "unknown"
        }
       ],
       "conversionMethod": "pd.DataFrame",
       "ref": "c8f55002-7017-4d73-ba79-1c1c74212981",
       "rows": [
        [
         "0",
         "o_6464340367720",
         "2019-06-04",
         "987",
         "1977063117428",
         "2019-06",
         "2019-06"
        ],
        [
         "1",
         "o_3250639350268",
         "2019-07-09",
         "1757",
         "1977063117428",
         "2019-07",
         "2019-06"
        ],
        [
         "2",
         "o_1069773391530",
         "2019-07-21",
         "1380",
         "1977063117428",
         "2019-07",
         "2019-06"
        ],
        [
         "3",
         "o_8535010565482",
         "2019-08-11",
         "1150",
         "1977063117428",
         "2019-08",
         "2019-06"
        ],
        [
         "4",
         "o_0501192807113",
         "2019-04-12",
         "1117",
         "1411482247934",
         "2019-04",
         "2019-04"
        ]
       ],
       "shape": {
        "columns": 6,
        "rows": 5
       }
      },
      "text/html": [
       "<div>\n",
       "<style scoped>\n",
       "    .dataframe tbody tr th:only-of-type {\n",
       "        vertical-align: middle;\n",
       "    }\n",
       "\n",
       "    .dataframe tbody tr th {\n",
       "        vertical-align: top;\n",
       "    }\n",
       "\n",
       "    .dataframe thead th {\n",
       "        text-align: right;\n",
       "    }\n",
       "</style>\n",
       "<table border=\"1\" class=\"dataframe\">\n",
       "  <thead>\n",
       "    <tr style=\"text-align: right;\">\n",
       "      <th></th>\n",
       "      <th>oid</th>\n",
       "      <th>order_date</th>\n",
       "      <th>revenue</th>\n",
       "      <th>uid</th>\n",
       "      <th>order_month</th>\n",
       "      <th>first_order_month</th>\n",
       "    </tr>\n",
       "  </thead>\n",
       "  <tbody>\n",
       "    <tr>\n",
       "      <th>0</th>\n",
       "      <td>o_6464340367720</td>\n",
       "      <td>2019-06-04</td>\n",
       "      <td>987</td>\n",
       "      <td>1977063117428</td>\n",
       "      <td>2019-06</td>\n",
       "      <td>2019-06</td>\n",
       "    </tr>\n",
       "    <tr>\n",
       "      <th>1</th>\n",
       "      <td>o_3250639350268</td>\n",
       "      <td>2019-07-09</td>\n",
       "      <td>1757</td>\n",
       "      <td>1977063117428</td>\n",
       "      <td>2019-07</td>\n",
       "      <td>2019-06</td>\n",
       "    </tr>\n",
       "    <tr>\n",
       "      <th>2</th>\n",
       "      <td>o_1069773391530</td>\n",
       "      <td>2019-07-21</td>\n",
       "      <td>1380</td>\n",
       "      <td>1977063117428</td>\n",
       "      <td>2019-07</td>\n",
       "      <td>2019-06</td>\n",
       "    </tr>\n",
       "    <tr>\n",
       "      <th>3</th>\n",
       "      <td>o_8535010565482</td>\n",
       "      <td>2019-08-11</td>\n",
       "      <td>1150</td>\n",
       "      <td>1977063117428</td>\n",
       "      <td>2019-08</td>\n",
       "      <td>2019-06</td>\n",
       "    </tr>\n",
       "    <tr>\n",
       "      <th>4</th>\n",
       "      <td>o_0501192807113</td>\n",
       "      <td>2019-04-12</td>\n",
       "      <td>1117</td>\n",
       "      <td>1411482247934</td>\n",
       "      <td>2019-04</td>\n",
       "      <td>2019-04</td>\n",
       "    </tr>\n",
       "  </tbody>\n",
       "</table>\n",
       "</div>"
      ],
      "text/plain": [
       "               oid  order_date  revenue            uid order_month  \\\n",
       "0  o_6464340367720  2019-06-04      987  1977063117428     2019-06   \n",
       "1  o_3250639350268  2019-07-09     1757  1977063117428     2019-07   \n",
       "2  o_1069773391530  2019-07-21     1380  1977063117428     2019-07   \n",
       "3  o_8535010565482  2019-08-11     1150  1977063117428     2019-08   \n",
       "4  o_0501192807113  2019-04-12     1117  1411482247934     2019-04   \n",
       "\n",
       "  first_order_month  \n",
       "0           2019-06  \n",
       "1           2019-06  \n",
       "2           2019-06  \n",
       "3           2019-06  \n",
       "4           2019-04  "
      ]
     },
     "execution_count": 12,
     "metadata": {},
     "output_type": "execute_result"
    }
   ],
   "source": [
    "orders = orders.merge(first_orders, on='uid')\n",
    "orders.head()"
   ]
  },
  {
   "cell_type": "markdown",
   "id": "da4f715a",
   "metadata": {},
   "source": [
    "Дізнаємось скільки коштів нам принесла кожна когорта по місяцях. "
   ]
  },
  {
   "cell_type": "code",
   "execution_count": 13,
   "id": "ab18ffb1",
   "metadata": {},
   "outputs": [
    {
     "data": {
      "application/vnd.microsoft.datawrangler.viewer.v0+json": {
       "columns": [
        {
         "name": "('first_order_month', 'order_month')",
         "rawType": "object",
         "type": "unknown"
        },
        {
         "name": "revenue",
         "rawType": "int64",
         "type": "integer"
        }
       ],
       "conversionMethod": "pd.DataFrame",
       "ref": "f7aef914-e320-42f7-abfa-56180ff88c46",
       "rows": [
        [
         "(Period('2019-01', 'M'), Period('2019-01', 'M'))",
         "61650"
        ],
        [
         "(Period('2019-01', 'M'), Period('2019-02', 'M'))",
         "55981"
        ],
        [
         "(Period('2019-01', 'M'), Period('2019-03', 'M'))",
         "65240"
        ],
        [
         "(Period('2019-01', 'M'), Period('2019-04', 'M'))",
         "55709"
        ],
        [
         "(Period('2019-01', 'M'), Period('2019-05', 'M'))",
         "37410"
        ],
        [
         "(Period('2019-01', 'M'), Period('2019-06', 'M'))",
         "8085"
        ],
        [
         "(Period('2019-01', 'M'), Period('2019-07', 'M'))",
         "574"
        ],
        [
         "(Period('2019-02', 'M'), Period('2019-02', 'M'))",
         "167936"
        ],
        [
         "(Period('2019-02', 'M'), Period('2019-03', 'M'))",
         "147532"
        ],
        [
         "(Period('2019-02', 'M'), Period('2019-04', 'M'))",
         "159665"
        ],
        [
         "(Period('2019-02', 'M'), Period('2019-05', 'M'))",
         "134672"
        ],
        [
         "(Period('2019-02', 'M'), Period('2019-06', 'M'))",
         "78726"
        ],
        [
         "(Period('2019-02', 'M'), Period('2019-07', 'M'))",
         "26715"
        ],
        [
         "(Period('2019-02', 'M'), Period('2019-08', 'M'))",
         "5200"
        ],
        [
         "(Period('2019-03', 'M'), Period('2019-03', 'M'))",
         "284470"
        ],
        [
         "(Period('2019-03', 'M'), Period('2019-04', 'M'))",
         "224435"
        ],
        [
         "(Period('2019-03', 'M'), Period('2019-05', 'M'))",
         "249935"
        ],
        [
         "(Period('2019-03', 'M'), Period('2019-06', 'M'))",
         "193514"
        ],
        [
         "(Period('2019-03', 'M'), Period('2019-07', 'M'))",
         "112227"
        ],
        [
         "(Period('2019-03', 'M'), Period('2019-08', 'M'))",
         "40590"
        ],
        [
         "(Period('2019-03', 'M'), Period('2019-09', 'M'))",
         "1878"
        ],
        [
         "(Period('2019-04', 'M'), Period('2019-04', 'M'))",
         "247271"
        ],
        [
         "(Period('2019-04', 'M'), Period('2019-05', 'M'))",
         "227879"
        ],
        [
         "(Period('2019-04', 'M'), Period('2019-06', 'M'))",
         "197366"
        ],
        [
         "(Period('2019-04', 'M'), Period('2019-07', 'M'))",
         "180719"
        ],
        [
         "(Period('2019-04', 'M'), Period('2019-08', 'M'))",
         "85953"
        ],
        [
         "(Period('2019-04', 'M'), Period('2019-09', 'M'))",
         "8609"
        ],
        [
         "(Period('2019-05', 'M'), Period('2019-05', 'M'))",
         "244846"
        ],
        [
         "(Period('2019-05', 'M'), Period('2019-06', 'M'))",
         "230581"
        ],
        [
         "(Period('2019-05', 'M'), Period('2019-07', 'M'))",
         "204709"
        ],
        [
         "(Period('2019-05', 'M'), Period('2019-08', 'M'))",
         "118118"
        ],
        [
         "(Period('2019-05', 'M'), Period('2019-09', 'M'))",
         "14193"
        ],
        [
         "(Period('2019-06', 'M'), Period('2019-06', 'M'))",
         "342272"
        ],
        [
         "(Period('2019-06', 'M'), Period('2019-07', 'M'))",
         "272781"
        ],
        [
         "(Period('2019-06', 'M'), Period('2019-08', 'M'))",
         "203678"
        ],
        [
         "(Period('2019-06', 'M'), Period('2019-09', 'M'))",
         "29303"
        ],
        [
         "(Period('2019-07', 'M'), Period('2019-07', 'M'))",
         "311626"
        ],
        [
         "(Period('2019-07', 'M'), Period('2019-08', 'M'))",
         "299428"
        ],
        [
         "(Period('2019-07', 'M'), Period('2019-09', 'M'))",
         "70505"
        ],
        [
         "(Period('2019-08', 'M'), Period('2019-08', 'M'))",
         "388727"
        ],
        [
         "(Period('2019-08', 'M'), Period('2019-09', 'M'))",
         "77670"
        ],
        [
         "(Period('2019-09', 'M'), Period('2019-09', 'M'))",
         "63868"
        ]
       ],
       "shape": {
        "columns": 1,
        "rows": 42
       }
      },
      "text/html": [
       "<div>\n",
       "<style scoped>\n",
       "    .dataframe tbody tr th:only-of-type {\n",
       "        vertical-align: middle;\n",
       "    }\n",
       "\n",
       "    .dataframe tbody tr th {\n",
       "        vertical-align: top;\n",
       "    }\n",
       "\n",
       "    .dataframe thead th {\n",
       "        text-align: right;\n",
       "    }\n",
       "</style>\n",
       "<table border=\"1\" class=\"dataframe\">\n",
       "  <thead>\n",
       "    <tr style=\"text-align: right;\">\n",
       "      <th></th>\n",
       "      <th></th>\n",
       "      <th>revenue</th>\n",
       "    </tr>\n",
       "    <tr>\n",
       "      <th>first_order_month</th>\n",
       "      <th>order_month</th>\n",
       "      <th></th>\n",
       "    </tr>\n",
       "  </thead>\n",
       "  <tbody>\n",
       "    <tr>\n",
       "      <th rowspan=\"7\" valign=\"top\">2019-01</th>\n",
       "      <th>2019-01</th>\n",
       "      <td>61650</td>\n",
       "    </tr>\n",
       "    <tr>\n",
       "      <th>2019-02</th>\n",
       "      <td>55981</td>\n",
       "    </tr>\n",
       "    <tr>\n",
       "      <th>2019-03</th>\n",
       "      <td>65240</td>\n",
       "    </tr>\n",
       "    <tr>\n",
       "      <th>2019-04</th>\n",
       "      <td>55709</td>\n",
       "    </tr>\n",
       "    <tr>\n",
       "      <th>2019-05</th>\n",
       "      <td>37410</td>\n",
       "    </tr>\n",
       "    <tr>\n",
       "      <th>2019-06</th>\n",
       "      <td>8085</td>\n",
       "    </tr>\n",
       "    <tr>\n",
       "      <th>2019-07</th>\n",
       "      <td>574</td>\n",
       "    </tr>\n",
       "    <tr>\n",
       "      <th rowspan=\"7\" valign=\"top\">2019-02</th>\n",
       "      <th>2019-02</th>\n",
       "      <td>167936</td>\n",
       "    </tr>\n",
       "    <tr>\n",
       "      <th>2019-03</th>\n",
       "      <td>147532</td>\n",
       "    </tr>\n",
       "    <tr>\n",
       "      <th>2019-04</th>\n",
       "      <td>159665</td>\n",
       "    </tr>\n",
       "    <tr>\n",
       "      <th>2019-05</th>\n",
       "      <td>134672</td>\n",
       "    </tr>\n",
       "    <tr>\n",
       "      <th>2019-06</th>\n",
       "      <td>78726</td>\n",
       "    </tr>\n",
       "    <tr>\n",
       "      <th>2019-07</th>\n",
       "      <td>26715</td>\n",
       "    </tr>\n",
       "    <tr>\n",
       "      <th>2019-08</th>\n",
       "      <td>5200</td>\n",
       "    </tr>\n",
       "    <tr>\n",
       "      <th rowspan=\"7\" valign=\"top\">2019-03</th>\n",
       "      <th>2019-03</th>\n",
       "      <td>284470</td>\n",
       "    </tr>\n",
       "    <tr>\n",
       "      <th>2019-04</th>\n",
       "      <td>224435</td>\n",
       "    </tr>\n",
       "    <tr>\n",
       "      <th>2019-05</th>\n",
       "      <td>249935</td>\n",
       "    </tr>\n",
       "    <tr>\n",
       "      <th>2019-06</th>\n",
       "      <td>193514</td>\n",
       "    </tr>\n",
       "    <tr>\n",
       "      <th>2019-07</th>\n",
       "      <td>112227</td>\n",
       "    </tr>\n",
       "    <tr>\n",
       "      <th>2019-08</th>\n",
       "      <td>40590</td>\n",
       "    </tr>\n",
       "    <tr>\n",
       "      <th>2019-09</th>\n",
       "      <td>1878</td>\n",
       "    </tr>\n",
       "    <tr>\n",
       "      <th rowspan=\"6\" valign=\"top\">2019-04</th>\n",
       "      <th>2019-04</th>\n",
       "      <td>247271</td>\n",
       "    </tr>\n",
       "    <tr>\n",
       "      <th>2019-05</th>\n",
       "      <td>227879</td>\n",
       "    </tr>\n",
       "    <tr>\n",
       "      <th>2019-06</th>\n",
       "      <td>197366</td>\n",
       "    </tr>\n",
       "    <tr>\n",
       "      <th>2019-07</th>\n",
       "      <td>180719</td>\n",
       "    </tr>\n",
       "    <tr>\n",
       "      <th>2019-08</th>\n",
       "      <td>85953</td>\n",
       "    </tr>\n",
       "    <tr>\n",
       "      <th>2019-09</th>\n",
       "      <td>8609</td>\n",
       "    </tr>\n",
       "    <tr>\n",
       "      <th rowspan=\"5\" valign=\"top\">2019-05</th>\n",
       "      <th>2019-05</th>\n",
       "      <td>244846</td>\n",
       "    </tr>\n",
       "    <tr>\n",
       "      <th>2019-06</th>\n",
       "      <td>230581</td>\n",
       "    </tr>\n",
       "    <tr>\n",
       "      <th>2019-07</th>\n",
       "      <td>204709</td>\n",
       "    </tr>\n",
       "    <tr>\n",
       "      <th>2019-08</th>\n",
       "      <td>118118</td>\n",
       "    </tr>\n",
       "    <tr>\n",
       "      <th>2019-09</th>\n",
       "      <td>14193</td>\n",
       "    </tr>\n",
       "    <tr>\n",
       "      <th rowspan=\"4\" valign=\"top\">2019-06</th>\n",
       "      <th>2019-06</th>\n",
       "      <td>342272</td>\n",
       "    </tr>\n",
       "    <tr>\n",
       "      <th>2019-07</th>\n",
       "      <td>272781</td>\n",
       "    </tr>\n",
       "    <tr>\n",
       "      <th>2019-08</th>\n",
       "      <td>203678</td>\n",
       "    </tr>\n",
       "    <tr>\n",
       "      <th>2019-09</th>\n",
       "      <td>29303</td>\n",
       "    </tr>\n",
       "    <tr>\n",
       "      <th rowspan=\"3\" valign=\"top\">2019-07</th>\n",
       "      <th>2019-07</th>\n",
       "      <td>311626</td>\n",
       "    </tr>\n",
       "    <tr>\n",
       "      <th>2019-08</th>\n",
       "      <td>299428</td>\n",
       "    </tr>\n",
       "    <tr>\n",
       "      <th>2019-09</th>\n",
       "      <td>70505</td>\n",
       "    </tr>\n",
       "    <tr>\n",
       "      <th rowspan=\"2\" valign=\"top\">2019-08</th>\n",
       "      <th>2019-08</th>\n",
       "      <td>388727</td>\n",
       "    </tr>\n",
       "    <tr>\n",
       "      <th>2019-09</th>\n",
       "      <td>77670</td>\n",
       "    </tr>\n",
       "    <tr>\n",
       "      <th>2019-09</th>\n",
       "      <th>2019-09</th>\n",
       "      <td>63868</td>\n",
       "    </tr>\n",
       "  </tbody>\n",
       "</table>\n",
       "</div>"
      ],
      "text/plain": [
       "                               revenue\n",
       "first_order_month order_month         \n",
       "2019-01           2019-01        61650\n",
       "                  2019-02        55981\n",
       "                  2019-03        65240\n",
       "                  2019-04        55709\n",
       "                  2019-05        37410\n",
       "                  2019-06         8085\n",
       "                  2019-07          574\n",
       "2019-02           2019-02       167936\n",
       "                  2019-03       147532\n",
       "                  2019-04       159665\n",
       "                  2019-05       134672\n",
       "                  2019-06        78726\n",
       "                  2019-07        26715\n",
       "                  2019-08         5200\n",
       "2019-03           2019-03       284470\n",
       "                  2019-04       224435\n",
       "                  2019-05       249935\n",
       "                  2019-06       193514\n",
       "                  2019-07       112227\n",
       "                  2019-08        40590\n",
       "                  2019-09         1878\n",
       "2019-04           2019-04       247271\n",
       "                  2019-05       227879\n",
       "                  2019-06       197366\n",
       "                  2019-07       180719\n",
       "                  2019-08        85953\n",
       "                  2019-09         8609\n",
       "2019-05           2019-05       244846\n",
       "                  2019-06       230581\n",
       "                  2019-07       204709\n",
       "                  2019-08       118118\n",
       "                  2019-09        14193\n",
       "2019-06           2019-06       342272\n",
       "                  2019-07       272781\n",
       "                  2019-08       203678\n",
       "                  2019-09        29303\n",
       "2019-07           2019-07       311626\n",
       "                  2019-08       299428\n",
       "                  2019-09        70505\n",
       "2019-08           2019-08       388727\n",
       "                  2019-09        77670\n",
       "2019-09           2019-09        63868"
      ]
     },
     "execution_count": 13,
     "metadata": {},
     "output_type": "execute_result"
    }
   ],
   "source": [
    "orders.groupby(['first_order_month','order_month']).agg({'revenue': 'sum'})"
   ]
  },
  {
   "cell_type": "markdown",
   "id": "65144eb8",
   "metadata": {},
   "source": [
    "Скинемо індески і добавимо ще колонку з розміром когорти. "
   ]
  },
  {
   "cell_type": "code",
   "execution_count": 14,
   "id": "86832c72",
   "metadata": {},
   "outputs": [
    {
     "data": {
      "application/vnd.microsoft.datawrangler.viewer.v0+json": {
       "columns": [
        {
         "name": "index",
         "rawType": "int64",
         "type": "integer"
        },
        {
         "name": "first_order_month",
         "rawType": "period[M]",
         "type": "unknown"
        },
        {
         "name": "n_buyers",
         "rawType": "int64",
         "type": "integer"
        }
       ],
       "conversionMethod": "pd.DataFrame",
       "ref": "dd1d5bbb-987a-4d4c-8168-df7b144aeb50",
       "rows": [
        [
         "0",
         "2019-01",
         "46"
        ],
        [
         "1",
         "2019-02",
         "122"
        ],
        [
         "2",
         "2019-03",
         "182"
        ],
        [
         "3",
         "2019-04",
         "173"
        ],
        [
         "4",
         "2019-05",
         "182"
        ],
        [
         "5",
         "2019-06",
         "220"
        ],
        [
         "6",
         "2019-07",
         "233"
        ],
        [
         "7",
         "2019-08",
         "268"
        ],
        [
         "8",
         "2019-09",
         "67"
        ]
       ],
       "shape": {
        "columns": 2,
        "rows": 9
       }
      },
      "text/html": [
       "<div>\n",
       "<style scoped>\n",
       "    .dataframe tbody tr th:only-of-type {\n",
       "        vertical-align: middle;\n",
       "    }\n",
       "\n",
       "    .dataframe tbody tr th {\n",
       "        vertical-align: top;\n",
       "    }\n",
       "\n",
       "    .dataframe thead th {\n",
       "        text-align: right;\n",
       "    }\n",
       "</style>\n",
       "<table border=\"1\" class=\"dataframe\">\n",
       "  <thead>\n",
       "    <tr style=\"text-align: right;\">\n",
       "      <th></th>\n",
       "      <th>first_order_month</th>\n",
       "      <th>n_buyers</th>\n",
       "    </tr>\n",
       "  </thead>\n",
       "  <tbody>\n",
       "    <tr>\n",
       "      <th>0</th>\n",
       "      <td>2019-01</td>\n",
       "      <td>46</td>\n",
       "    </tr>\n",
       "    <tr>\n",
       "      <th>1</th>\n",
       "      <td>2019-02</td>\n",
       "      <td>122</td>\n",
       "    </tr>\n",
       "    <tr>\n",
       "      <th>2</th>\n",
       "      <td>2019-03</td>\n",
       "      <td>182</td>\n",
       "    </tr>\n",
       "    <tr>\n",
       "      <th>3</th>\n",
       "      <td>2019-04</td>\n",
       "      <td>173</td>\n",
       "    </tr>\n",
       "    <tr>\n",
       "      <th>4</th>\n",
       "      <td>2019-05</td>\n",
       "      <td>182</td>\n",
       "    </tr>\n",
       "    <tr>\n",
       "      <th>5</th>\n",
       "      <td>2019-06</td>\n",
       "      <td>220</td>\n",
       "    </tr>\n",
       "    <tr>\n",
       "      <th>6</th>\n",
       "      <td>2019-07</td>\n",
       "      <td>233</td>\n",
       "    </tr>\n",
       "    <tr>\n",
       "      <th>7</th>\n",
       "      <td>2019-08</td>\n",
       "      <td>268</td>\n",
       "    </tr>\n",
       "    <tr>\n",
       "      <th>8</th>\n",
       "      <td>2019-09</td>\n",
       "      <td>67</td>\n",
       "    </tr>\n",
       "  </tbody>\n",
       "</table>\n",
       "</div>"
      ],
      "text/plain": [
       "  first_order_month  n_buyers\n",
       "0           2019-01        46\n",
       "1           2019-02       122\n",
       "2           2019-03       182\n",
       "3           2019-04       173\n",
       "4           2019-05       182\n",
       "5           2019-06       220\n",
       "6           2019-07       233\n",
       "7           2019-08       268\n",
       "8           2019-09        67"
      ]
     },
     "execution_count": 14,
     "metadata": {},
     "output_type": "execute_result"
    }
   ],
   "source": [
    "cohort_sizes"
   ]
  },
  {
   "cell_type": "code",
   "execution_count": 15,
   "id": "7062a409",
   "metadata": {},
   "outputs": [
    {
     "data": {
      "application/vnd.microsoft.datawrangler.viewer.v0+json": {
       "columns": [
        {
         "name": "index",
         "rawType": "int64",
         "type": "integer"
        },
        {
         "name": "first_order_month",
         "rawType": "period[M]",
         "type": "unknown"
        },
        {
         "name": "order_month",
         "rawType": "period[M]",
         "type": "unknown"
        },
        {
         "name": "revenue",
         "rawType": "int64",
         "type": "integer"
        },
        {
         "name": "n_buyers",
         "rawType": "int64",
         "type": "integer"
        }
       ],
       "conversionMethod": "pd.DataFrame",
       "ref": "5e3fa189-1b50-440e-b5c8-7ca32fd5a95a",
       "rows": [
        [
         "37",
         "2019-07",
         "2019-08",
         "299428",
         "233"
        ],
        [
         "38",
         "2019-07",
         "2019-09",
         "70505",
         "233"
        ],
        [
         "39",
         "2019-08",
         "2019-08",
         "388727",
         "268"
        ],
        [
         "40",
         "2019-08",
         "2019-09",
         "77670",
         "268"
        ],
        [
         "41",
         "2019-09",
         "2019-09",
         "63868",
         "67"
        ]
       ],
       "shape": {
        "columns": 4,
        "rows": 5
       }
      },
      "text/html": [
       "<div>\n",
       "<style scoped>\n",
       "    .dataframe tbody tr th:only-of-type {\n",
       "        vertical-align: middle;\n",
       "    }\n",
       "\n",
       "    .dataframe tbody tr th {\n",
       "        vertical-align: top;\n",
       "    }\n",
       "\n",
       "    .dataframe thead th {\n",
       "        text-align: right;\n",
       "    }\n",
       "</style>\n",
       "<table border=\"1\" class=\"dataframe\">\n",
       "  <thead>\n",
       "    <tr style=\"text-align: right;\">\n",
       "      <th></th>\n",
       "      <th>first_order_month</th>\n",
       "      <th>order_month</th>\n",
       "      <th>revenue</th>\n",
       "      <th>n_buyers</th>\n",
       "    </tr>\n",
       "  </thead>\n",
       "  <tbody>\n",
       "    <tr>\n",
       "      <th>37</th>\n",
       "      <td>2019-07</td>\n",
       "      <td>2019-08</td>\n",
       "      <td>299428</td>\n",
       "      <td>233</td>\n",
       "    </tr>\n",
       "    <tr>\n",
       "      <th>38</th>\n",
       "      <td>2019-07</td>\n",
       "      <td>2019-09</td>\n",
       "      <td>70505</td>\n",
       "      <td>233</td>\n",
       "    </tr>\n",
       "    <tr>\n",
       "      <th>39</th>\n",
       "      <td>2019-08</td>\n",
       "      <td>2019-08</td>\n",
       "      <td>388727</td>\n",
       "      <td>268</td>\n",
       "    </tr>\n",
       "    <tr>\n",
       "      <th>40</th>\n",
       "      <td>2019-08</td>\n",
       "      <td>2019-09</td>\n",
       "      <td>77670</td>\n",
       "      <td>268</td>\n",
       "    </tr>\n",
       "    <tr>\n",
       "      <th>41</th>\n",
       "      <td>2019-09</td>\n",
       "      <td>2019-09</td>\n",
       "      <td>63868</td>\n",
       "      <td>67</td>\n",
       "    </tr>\n",
       "  </tbody>\n",
       "</table>\n",
       "</div>"
      ],
      "text/plain": [
       "   first_order_month order_month  revenue  n_buyers\n",
       "37           2019-07     2019-08   299428       233\n",
       "38           2019-07     2019-09    70505       233\n",
       "39           2019-08     2019-08   388727       268\n",
       "40           2019-08     2019-09    77670       268\n",
       "41           2019-09     2019-09    63868        67"
      ]
     },
     "execution_count": 15,
     "metadata": {},
     "output_type": "execute_result"
    }
   ],
   "source": [
    "cohorts = orders.groupby(['first_order_month','order_month']).agg({'revenue': 'sum'}).reset_index()\n",
    "cohorts = cohorts.merge(cohort_sizes, on='first_order_month')\n",
    "cohorts.tail(5)\n",
    "\n"
   ]
  },
  {
   "cell_type": "markdown",
   "id": "3e341196",
   "metadata": {},
   "source": [
    "Вирахуємо кількість місяців від першої покупки для кожної когорти. "
   ]
  },
  {
   "cell_type": "code",
   "execution_count": 16,
   "id": "9d583269",
   "metadata": {},
   "outputs": [
    {
     "data": {
      "application/vnd.microsoft.datawrangler.viewer.v0+json": {
       "columns": [
        {
         "name": "index",
         "rawType": "int64",
         "type": "integer"
        },
        {
         "name": "first_order_month",
         "rawType": "period[M]",
         "type": "unknown"
        },
        {
         "name": "order_month",
         "rawType": "period[M]",
         "type": "unknown"
        },
        {
         "name": "revenue",
         "rawType": "int64",
         "type": "integer"
        },
        {
         "name": "n_buyers",
         "rawType": "int64",
         "type": "integer"
        },
        {
         "name": "age",
         "rawType": "int64",
         "type": "integer"
        }
       ],
       "conversionMethod": "pd.DataFrame",
       "ref": "bb66242e-fb79-4ee7-836c-1ee6b472a423",
       "rows": [
        [
         "0",
         "2019-01",
         "2019-01",
         "61650",
         "46",
         "0"
        ],
        [
         "1",
         "2019-01",
         "2019-02",
         "55981",
         "46",
         "1"
        ],
        [
         "2",
         "2019-01",
         "2019-03",
         "65240",
         "46",
         "2"
        ],
        [
         "3",
         "2019-01",
         "2019-04",
         "55709",
         "46",
         "3"
        ],
        [
         "4",
         "2019-01",
         "2019-05",
         "37410",
         "46",
         "4"
        ],
        [
         "5",
         "2019-01",
         "2019-06",
         "8085",
         "46",
         "5"
        ],
        [
         "6",
         "2019-01",
         "2019-07",
         "574",
         "46",
         "6"
        ],
        [
         "7",
         "2019-02",
         "2019-02",
         "167936",
         "122",
         "0"
        ],
        [
         "8",
         "2019-02",
         "2019-03",
         "147532",
         "122",
         "1"
        ],
        [
         "9",
         "2019-02",
         "2019-04",
         "159665",
         "122",
         "2"
        ],
        [
         "10",
         "2019-02",
         "2019-05",
         "134672",
         "122",
         "3"
        ],
        [
         "11",
         "2019-02",
         "2019-06",
         "78726",
         "122",
         "4"
        ]
       ],
       "shape": {
        "columns": 5,
        "rows": 12
       }
      },
      "text/html": [
       "<div>\n",
       "<style scoped>\n",
       "    .dataframe tbody tr th:only-of-type {\n",
       "        vertical-align: middle;\n",
       "    }\n",
       "\n",
       "    .dataframe tbody tr th {\n",
       "        vertical-align: top;\n",
       "    }\n",
       "\n",
       "    .dataframe thead th {\n",
       "        text-align: right;\n",
       "    }\n",
       "</style>\n",
       "<table border=\"1\" class=\"dataframe\">\n",
       "  <thead>\n",
       "    <tr style=\"text-align: right;\">\n",
       "      <th></th>\n",
       "      <th>first_order_month</th>\n",
       "      <th>order_month</th>\n",
       "      <th>revenue</th>\n",
       "      <th>n_buyers</th>\n",
       "      <th>age</th>\n",
       "    </tr>\n",
       "  </thead>\n",
       "  <tbody>\n",
       "    <tr>\n",
       "      <th>0</th>\n",
       "      <td>2019-01</td>\n",
       "      <td>2019-01</td>\n",
       "      <td>61650</td>\n",
       "      <td>46</td>\n",
       "      <td>0</td>\n",
       "    </tr>\n",
       "    <tr>\n",
       "      <th>1</th>\n",
       "      <td>2019-01</td>\n",
       "      <td>2019-02</td>\n",
       "      <td>55981</td>\n",
       "      <td>46</td>\n",
       "      <td>1</td>\n",
       "    </tr>\n",
       "    <tr>\n",
       "      <th>2</th>\n",
       "      <td>2019-01</td>\n",
       "      <td>2019-03</td>\n",
       "      <td>65240</td>\n",
       "      <td>46</td>\n",
       "      <td>2</td>\n",
       "    </tr>\n",
       "    <tr>\n",
       "      <th>3</th>\n",
       "      <td>2019-01</td>\n",
       "      <td>2019-04</td>\n",
       "      <td>55709</td>\n",
       "      <td>46</td>\n",
       "      <td>3</td>\n",
       "    </tr>\n",
       "    <tr>\n",
       "      <th>4</th>\n",
       "      <td>2019-01</td>\n",
       "      <td>2019-05</td>\n",
       "      <td>37410</td>\n",
       "      <td>46</td>\n",
       "      <td>4</td>\n",
       "    </tr>\n",
       "    <tr>\n",
       "      <th>5</th>\n",
       "      <td>2019-01</td>\n",
       "      <td>2019-06</td>\n",
       "      <td>8085</td>\n",
       "      <td>46</td>\n",
       "      <td>5</td>\n",
       "    </tr>\n",
       "    <tr>\n",
       "      <th>6</th>\n",
       "      <td>2019-01</td>\n",
       "      <td>2019-07</td>\n",
       "      <td>574</td>\n",
       "      <td>46</td>\n",
       "      <td>6</td>\n",
       "    </tr>\n",
       "    <tr>\n",
       "      <th>7</th>\n",
       "      <td>2019-02</td>\n",
       "      <td>2019-02</td>\n",
       "      <td>167936</td>\n",
       "      <td>122</td>\n",
       "      <td>0</td>\n",
       "    </tr>\n",
       "    <tr>\n",
       "      <th>8</th>\n",
       "      <td>2019-02</td>\n",
       "      <td>2019-03</td>\n",
       "      <td>147532</td>\n",
       "      <td>122</td>\n",
       "      <td>1</td>\n",
       "    </tr>\n",
       "    <tr>\n",
       "      <th>9</th>\n",
       "      <td>2019-02</td>\n",
       "      <td>2019-04</td>\n",
       "      <td>159665</td>\n",
       "      <td>122</td>\n",
       "      <td>2</td>\n",
       "    </tr>\n",
       "    <tr>\n",
       "      <th>10</th>\n",
       "      <td>2019-02</td>\n",
       "      <td>2019-05</td>\n",
       "      <td>134672</td>\n",
       "      <td>122</td>\n",
       "      <td>3</td>\n",
       "    </tr>\n",
       "    <tr>\n",
       "      <th>11</th>\n",
       "      <td>2019-02</td>\n",
       "      <td>2019-06</td>\n",
       "      <td>78726</td>\n",
       "      <td>122</td>\n",
       "      <td>4</td>\n",
       "    </tr>\n",
       "  </tbody>\n",
       "</table>\n",
       "</div>"
      ],
      "text/plain": [
       "   first_order_month order_month  revenue  n_buyers  age\n",
       "0            2019-01     2019-01    61650        46    0\n",
       "1            2019-01     2019-02    55981        46    1\n",
       "2            2019-01     2019-03    65240        46    2\n",
       "3            2019-01     2019-04    55709        46    3\n",
       "4            2019-01     2019-05    37410        46    4\n",
       "5            2019-01     2019-06     8085        46    5\n",
       "6            2019-01     2019-07      574        46    6\n",
       "7            2019-02     2019-02   167936       122    0\n",
       "8            2019-02     2019-03   147532       122    1\n",
       "9            2019-02     2019-04   159665       122    2\n",
       "10           2019-02     2019-05   134672       122    3\n",
       "11           2019-02     2019-06    78726       122    4"
      ]
     },
     "execution_count": 16,
     "metadata": {},
     "output_type": "execute_result"
    }
   ],
   "source": [
    "cohorts['age'] = (cohorts['order_month'] - cohorts['first_order_month']).apply(lambda x: x.n)\n",
    "cohorts.head(12)"
   ]
  },
  {
   "cell_type": "markdown",
   "id": "3e5ae766",
   "metadata": {},
   "source": [
    "Добавимо змінну маржинальності, і порахуємо LTV по прибутку з кожної когорти на кожного клієнта. "
   ]
  },
  {
   "cell_type": "code",
   "execution_count": 17,
   "id": "c5623e6d",
   "metadata": {},
   "outputs": [
    {
     "data": {
      "application/vnd.microsoft.datawrangler.viewer.v0+json": {
       "columns": [
        {
         "name": "index",
         "rawType": "int64",
         "type": "integer"
        },
        {
         "name": "first_order_month",
         "rawType": "period[M]",
         "type": "unknown"
        },
        {
         "name": "order_month",
         "rawType": "period[M]",
         "type": "unknown"
        },
        {
         "name": "revenue",
         "rawType": "int64",
         "type": "integer"
        },
        {
         "name": "n_buyers",
         "rawType": "int64",
         "type": "integer"
        },
        {
         "name": "age",
         "rawType": "int64",
         "type": "integer"
        },
        {
         "name": "gp",
         "rawType": "float64",
         "type": "float"
        }
       ],
       "conversionMethod": "pd.DataFrame",
       "ref": "78dd03b1-8db0-4120-82d6-58a834d6bd9c",
       "rows": [
        [
         "0",
         "2019-01",
         "2019-01",
         "61650",
         "46",
         "0",
         "24660.0"
        ],
        [
         "1",
         "2019-01",
         "2019-02",
         "55981",
         "46",
         "1",
         "22392.4"
        ],
        [
         "2",
         "2019-01",
         "2019-03",
         "65240",
         "46",
         "2",
         "26096.0"
        ],
        [
         "3",
         "2019-01",
         "2019-04",
         "55709",
         "46",
         "3",
         "22283.600000000002"
        ],
        [
         "4",
         "2019-01",
         "2019-05",
         "37410",
         "46",
         "4",
         "14964.0"
        ]
       ],
       "shape": {
        "columns": 6,
        "rows": 5
       }
      },
      "text/html": [
       "<div>\n",
       "<style scoped>\n",
       "    .dataframe tbody tr th:only-of-type {\n",
       "        vertical-align: middle;\n",
       "    }\n",
       "\n",
       "    .dataframe tbody tr th {\n",
       "        vertical-align: top;\n",
       "    }\n",
       "\n",
       "    .dataframe thead th {\n",
       "        text-align: right;\n",
       "    }\n",
       "</style>\n",
       "<table border=\"1\" class=\"dataframe\">\n",
       "  <thead>\n",
       "    <tr style=\"text-align: right;\">\n",
       "      <th></th>\n",
       "      <th>first_order_month</th>\n",
       "      <th>order_month</th>\n",
       "      <th>revenue</th>\n",
       "      <th>n_buyers</th>\n",
       "      <th>age</th>\n",
       "      <th>gp</th>\n",
       "    </tr>\n",
       "  </thead>\n",
       "  <tbody>\n",
       "    <tr>\n",
       "      <th>0</th>\n",
       "      <td>2019-01</td>\n",
       "      <td>2019-01</td>\n",
       "      <td>61650</td>\n",
       "      <td>46</td>\n",
       "      <td>0</td>\n",
       "      <td>24660.0</td>\n",
       "    </tr>\n",
       "    <tr>\n",
       "      <th>1</th>\n",
       "      <td>2019-01</td>\n",
       "      <td>2019-02</td>\n",
       "      <td>55981</td>\n",
       "      <td>46</td>\n",
       "      <td>1</td>\n",
       "      <td>22392.4</td>\n",
       "    </tr>\n",
       "    <tr>\n",
       "      <th>2</th>\n",
       "      <td>2019-01</td>\n",
       "      <td>2019-03</td>\n",
       "      <td>65240</td>\n",
       "      <td>46</td>\n",
       "      <td>2</td>\n",
       "      <td>26096.0</td>\n",
       "    </tr>\n",
       "    <tr>\n",
       "      <th>3</th>\n",
       "      <td>2019-01</td>\n",
       "      <td>2019-04</td>\n",
       "      <td>55709</td>\n",
       "      <td>46</td>\n",
       "      <td>3</td>\n",
       "      <td>22283.6</td>\n",
       "    </tr>\n",
       "    <tr>\n",
       "      <th>4</th>\n",
       "      <td>2019-01</td>\n",
       "      <td>2019-05</td>\n",
       "      <td>37410</td>\n",
       "      <td>46</td>\n",
       "      <td>4</td>\n",
       "      <td>14964.0</td>\n",
       "    </tr>\n",
       "  </tbody>\n",
       "</table>\n",
       "</div>"
      ],
      "text/plain": [
       "  first_order_month order_month  revenue  n_buyers  age       gp\n",
       "0           2019-01     2019-01    61650        46    0  24660.0\n",
       "1           2019-01     2019-02    55981        46    1  22392.4\n",
       "2           2019-01     2019-03    65240        46    2  26096.0\n",
       "3           2019-01     2019-04    55709        46    3  22283.6\n",
       "4           2019-01     2019-05    37410        46    4  14964.0"
      ]
     },
     "execution_count": 17,
     "metadata": {},
     "output_type": "execute_result"
    }
   ],
   "source": [
    "margin  = 0.4\n",
    "\n",
    "cohorts['gp'] = cohorts['revenue'] * margin \n",
    "cohorts.head()"
   ]
  },
  {
   "cell_type": "code",
   "execution_count": 18,
   "id": "10049249",
   "metadata": {},
   "outputs": [
    {
     "data": {
      "application/vnd.microsoft.datawrangler.viewer.v0+json": {
       "columns": [
        {
         "name": "index",
         "rawType": "int64",
         "type": "integer"
        },
        {
         "name": "first_order_month",
         "rawType": "period[M]",
         "type": "unknown"
        },
        {
         "name": "order_month",
         "rawType": "period[M]",
         "type": "unknown"
        },
        {
         "name": "revenue",
         "rawType": "int64",
         "type": "integer"
        },
        {
         "name": "n_buyers",
         "rawType": "int64",
         "type": "integer"
        },
        {
         "name": "age",
         "rawType": "int64",
         "type": "integer"
        },
        {
         "name": "gp",
         "rawType": "float64",
         "type": "float"
        },
        {
         "name": "ltv",
         "rawType": "float64",
         "type": "float"
        }
       ],
       "conversionMethod": "pd.DataFrame",
       "ref": "f74877ca-d8ff-49fa-a92c-6efc52a78417",
       "rows": [
        [
         "0",
         "2019-01",
         "2019-01",
         "61650",
         "46",
         "0",
         "24660.0",
         "536.0869565217391"
        ],
        [
         "1",
         "2019-01",
         "2019-02",
         "55981",
         "46",
         "1",
         "22392.4",
         "486.7913043478261"
        ],
        [
         "2",
         "2019-01",
         "2019-03",
         "65240",
         "46",
         "2",
         "26096.0",
         "567.304347826087"
        ],
        [
         "3",
         "2019-01",
         "2019-04",
         "55709",
         "46",
         "3",
         "22283.600000000002",
         "484.4260869565218"
        ],
        [
         "4",
         "2019-01",
         "2019-05",
         "37410",
         "46",
         "4",
         "14964.0",
         "325.30434782608694"
        ],
        [
         "5",
         "2019-01",
         "2019-06",
         "8085",
         "46",
         "5",
         "3234.0",
         "70.30434782608695"
        ],
        [
         "6",
         "2019-01",
         "2019-07",
         "574",
         "46",
         "6",
         "229.60000000000002",
         "4.9913043478260875"
        ],
        [
         "7",
         "2019-02",
         "2019-02",
         "167936",
         "122",
         "0",
         "67174.40000000001",
         "550.6098360655739"
        ],
        [
         "8",
         "2019-02",
         "2019-03",
         "147532",
         "122",
         "1",
         "59012.8",
         "483.7114754098361"
        ],
        [
         "9",
         "2019-02",
         "2019-04",
         "159665",
         "122",
         "2",
         "63866.0",
         "523.4918032786885"
        ],
        [
         "10",
         "2019-02",
         "2019-05",
         "134672",
         "122",
         "3",
         "53868.8",
         "441.5475409836066"
        ],
        [
         "11",
         "2019-02",
         "2019-06",
         "78726",
         "122",
         "4",
         "31490.4",
         "258.11803278688524"
        ]
       ],
       "shape": {
        "columns": 7,
        "rows": 12
       }
      },
      "text/html": [
       "<div>\n",
       "<style scoped>\n",
       "    .dataframe tbody tr th:only-of-type {\n",
       "        vertical-align: middle;\n",
       "    }\n",
       "\n",
       "    .dataframe tbody tr th {\n",
       "        vertical-align: top;\n",
       "    }\n",
       "\n",
       "    .dataframe thead th {\n",
       "        text-align: right;\n",
       "    }\n",
       "</style>\n",
       "<table border=\"1\" class=\"dataframe\">\n",
       "  <thead>\n",
       "    <tr style=\"text-align: right;\">\n",
       "      <th></th>\n",
       "      <th>first_order_month</th>\n",
       "      <th>order_month</th>\n",
       "      <th>revenue</th>\n",
       "      <th>n_buyers</th>\n",
       "      <th>age</th>\n",
       "      <th>gp</th>\n",
       "      <th>ltv</th>\n",
       "    </tr>\n",
       "  </thead>\n",
       "  <tbody>\n",
       "    <tr>\n",
       "      <th>0</th>\n",
       "      <td>2019-01</td>\n",
       "      <td>2019-01</td>\n",
       "      <td>61650</td>\n",
       "      <td>46</td>\n",
       "      <td>0</td>\n",
       "      <td>24660.0</td>\n",
       "      <td>536.086957</td>\n",
       "    </tr>\n",
       "    <tr>\n",
       "      <th>1</th>\n",
       "      <td>2019-01</td>\n",
       "      <td>2019-02</td>\n",
       "      <td>55981</td>\n",
       "      <td>46</td>\n",
       "      <td>1</td>\n",
       "      <td>22392.4</td>\n",
       "      <td>486.791304</td>\n",
       "    </tr>\n",
       "    <tr>\n",
       "      <th>2</th>\n",
       "      <td>2019-01</td>\n",
       "      <td>2019-03</td>\n",
       "      <td>65240</td>\n",
       "      <td>46</td>\n",
       "      <td>2</td>\n",
       "      <td>26096.0</td>\n",
       "      <td>567.304348</td>\n",
       "    </tr>\n",
       "    <tr>\n",
       "      <th>3</th>\n",
       "      <td>2019-01</td>\n",
       "      <td>2019-04</td>\n",
       "      <td>55709</td>\n",
       "      <td>46</td>\n",
       "      <td>3</td>\n",
       "      <td>22283.6</td>\n",
       "      <td>484.426087</td>\n",
       "    </tr>\n",
       "    <tr>\n",
       "      <th>4</th>\n",
       "      <td>2019-01</td>\n",
       "      <td>2019-05</td>\n",
       "      <td>37410</td>\n",
       "      <td>46</td>\n",
       "      <td>4</td>\n",
       "      <td>14964.0</td>\n",
       "      <td>325.304348</td>\n",
       "    </tr>\n",
       "    <tr>\n",
       "      <th>5</th>\n",
       "      <td>2019-01</td>\n",
       "      <td>2019-06</td>\n",
       "      <td>8085</td>\n",
       "      <td>46</td>\n",
       "      <td>5</td>\n",
       "      <td>3234.0</td>\n",
       "      <td>70.304348</td>\n",
       "    </tr>\n",
       "    <tr>\n",
       "      <th>6</th>\n",
       "      <td>2019-01</td>\n",
       "      <td>2019-07</td>\n",
       "      <td>574</td>\n",
       "      <td>46</td>\n",
       "      <td>6</td>\n",
       "      <td>229.6</td>\n",
       "      <td>4.991304</td>\n",
       "    </tr>\n",
       "    <tr>\n",
       "      <th>7</th>\n",
       "      <td>2019-02</td>\n",
       "      <td>2019-02</td>\n",
       "      <td>167936</td>\n",
       "      <td>122</td>\n",
       "      <td>0</td>\n",
       "      <td>67174.4</td>\n",
       "      <td>550.609836</td>\n",
       "    </tr>\n",
       "    <tr>\n",
       "      <th>8</th>\n",
       "      <td>2019-02</td>\n",
       "      <td>2019-03</td>\n",
       "      <td>147532</td>\n",
       "      <td>122</td>\n",
       "      <td>1</td>\n",
       "      <td>59012.8</td>\n",
       "      <td>483.711475</td>\n",
       "    </tr>\n",
       "    <tr>\n",
       "      <th>9</th>\n",
       "      <td>2019-02</td>\n",
       "      <td>2019-04</td>\n",
       "      <td>159665</td>\n",
       "      <td>122</td>\n",
       "      <td>2</td>\n",
       "      <td>63866.0</td>\n",
       "      <td>523.491803</td>\n",
       "    </tr>\n",
       "    <tr>\n",
       "      <th>10</th>\n",
       "      <td>2019-02</td>\n",
       "      <td>2019-05</td>\n",
       "      <td>134672</td>\n",
       "      <td>122</td>\n",
       "      <td>3</td>\n",
       "      <td>53868.8</td>\n",
       "      <td>441.547541</td>\n",
       "    </tr>\n",
       "    <tr>\n",
       "      <th>11</th>\n",
       "      <td>2019-02</td>\n",
       "      <td>2019-06</td>\n",
       "      <td>78726</td>\n",
       "      <td>122</td>\n",
       "      <td>4</td>\n",
       "      <td>31490.4</td>\n",
       "      <td>258.118033</td>\n",
       "    </tr>\n",
       "  </tbody>\n",
       "</table>\n",
       "</div>"
      ],
      "text/plain": [
       "   first_order_month order_month  revenue  n_buyers  age       gp         ltv\n",
       "0            2019-01     2019-01    61650        46    0  24660.0  536.086957\n",
       "1            2019-01     2019-02    55981        46    1  22392.4  486.791304\n",
       "2            2019-01     2019-03    65240        46    2  26096.0  567.304348\n",
       "3            2019-01     2019-04    55709        46    3  22283.6  484.426087\n",
       "4            2019-01     2019-05    37410        46    4  14964.0  325.304348\n",
       "5            2019-01     2019-06     8085        46    5   3234.0   70.304348\n",
       "6            2019-01     2019-07      574        46    6    229.6    4.991304\n",
       "7            2019-02     2019-02   167936       122    0  67174.4  550.609836\n",
       "8            2019-02     2019-03   147532       122    1  59012.8  483.711475\n",
       "9            2019-02     2019-04   159665       122    2  63866.0  523.491803\n",
       "10           2019-02     2019-05   134672       122    3  53868.8  441.547541\n",
       "11           2019-02     2019-06    78726       122    4  31490.4  258.118033"
      ]
     },
     "execution_count": 18,
     "metadata": {},
     "output_type": "execute_result"
    }
   ],
   "source": [
    "cohorts['ltv'] = cohorts['gp']/cohorts['n_buyers'] \n",
    "cohorts.head(12)"
   ]
  },
  {
   "cell_type": "markdown",
   "id": "2262b553",
   "metadata": {},
   "source": [
    "Зробимо стандартну таблицю для когорт."
   ]
  },
  {
   "cell_type": "code",
   "execution_count": 38,
   "id": "8f32df56",
   "metadata": {},
   "outputs": [
    {
     "data": {
      "application/vnd.microsoft.datawrangler.viewer.v0+json": {
       "columns": [
        {
         "name": "first_order_month",
         "rawType": "period[M]",
         "type": "unknown"
        },
        {
         "name": "0",
         "rawType": "float64",
         "type": "float"
        },
        {
         "name": "1",
         "rawType": "object",
         "type": "unknown"
        },
        {
         "name": "2",
         "rawType": "object",
         "type": "unknown"
        },
        {
         "name": "3",
         "rawType": "object",
         "type": "unknown"
        },
        {
         "name": "4",
         "rawType": "object",
         "type": "unknown"
        },
        {
         "name": "5",
         "rawType": "object",
         "type": "unknown"
        },
        {
         "name": "6",
         "rawType": "object",
         "type": "unknown"
        }
       ],
       "conversionMethod": "pd.DataFrame",
       "ref": "5ca2569d-f50d-44ac-92e8-9f588c46314f",
       "rows": [
        [
         "2019-01",
         "536.09",
         "486.79",
         "567.3",
         "484.43",
         "325.3",
         "70.3",
         "4.99"
        ],
        [
         "2019-02",
         "550.61",
         "483.71",
         "523.49",
         "441.55",
         "258.12",
         "87.59",
         "17.05"
        ],
        [
         "2019-03",
         "625.21",
         "493.26",
         "549.31",
         "425.31",
         "246.65",
         "89.21",
         "4.13"
        ],
        [
         "2019-04",
         "571.72",
         "526.89",
         "456.34",
         "417.85",
         "198.74",
         "19.91",
         ""
        ],
        [
         "2019-05",
         "538.12",
         "506.77",
         "449.91",
         "259.6",
         "31.19",
         "",
         ""
        ],
        [
         "2019-06",
         "622.31",
         "495.97",
         "370.32",
         "53.28",
         "",
         "",
         ""
        ],
        [
         "2019-07",
         "534.98",
         "514.04",
         "121.04",
         "",
         "",
         "",
         ""
        ],
        [
         "2019-08",
         "580.19",
         "115.93",
         "",
         "",
         "",
         "",
         ""
        ],
        [
         "2019-09",
         "381.3",
         "",
         "",
         "",
         "",
         "",
         ""
        ]
       ],
       "shape": {
        "columns": 7,
        "rows": 9
       }
      },
      "text/html": [
       "<div>\n",
       "<style scoped>\n",
       "    .dataframe tbody tr th:only-of-type {\n",
       "        vertical-align: middle;\n",
       "    }\n",
       "\n",
       "    .dataframe tbody tr th {\n",
       "        vertical-align: top;\n",
       "    }\n",
       "\n",
       "    .dataframe thead th {\n",
       "        text-align: right;\n",
       "    }\n",
       "</style>\n",
       "<table border=\"1\" class=\"dataframe\">\n",
       "  <thead>\n",
       "    <tr style=\"text-align: right;\">\n",
       "      <th>age</th>\n",
       "      <th>0</th>\n",
       "      <th>1</th>\n",
       "      <th>2</th>\n",
       "      <th>3</th>\n",
       "      <th>4</th>\n",
       "      <th>5</th>\n",
       "      <th>6</th>\n",
       "    </tr>\n",
       "    <tr>\n",
       "      <th>first_order_month</th>\n",
       "      <th></th>\n",
       "      <th></th>\n",
       "      <th></th>\n",
       "      <th></th>\n",
       "      <th></th>\n",
       "      <th></th>\n",
       "      <th></th>\n",
       "    </tr>\n",
       "  </thead>\n",
       "  <tbody>\n",
       "    <tr>\n",
       "      <th>2019-01</th>\n",
       "      <td>536.09</td>\n",
       "      <td>486.79</td>\n",
       "      <td>567.3</td>\n",
       "      <td>484.43</td>\n",
       "      <td>325.3</td>\n",
       "      <td>70.3</td>\n",
       "      <td>4.99</td>\n",
       "    </tr>\n",
       "    <tr>\n",
       "      <th>2019-02</th>\n",
       "      <td>550.61</td>\n",
       "      <td>483.71</td>\n",
       "      <td>523.49</td>\n",
       "      <td>441.55</td>\n",
       "      <td>258.12</td>\n",
       "      <td>87.59</td>\n",
       "      <td>17.05</td>\n",
       "    </tr>\n",
       "    <tr>\n",
       "      <th>2019-03</th>\n",
       "      <td>625.21</td>\n",
       "      <td>493.26</td>\n",
       "      <td>549.31</td>\n",
       "      <td>425.31</td>\n",
       "      <td>246.65</td>\n",
       "      <td>89.21</td>\n",
       "      <td>4.13</td>\n",
       "    </tr>\n",
       "    <tr>\n",
       "      <th>2019-04</th>\n",
       "      <td>571.72</td>\n",
       "      <td>526.89</td>\n",
       "      <td>456.34</td>\n",
       "      <td>417.85</td>\n",
       "      <td>198.74</td>\n",
       "      <td>19.91</td>\n",
       "      <td></td>\n",
       "    </tr>\n",
       "    <tr>\n",
       "      <th>2019-05</th>\n",
       "      <td>538.12</td>\n",
       "      <td>506.77</td>\n",
       "      <td>449.91</td>\n",
       "      <td>259.6</td>\n",
       "      <td>31.19</td>\n",
       "      <td></td>\n",
       "      <td></td>\n",
       "    </tr>\n",
       "    <tr>\n",
       "      <th>2019-06</th>\n",
       "      <td>622.31</td>\n",
       "      <td>495.97</td>\n",
       "      <td>370.32</td>\n",
       "      <td>53.28</td>\n",
       "      <td></td>\n",
       "      <td></td>\n",
       "      <td></td>\n",
       "    </tr>\n",
       "    <tr>\n",
       "      <th>2019-07</th>\n",
       "      <td>534.98</td>\n",
       "      <td>514.04</td>\n",
       "      <td>121.04</td>\n",
       "      <td></td>\n",
       "      <td></td>\n",
       "      <td></td>\n",
       "      <td></td>\n",
       "    </tr>\n",
       "    <tr>\n",
       "      <th>2019-08</th>\n",
       "      <td>580.19</td>\n",
       "      <td>115.93</td>\n",
       "      <td></td>\n",
       "      <td></td>\n",
       "      <td></td>\n",
       "      <td></td>\n",
       "      <td></td>\n",
       "    </tr>\n",
       "    <tr>\n",
       "      <th>2019-09</th>\n",
       "      <td>381.30</td>\n",
       "      <td></td>\n",
       "      <td></td>\n",
       "      <td></td>\n",
       "      <td></td>\n",
       "      <td></td>\n",
       "      <td></td>\n",
       "    </tr>\n",
       "  </tbody>\n",
       "</table>\n",
       "</div>"
      ],
      "text/plain": [
       "age                     0       1       2       3       4      5      6\n",
       "first_order_month                                                      \n",
       "2019-01            536.09  486.79   567.3  484.43   325.3   70.3   4.99\n",
       "2019-02            550.61  483.71  523.49  441.55  258.12  87.59  17.05\n",
       "2019-03            625.21  493.26  549.31  425.31  246.65  89.21   4.13\n",
       "2019-04            571.72  526.89  456.34  417.85  198.74  19.91       \n",
       "2019-05            538.12  506.77  449.91   259.6   31.19              \n",
       "2019-06            622.31  495.97  370.32   53.28                      \n",
       "2019-07            534.98  514.04  121.04                              \n",
       "2019-08            580.19  115.93                                      \n",
       "2019-09            381.30                                              "
      ]
     },
     "execution_count": 38,
     "metadata": {},
     "output_type": "execute_result"
    }
   ],
   "source": [
    "cohorts_pivot = cohorts.pivot_table(\n",
    "    index='first_order_month', columns='age',values='ltv', aggfunc='mean'\n",
    "    ).round(2)\n",
    "cohorts_pivot.fillna('')"
   ]
  },
  {
   "cell_type": "code",
   "execution_count": 39,
   "id": "3fa416f6",
   "metadata": {},
   "outputs": [
    {
     "data": {
      "image/png": "[encoded data removed]",
      "text/plain": [
       "<Figure size 640x480 with 2 Axes>"
      ]
     },
     "metadata": {},
     "output_type": "display_data"
    }
   ],
   "source": [
    "\n",
    "sns.heatmap(cohorts_pivot, cmap='Greens', annot=True, fmt='.2f');"
   ]
  },
  {
   "cell_type": "markdown",
   "id": "82ed4e5d",
   "metadata": {},
   "source": [
    "Видно, що максимальний час оплати за наш продукт 7 місяців. Останні когорти менш активно купують на наступні місяці ніж перші когорти. Можливо інші канали залучення клієнтів були. Треба буде уточнити у маркетологів. "
   ]
  },
  {
   "cell_type": "markdown",
   "id": "78fc9587",
   "metadata": {},
   "source": [
    "Треба розрахувати ще ціну залучення клієнта CAC.\n",
    "Для цього добавимо до нашої таблиці дані з витратами. "
   ]
  },
  {
   "cell_type": "code",
   "execution_count": 40,
   "id": "a6ea8e92",
   "metadata": {},
   "outputs": [
    {
     "data": {
      "application/vnd.microsoft.datawrangler.viewer.v0+json": {
       "columns": [
        {
         "name": "index",
         "rawType": "int64",
         "type": "integer"
        },
        {
         "name": "date",
         "rawType": "object",
         "type": "string"
        },
        {
         "name": "costs",
         "rawType": "int64",
         "type": "integer"
        },
        {
         "name": "cost_month",
         "rawType": "period[M]",
         "type": "unknown"
        }
       ],
       "conversionMethod": "pd.DataFrame",
       "ref": "76ad2ba6-910b-461f-8b10-a7dbda3bbd89",
       "rows": [
        [
         "0",
         "2019-01-07",
         "3085",
         "2019-01"
        ],
        [
         "1",
         "2019-01-12",
         "5594",
         "2019-01"
        ],
        [
         "2",
         "2019-01-13",
         "8523",
         "2019-01"
        ],
        [
         "3",
         "2019-01-14",
         "10356",
         "2019-01"
        ],
        [
         "4",
         "2019-01-15",
         "7455",
         "2019-01"
        ]
       ],
       "shape": {
        "columns": 3,
        "rows": 5
       }
      },
      "text/html": [
       "<div>\n",
       "<style scoped>\n",
       "    .dataframe tbody tr th:only-of-type {\n",
       "        vertical-align: middle;\n",
       "    }\n",
       "\n",
       "    .dataframe tbody tr th {\n",
       "        vertical-align: top;\n",
       "    }\n",
       "\n",
       "    .dataframe thead th {\n",
       "        text-align: right;\n",
       "    }\n",
       "</style>\n",
       "<table border=\"1\" class=\"dataframe\">\n",
       "  <thead>\n",
       "    <tr style=\"text-align: right;\">\n",
       "      <th></th>\n",
       "      <th>date</th>\n",
       "      <th>costs</th>\n",
       "      <th>cost_month</th>\n",
       "    </tr>\n",
       "  </thead>\n",
       "  <tbody>\n",
       "    <tr>\n",
       "      <th>0</th>\n",
       "      <td>2019-01-07</td>\n",
       "      <td>3085</td>\n",
       "      <td>2019-01</td>\n",
       "    </tr>\n",
       "    <tr>\n",
       "      <th>1</th>\n",
       "      <td>2019-01-12</td>\n",
       "      <td>5594</td>\n",
       "      <td>2019-01</td>\n",
       "    </tr>\n",
       "    <tr>\n",
       "      <th>2</th>\n",
       "      <td>2019-01-13</td>\n",
       "      <td>8523</td>\n",
       "      <td>2019-01</td>\n",
       "    </tr>\n",
       "    <tr>\n",
       "      <th>3</th>\n",
       "      <td>2019-01-14</td>\n",
       "      <td>10356</td>\n",
       "      <td>2019-01</td>\n",
       "    </tr>\n",
       "    <tr>\n",
       "      <th>4</th>\n",
       "      <td>2019-01-15</td>\n",
       "      <td>7455</td>\n",
       "      <td>2019-01</td>\n",
       "    </tr>\n",
       "  </tbody>\n",
       "</table>\n",
       "</div>"
      ],
      "text/plain": [
       "         date  costs cost_month\n",
       "0  2019-01-07   3085    2019-01\n",
       "1  2019-01-12   5594    2019-01\n",
       "2  2019-01-13   8523    2019-01\n",
       "3  2019-01-14  10356    2019-01\n",
       "4  2019-01-15   7455    2019-01"
      ]
     },
     "execution_count": 40,
     "metadata": {},
     "output_type": "execute_result"
    }
   ],
   "source": [
    "costs.head()"
   ]
  },
  {
   "cell_type": "code",
   "execution_count": 41,
   "id": "0efbbba9",
   "metadata": {},
   "outputs": [
    {
     "data": {
      "application/vnd.microsoft.datawrangler.viewer.v0+json": {
       "columns": [
        {
         "name": "index",
         "rawType": "int64",
         "type": "integer"
        },
        {
         "name": "cost_month",
         "rawType": "period[M]",
         "type": "unknown"
        },
        {
         "name": "costs",
         "rawType": "int64",
         "type": "integer"
        }
       ],
       "conversionMethod": "pd.DataFrame",
       "ref": "24ab5442-de6a-43ce-a6ad-b9a6ca964687",
       "rows": [
        [
         "0",
         "2019-01",
         "131376"
        ],
        [
         "1",
         "2019-02",
         "365652"
        ],
        [
         "2",
         "2019-03",
         "574721"
        ],
        [
         "3",
         "2019-04",
         "496602"
        ],
        [
         "4",
         "2019-05",
         "536254"
        ],
        [
         "5",
         "2019-06",
         "660975"
        ],
        [
         "6",
         "2019-07",
         "706049"
        ],
        [
         "7",
         "2019-08",
         "796449"
        ],
        [
         "8",
         "2019-09",
         "207446"
        ]
       ],
       "shape": {
        "columns": 2,
        "rows": 9
       }
      },
      "text/html": [
       "<div>\n",
       "<style scoped>\n",
       "    .dataframe tbody tr th:only-of-type {\n",
       "        vertical-align: middle;\n",
       "    }\n",
       "\n",
       "    .dataframe tbody tr th {\n",
       "        vertical-align: top;\n",
       "    }\n",
       "\n",
       "    .dataframe thead th {\n",
       "        text-align: right;\n",
       "    }\n",
       "</style>\n",
       "<table border=\"1\" class=\"dataframe\">\n",
       "  <thead>\n",
       "    <tr style=\"text-align: right;\">\n",
       "      <th></th>\n",
       "      <th>cost_month</th>\n",
       "      <th>costs</th>\n",
       "    </tr>\n",
       "  </thead>\n",
       "  <tbody>\n",
       "    <tr>\n",
       "      <th>0</th>\n",
       "      <td>2019-01</td>\n",
       "      <td>131376</td>\n",
       "    </tr>\n",
       "    <tr>\n",
       "      <th>1</th>\n",
       "      <td>2019-02</td>\n",
       "      <td>365652</td>\n",
       "    </tr>\n",
       "    <tr>\n",
       "      <th>2</th>\n",
       "      <td>2019-03</td>\n",
       "      <td>574721</td>\n",
       "    </tr>\n",
       "    <tr>\n",
       "      <th>3</th>\n",
       "      <td>2019-04</td>\n",
       "      <td>496602</td>\n",
       "    </tr>\n",
       "    <tr>\n",
       "      <th>4</th>\n",
       "      <td>2019-05</td>\n",
       "      <td>536254</td>\n",
       "    </tr>\n",
       "    <tr>\n",
       "      <th>5</th>\n",
       "      <td>2019-06</td>\n",
       "      <td>660975</td>\n",
       "    </tr>\n",
       "    <tr>\n",
       "      <th>6</th>\n",
       "      <td>2019-07</td>\n",
       "      <td>706049</td>\n",
       "    </tr>\n",
       "    <tr>\n",
       "      <th>7</th>\n",
       "      <td>2019-08</td>\n",
       "      <td>796449</td>\n",
       "    </tr>\n",
       "    <tr>\n",
       "      <th>8</th>\n",
       "      <td>2019-09</td>\n",
       "      <td>207446</td>\n",
       "    </tr>\n",
       "  </tbody>\n",
       "</table>\n",
       "</div>"
      ],
      "text/plain": [
       "  cost_month   costs\n",
       "0    2019-01  131376\n",
       "1    2019-02  365652\n",
       "2    2019-03  574721\n",
       "3    2019-04  496602\n",
       "4    2019-05  536254\n",
       "5    2019-06  660975\n",
       "6    2019-07  706049\n",
       "7    2019-08  796449\n",
       "8    2019-09  207446"
      ]
     },
     "execution_count": 41,
     "metadata": {},
     "output_type": "execute_result"
    }
   ],
   "source": [
    "mountly_costs = costs.groupby('cost_month').agg({'costs':'sum'}).reset_index()\n",
    "mountly_costs"
   ]
  },
  {
   "cell_type": "code",
   "execution_count": 42,
   "id": "66c61355",
   "metadata": {},
   "outputs": [
    {
     "data": {
      "application/vnd.microsoft.datawrangler.viewer.v0+json": {
       "columns": [
        {
         "name": "index",
         "rawType": "int64",
         "type": "integer"
        },
        {
         "name": "first_order_month",
         "rawType": "period[M]",
         "type": "unknown"
        },
        {
         "name": "order_month",
         "rawType": "period[M]",
         "type": "unknown"
        },
        {
         "name": "revenue",
         "rawType": "int64",
         "type": "integer"
        },
        {
         "name": "n_buyers",
         "rawType": "int64",
         "type": "integer"
        },
        {
         "name": "age",
         "rawType": "int64",
         "type": "integer"
        },
        {
         "name": "gp",
         "rawType": "float64",
         "type": "float"
        },
        {
         "name": "ltv",
         "rawType": "float64",
         "type": "float"
        },
        {
         "name": "cost_month",
         "rawType": "period[M]",
         "type": "unknown"
        },
        {
         "name": "costs",
         "rawType": "int64",
         "type": "integer"
        }
       ],
       "conversionMethod": "pd.DataFrame",
       "ref": "c56ba3e3-0d27-4434-9bf2-10c7beb04138",
       "rows": [
        [
         "0",
         "2019-01",
         "2019-01",
         "61650",
         "46",
         "0",
         "24660.0",
         "536.0869565217391",
         "2019-01",
         "131376"
        ],
        [
         "1",
         "2019-01",
         "2019-02",
         "55981",
         "46",
         "1",
         "22392.4",
         "486.7913043478261",
         "2019-01",
         "131376"
        ],
        [
         "2",
         "2019-01",
         "2019-03",
         "65240",
         "46",
         "2",
         "26096.0",
         "567.304347826087",
         "2019-01",
         "131376"
        ],
        [
         "3",
         "2019-01",
         "2019-04",
         "55709",
         "46",
         "3",
         "22283.600000000002",
         "484.4260869565218",
         "2019-01",
         "131376"
        ],
        [
         "4",
         "2019-01",
         "2019-05",
         "37410",
         "46",
         "4",
         "14964.0",
         "325.30434782608694",
         "2019-01",
         "131376"
        ],
        [
         "5",
         "2019-01",
         "2019-06",
         "8085",
         "46",
         "5",
         "3234.0",
         "70.30434782608695",
         "2019-01",
         "131376"
        ],
        [
         "6",
         "2019-01",
         "2019-07",
         "574",
         "46",
         "6",
         "229.60000000000002",
         "4.9913043478260875",
         "2019-01",
         "131376"
        ],
        [
         "7",
         "2019-02",
         "2019-02",
         "167936",
         "122",
         "0",
         "67174.40000000001",
         "550.6098360655739",
         "2019-02",
         "365652"
        ],
        [
         "8",
         "2019-02",
         "2019-03",
         "147532",
         "122",
         "1",
         "59012.8",
         "483.7114754098361",
         "2019-02",
         "365652"
        ],
        [
         "9",
         "2019-02",
         "2019-04",
         "159665",
         "122",
         "2",
         "63866.0",
         "523.4918032786885",
         "2019-02",
         "365652"
        ]
       ],
       "shape": {
        "columns": 9,
        "rows": 10
       }
      },
      "text/html": [
       "<div>\n",
       "<style scoped>\n",
       "    .dataframe tbody tr th:only-of-type {\n",
       "        vertical-align: middle;\n",
       "    }\n",
       "\n",
       "    .dataframe tbody tr th {\n",
       "        vertical-align: top;\n",
       "    }\n",
       "\n",
       "    .dataframe thead th {\n",
       "        text-align: right;\n",
       "    }\n",
       "</style>\n",
       "<table border=\"1\" class=\"dataframe\">\n",
       "  <thead>\n",
       "    <tr style=\"text-align: right;\">\n",
       "      <th></th>\n",
       "      <th>first_order_month</th>\n",
       "      <th>order_month</th>\n",
       "      <th>revenue</th>\n",
       "      <th>n_buyers</th>\n",
       "      <th>age</th>\n",
       "      <th>gp</th>\n",
       "      <th>ltv</th>\n",
       "      <th>cost_month</th>\n",
       "      <th>costs</th>\n",
       "    </tr>\n",
       "  </thead>\n",
       "  <tbody>\n",
       "    <tr>\n",
       "      <th>0</th>\n",
       "      <td>2019-01</td>\n",
       "      <td>2019-01</td>\n",
       "      <td>61650</td>\n",
       "      <td>46</td>\n",
       "      <td>0</td>\n",
       "      <td>24660.0</td>\n",
       "      <td>536.086957</td>\n",
       "      <td>2019-01</td>\n",
       "      <td>131376</td>\n",
       "    </tr>\n",
       "    <tr>\n",
       "      <th>1</th>\n",
       "      <td>2019-01</td>\n",
       "      <td>2019-02</td>\n",
       "      <td>55981</td>\n",
       "      <td>46</td>\n",
       "      <td>1</td>\n",
       "      <td>22392.4</td>\n",
       "      <td>486.791304</td>\n",
       "      <td>2019-01</td>\n",
       "      <td>131376</td>\n",
       "    </tr>\n",
       "    <tr>\n",
       "      <th>2</th>\n",
       "      <td>2019-01</td>\n",
       "      <td>2019-03</td>\n",
       "      <td>65240</td>\n",
       "      <td>46</td>\n",
       "      <td>2</td>\n",
       "      <td>26096.0</td>\n",
       "      <td>567.304348</td>\n",
       "      <td>2019-01</td>\n",
       "      <td>131376</td>\n",
       "    </tr>\n",
       "    <tr>\n",
       "      <th>3</th>\n",
       "      <td>2019-01</td>\n",
       "      <td>2019-04</td>\n",
       "      <td>55709</td>\n",
       "      <td>46</td>\n",
       "      <td>3</td>\n",
       "      <td>22283.6</td>\n",
       "      <td>484.426087</td>\n",
       "      <td>2019-01</td>\n",
       "      <td>131376</td>\n",
       "    </tr>\n",
       "    <tr>\n",
       "      <th>4</th>\n",
       "      <td>2019-01</td>\n",
       "      <td>2019-05</td>\n",
       "      <td>37410</td>\n",
       "      <td>46</td>\n",
       "      <td>4</td>\n",
       "      <td>14964.0</td>\n",
       "      <td>325.304348</td>\n",
       "      <td>2019-01</td>\n",
       "      <td>131376</td>\n",
       "    </tr>\n",
       "    <tr>\n",
       "      <th>5</th>\n",
       "      <td>2019-01</td>\n",
       "      <td>2019-06</td>\n",
       "      <td>8085</td>\n",
       "      <td>46</td>\n",
       "      <td>5</td>\n",
       "      <td>3234.0</td>\n",
       "      <td>70.304348</td>\n",
       "      <td>2019-01</td>\n",
       "      <td>131376</td>\n",
       "    </tr>\n",
       "    <tr>\n",
       "      <th>6</th>\n",
       "      <td>2019-01</td>\n",
       "      <td>2019-07</td>\n",
       "      <td>574</td>\n",
       "      <td>46</td>\n",
       "      <td>6</td>\n",
       "      <td>229.6</td>\n",
       "      <td>4.991304</td>\n",
       "      <td>2019-01</td>\n",
       "      <td>131376</td>\n",
       "    </tr>\n",
       "    <tr>\n",
       "      <th>7</th>\n",
       "      <td>2019-02</td>\n",
       "      <td>2019-02</td>\n",
       "      <td>167936</td>\n",
       "      <td>122</td>\n",
       "      <td>0</td>\n",
       "      <td>67174.4</td>\n",
       "      <td>550.609836</td>\n",
       "      <td>2019-02</td>\n",
       "      <td>365652</td>\n",
       "    </tr>\n",
       "    <tr>\n",
       "      <th>8</th>\n",
       "      <td>2019-02</td>\n",
       "      <td>2019-03</td>\n",
       "      <td>147532</td>\n",
       "      <td>122</td>\n",
       "      <td>1</td>\n",
       "      <td>59012.8</td>\n",
       "      <td>483.711475</td>\n",
       "      <td>2019-02</td>\n",
       "      <td>365652</td>\n",
       "    </tr>\n",
       "    <tr>\n",
       "      <th>9</th>\n",
       "      <td>2019-02</td>\n",
       "      <td>2019-04</td>\n",
       "      <td>159665</td>\n",
       "      <td>122</td>\n",
       "      <td>2</td>\n",
       "      <td>63866.0</td>\n",
       "      <td>523.491803</td>\n",
       "      <td>2019-02</td>\n",
       "      <td>365652</td>\n",
       "    </tr>\n",
       "  </tbody>\n",
       "</table>\n",
       "</div>"
      ],
      "text/plain": [
       "  first_order_month order_month  revenue  n_buyers  age       gp         ltv  \\\n",
       "0           2019-01     2019-01    61650        46    0  24660.0  536.086957   \n",
       "1           2019-01     2019-02    55981        46    1  22392.4  486.791304   \n",
       "2           2019-01     2019-03    65240        46    2  26096.0  567.304348   \n",
       "3           2019-01     2019-04    55709        46    3  22283.6  484.426087   \n",
       "4           2019-01     2019-05    37410        46    4  14964.0  325.304348   \n",
       "5           2019-01     2019-06     8085        46    5   3234.0   70.304348   \n",
       "6           2019-01     2019-07      574        46    6    229.6    4.991304   \n",
       "7           2019-02     2019-02   167936       122    0  67174.4  550.609836   \n",
       "8           2019-02     2019-03   147532       122    1  59012.8  483.711475   \n",
       "9           2019-02     2019-04   159665       122    2  63866.0  523.491803   \n",
       "\n",
       "  cost_month   costs  \n",
       "0    2019-01  131376  \n",
       "1    2019-01  131376  \n",
       "2    2019-01  131376  \n",
       "3    2019-01  131376  \n",
       "4    2019-01  131376  \n",
       "5    2019-01  131376  \n",
       "6    2019-01  131376  \n",
       "7    2019-02  365652  \n",
       "8    2019-02  365652  \n",
       "9    2019-02  365652  "
      ]
     },
     "execution_count": 42,
     "metadata": {},
     "output_type": "execute_result"
    }
   ],
   "source": [
    "cohorts = cohorts.merge(mountly_costs, left_on='first_order_month', right_on='cost_month', how='left')\n",
    "\n",
    "cohorts.head(10)"
   ]
  },
  {
   "cell_type": "markdown",
   "id": "05ffae47",
   "metadata": {},
   "source": [
    "Розрахуємо ціну залучення одного клієнта"
   ]
  },
  {
   "cell_type": "code",
   "execution_count": 44,
   "id": "9b9c8590",
   "metadata": {},
   "outputs": [
    {
     "data": {
      "application/vnd.microsoft.datawrangler.viewer.v0+json": {
       "columns": [
        {
         "name": "index",
         "rawType": "int64",
         "type": "integer"
        },
        {
         "name": "first_order_month",
         "rawType": "period[M]",
         "type": "unknown"
        },
        {
         "name": "order_month",
         "rawType": "period[M]",
         "type": "unknown"
        },
        {
         "name": "revenue",
         "rawType": "int64",
         "type": "integer"
        },
        {
         "name": "n_buyers",
         "rawType": "int64",
         "type": "integer"
        },
        {
         "name": "age",
         "rawType": "int64",
         "type": "integer"
        },
        {
         "name": "gp",
         "rawType": "float64",
         "type": "float"
        },
        {
         "name": "ltv",
         "rawType": "float64",
         "type": "float"
        },
        {
         "name": "cost_month",
         "rawType": "period[M]",
         "type": "unknown"
        },
        {
         "name": "costs",
         "rawType": "int64",
         "type": "integer"
        },
        {
         "name": "cac",
         "rawType": "float64",
         "type": "float"
        }
       ],
       "conversionMethod": "pd.DataFrame",
       "ref": "27b16ab3-8d46-4e9e-8e50-b83cd5aee1d7",
       "rows": [
        [
         "0",
         "2019-01",
         "2019-01",
         "61650",
         "46",
         "0",
         "24660.0",
         "536.0869565217391",
         "2019-01",
         "131376",
         "2856.0"
        ],
        [
         "1",
         "2019-01",
         "2019-02",
         "55981",
         "46",
         "1",
         "22392.4",
         "486.7913043478261",
         "2019-01",
         "131376",
         "2856.0"
        ],
        [
         "2",
         "2019-01",
         "2019-03",
         "65240",
         "46",
         "2",
         "26096.0",
         "567.304347826087",
         "2019-01",
         "131376",
         "2856.0"
        ],
        [
         "3",
         "2019-01",
         "2019-04",
         "55709",
         "46",
         "3",
         "22283.600000000002",
         "484.4260869565218",
         "2019-01",
         "131376",
         "2856.0"
        ],
        [
         "4",
         "2019-01",
         "2019-05",
         "37410",
         "46",
         "4",
         "14964.0",
         "325.30434782608694",
         "2019-01",
         "131376",
         "2856.0"
        ],
        [
         "5",
         "2019-01",
         "2019-06",
         "8085",
         "46",
         "5",
         "3234.0",
         "70.30434782608695",
         "2019-01",
         "131376",
         "2856.0"
        ],
        [
         "6",
         "2019-01",
         "2019-07",
         "574",
         "46",
         "6",
         "229.60000000000002",
         "4.9913043478260875",
         "2019-01",
         "131376",
         "2856.0"
        ],
        [
         "7",
         "2019-02",
         "2019-02",
         "167936",
         "122",
         "0",
         "67174.40000000001",
         "550.6098360655739",
         "2019-02",
         "365652",
         "2997.1475409836066"
        ],
        [
         "8",
         "2019-02",
         "2019-03",
         "147532",
         "122",
         "1",
         "59012.8",
         "483.7114754098361",
         "2019-02",
         "365652",
         "2997.1475409836066"
        ],
        [
         "9",
         "2019-02",
         "2019-04",
         "159665",
         "122",
         "2",
         "63866.0",
         "523.4918032786885",
         "2019-02",
         "365652",
         "2997.1475409836066"
        ]
       ],
       "shape": {
        "columns": 10,
        "rows": 10
       }
      },
      "text/html": [
       "<div>\n",
       "<style scoped>\n",
       "    .dataframe tbody tr th:only-of-type {\n",
       "        vertical-align: middle;\n",
       "    }\n",
       "\n",
       "    .dataframe tbody tr th {\n",
       "        vertical-align: top;\n",
       "    }\n",
       "\n",
       "    .dataframe thead th {\n",
       "        text-align: right;\n",
       "    }\n",
       "</style>\n",
       "<table border=\"1\" class=\"dataframe\">\n",
       "  <thead>\n",
       "    <tr style=\"text-align: right;\">\n",
       "      <th></th>\n",
       "      <th>first_order_month</th>\n",
       "      <th>order_month</th>\n",
       "      <th>revenue</th>\n",
       "      <th>n_buyers</th>\n",
       "      <th>age</th>\n",
       "      <th>gp</th>\n",
       "      <th>ltv</th>\n",
       "      <th>cost_month</th>\n",
       "      <th>costs</th>\n",
       "      <th>cac</th>\n",
       "    </tr>\n",
       "  </thead>\n",
       "  <tbody>\n",
       "    <tr>\n",
       "      <th>0</th>\n",
       "      <td>2019-01</td>\n",
       "      <td>2019-01</td>\n",
       "      <td>61650</td>\n",
       "      <td>46</td>\n",
       "      <td>0</td>\n",
       "      <td>24660.0</td>\n",
       "      <td>536.086957</td>\n",
       "      <td>2019-01</td>\n",
       "      <td>131376</td>\n",
       "      <td>2856.000000</td>\n",
       "    </tr>\n",
       "    <tr>\n",
       "      <th>1</th>\n",
       "      <td>2019-01</td>\n",
       "      <td>2019-02</td>\n",
       "      <td>55981</td>\n",
       "      <td>46</td>\n",
       "      <td>1</td>\n",
       "      <td>22392.4</td>\n",
       "      <td>486.791304</td>\n",
       "      <td>2019-01</td>\n",
       "      <td>131376</td>\n",
       "      <td>2856.000000</td>\n",
       "    </tr>\n",
       "    <tr>\n",
       "      <th>2</th>\n",
       "      <td>2019-01</td>\n",
       "      <td>2019-03</td>\n",
       "      <td>65240</td>\n",
       "      <td>46</td>\n",
       "      <td>2</td>\n",
       "      <td>26096.0</td>\n",
       "      <td>567.304348</td>\n",
       "      <td>2019-01</td>\n",
       "      <td>131376</td>\n",
       "      <td>2856.000000</td>\n",
       "    </tr>\n",
       "    <tr>\n",
       "      <th>3</th>\n",
       "      <td>2019-01</td>\n",
       "      <td>2019-04</td>\n",
       "      <td>55709</td>\n",
       "      <td>46</td>\n",
       "      <td>3</td>\n",
       "      <td>22283.6</td>\n",
       "      <td>484.426087</td>\n",
       "      <td>2019-01</td>\n",
       "      <td>131376</td>\n",
       "      <td>2856.000000</td>\n",
       "    </tr>\n",
       "    <tr>\n",
       "      <th>4</th>\n",
       "      <td>2019-01</td>\n",
       "      <td>2019-05</td>\n",
       "      <td>37410</td>\n",
       "      <td>46</td>\n",
       "      <td>4</td>\n",
       "      <td>14964.0</td>\n",
       "      <td>325.304348</td>\n",
       "      <td>2019-01</td>\n",
       "      <td>131376</td>\n",
       "      <td>2856.000000</td>\n",
       "    </tr>\n",
       "    <tr>\n",
       "      <th>5</th>\n",
       "      <td>2019-01</td>\n",
       "      <td>2019-06</td>\n",
       "      <td>8085</td>\n",
       "      <td>46</td>\n",
       "      <td>5</td>\n",
       "      <td>3234.0</td>\n",
       "      <td>70.304348</td>\n",
       "      <td>2019-01</td>\n",
       "      <td>131376</td>\n",
       "      <td>2856.000000</td>\n",
       "    </tr>\n",
       "    <tr>\n",
       "      <th>6</th>\n",
       "      <td>2019-01</td>\n",
       "      <td>2019-07</td>\n",
       "      <td>574</td>\n",
       "      <td>46</td>\n",
       "      <td>6</td>\n",
       "      <td>229.6</td>\n",
       "      <td>4.991304</td>\n",
       "      <td>2019-01</td>\n",
       "      <td>131376</td>\n",
       "      <td>2856.000000</td>\n",
       "    </tr>\n",
       "    <tr>\n",
       "      <th>7</th>\n",
       "      <td>2019-02</td>\n",
       "      <td>2019-02</td>\n",
       "      <td>167936</td>\n",
       "      <td>122</td>\n",
       "      <td>0</td>\n",
       "      <td>67174.4</td>\n",
       "      <td>550.609836</td>\n",
       "      <td>2019-02</td>\n",
       "      <td>365652</td>\n",
       "      <td>2997.147541</td>\n",
       "    </tr>\n",
       "    <tr>\n",
       "      <th>8</th>\n",
       "      <td>2019-02</td>\n",
       "      <td>2019-03</td>\n",
       "      <td>147532</td>\n",
       "      <td>122</td>\n",
       "      <td>1</td>\n",
       "      <td>59012.8</td>\n",
       "      <td>483.711475</td>\n",
       "      <td>2019-02</td>\n",
       "      <td>365652</td>\n",
       "      <td>2997.147541</td>\n",
       "    </tr>\n",
       "    <tr>\n",
       "      <th>9</th>\n",
       "      <td>2019-02</td>\n",
       "      <td>2019-04</td>\n",
       "      <td>159665</td>\n",
       "      <td>122</td>\n",
       "      <td>2</td>\n",
       "      <td>63866.0</td>\n",
       "      <td>523.491803</td>\n",
       "      <td>2019-02</td>\n",
       "      <td>365652</td>\n",
       "      <td>2997.147541</td>\n",
       "    </tr>\n",
       "  </tbody>\n",
       "</table>\n",
       "</div>"
      ],
      "text/plain": [
       "  first_order_month order_month  revenue  n_buyers  age       gp         ltv  \\\n",
       "0           2019-01     2019-01    61650        46    0  24660.0  536.086957   \n",
       "1           2019-01     2019-02    55981        46    1  22392.4  486.791304   \n",
       "2           2019-01     2019-03    65240        46    2  26096.0  567.304348   \n",
       "3           2019-01     2019-04    55709        46    3  22283.6  484.426087   \n",
       "4           2019-01     2019-05    37410        46    4  14964.0  325.304348   \n",
       "5           2019-01     2019-06     8085        46    5   3234.0   70.304348   \n",
       "6           2019-01     2019-07      574        46    6    229.6    4.991304   \n",
       "7           2019-02     2019-02   167936       122    0  67174.4  550.609836   \n",
       "8           2019-02     2019-03   147532       122    1  59012.8  483.711475   \n",
       "9           2019-02     2019-04   159665       122    2  63866.0  523.491803   \n",
       "\n",
       "  cost_month   costs          cac  \n",
       "0    2019-01  131376  2856.000000  \n",
       "1    2019-01  131376  2856.000000  \n",
       "2    2019-01  131376  2856.000000  \n",
       "3    2019-01  131376  2856.000000  \n",
       "4    2019-01  131376  2856.000000  \n",
       "5    2019-01  131376  2856.000000  \n",
       "6    2019-01  131376  2856.000000  \n",
       "7    2019-02  365652  2997.147541  \n",
       "8    2019-02  365652  2997.147541  \n",
       "9    2019-02  365652  2997.147541  "
      ]
     },
     "execution_count": 44,
     "metadata": {},
     "output_type": "execute_result"
    }
   ],
   "source": [
    "cohorts['cac'] = cohorts['costs'] / cohorts['n_buyers']\n",
    "cohorts.head(10)"
   ]
  },
  {
   "cell_type": "markdown",
   "id": "f4d72219",
   "metadata": {},
   "source": [
    "Розрахуємо окупаємість інвестицій в рекламу ROMI"
   ]
  },
  {
   "cell_type": "code",
   "execution_count": 45,
   "id": "e65120ec",
   "metadata": {},
   "outputs": [
    {
     "data": {
      "application/vnd.microsoft.datawrangler.viewer.v0+json": {
       "columns": [
        {
         "name": "index",
         "rawType": "int64",
         "type": "integer"
        },
        {
         "name": "first_order_month",
         "rawType": "period[M]",
         "type": "unknown"
        },
        {
         "name": "order_month",
         "rawType": "period[M]",
         "type": "unknown"
        },
        {
         "name": "revenue",
         "rawType": "int64",
         "type": "integer"
        },
        {
         "name": "n_buyers",
         "rawType": "int64",
         "type": "integer"
        },
        {
         "name": "age",
         "rawType": "int64",
         "type": "integer"
        },
        {
         "name": "gp",
         "rawType": "float64",
         "type": "float"
        },
        {
         "name": "ltv",
         "rawType": "float64",
         "type": "float"
        },
        {
         "name": "cost_month",
         "rawType": "period[M]",
         "type": "unknown"
        },
        {
         "name": "costs",
         "rawType": "int64",
         "type": "integer"
        },
        {
         "name": "cac",
         "rawType": "float64",
         "type": "float"
        },
        {
         "name": "romi",
         "rawType": "float64",
         "type": "float"
        }
       ],
       "conversionMethod": "pd.DataFrame",
       "ref": "998c0fad-0d54-4747-a227-a6b4d229867c",
       "rows": [
        [
         "0",
         "2019-01",
         "2019-01",
         "61650",
         "46",
         "0",
         "24660.0",
         "536.0869565217391",
         "2019-01",
         "131376",
         "2856.0",
         "0.18770551698940446"
        ],
        [
         "1",
         "2019-01",
         "2019-02",
         "55981",
         "46",
         "1",
         "22392.4",
         "486.7913043478261",
         "2019-01",
         "131376",
         "2856.0",
         "0.17044513457556937"
        ],
        [
         "2",
         "2019-01",
         "2019-03",
         "65240",
         "46",
         "2",
         "26096.0",
         "567.304347826087",
         "2019-01",
         "131376",
         "2856.0",
         "0.19863597612958228"
        ],
        [
         "3",
         "2019-01",
         "2019-04",
         "55709",
         "46",
         "3",
         "22283.600000000002",
         "484.4260869565218",
         "2019-01",
         "131376",
         "2856.0",
         "0.1696169772256729"
        ],
        [
         "4",
         "2019-01",
         "2019-05",
         "37410",
         "46",
         "4",
         "14964.0",
         "325.30434782608694",
         "2019-01",
         "131376",
         "2856.0",
         "0.1139020825721593"
        ]
       ],
       "shape": {
        "columns": 11,
        "rows": 5
       }
      },
      "text/html": [
       "<div>\n",
       "<style scoped>\n",
       "    .dataframe tbody tr th:only-of-type {\n",
       "        vertical-align: middle;\n",
       "    }\n",
       "\n",
       "    .dataframe tbody tr th {\n",
       "        vertical-align: top;\n",
       "    }\n",
       "\n",
       "    .dataframe thead th {\n",
       "        text-align: right;\n",
       "    }\n",
       "</style>\n",
       "<table border=\"1\" class=\"dataframe\">\n",
       "  <thead>\n",
       "    <tr style=\"text-align: right;\">\n",
       "      <th></th>\n",
       "      <th>first_order_month</th>\n",
       "      <th>order_month</th>\n",
       "      <th>revenue</th>\n",
       "      <th>n_buyers</th>\n",
       "      <th>age</th>\n",
       "      <th>gp</th>\n",
       "      <th>ltv</th>\n",
       "      <th>cost_month</th>\n",
       "      <th>costs</th>\n",
       "      <th>cac</th>\n",
       "      <th>romi</th>\n",
       "    </tr>\n",
       "  </thead>\n",
       "  <tbody>\n",
       "    <tr>\n",
       "      <th>0</th>\n",
       "      <td>2019-01</td>\n",
       "      <td>2019-01</td>\n",
       "      <td>61650</td>\n",
       "      <td>46</td>\n",
       "      <td>0</td>\n",
       "      <td>24660.0</td>\n",
       "      <td>536.086957</td>\n",
       "      <td>2019-01</td>\n",
       "      <td>131376</td>\n",
       "      <td>2856.0</td>\n",
       "      <td>0.187706</td>\n",
       "    </tr>\n",
       "    <tr>\n",
       "      <th>1</th>\n",
       "      <td>2019-01</td>\n",
       "      <td>2019-02</td>\n",
       "      <td>55981</td>\n",
       "      <td>46</td>\n",
       "      <td>1</td>\n",
       "      <td>22392.4</td>\n",
       "      <td>486.791304</td>\n",
       "      <td>2019-01</td>\n",
       "      <td>131376</td>\n",
       "      <td>2856.0</td>\n",
       "      <td>0.170445</td>\n",
       "    </tr>\n",
       "    <tr>\n",
       "      <th>2</th>\n",
       "      <td>2019-01</td>\n",
       "      <td>2019-03</td>\n",
       "      <td>65240</td>\n",
       "      <td>46</td>\n",
       "      <td>2</td>\n",
       "      <td>26096.0</td>\n",
       "      <td>567.304348</td>\n",
       "      <td>2019-01</td>\n",
       "      <td>131376</td>\n",
       "      <td>2856.0</td>\n",
       "      <td>0.198636</td>\n",
       "    </tr>\n",
       "    <tr>\n",
       "      <th>3</th>\n",
       "      <td>2019-01</td>\n",
       "      <td>2019-04</td>\n",
       "      <td>55709</td>\n",
       "      <td>46</td>\n",
       "      <td>3</td>\n",
       "      <td>22283.6</td>\n",
       "      <td>484.426087</td>\n",
       "      <td>2019-01</td>\n",
       "      <td>131376</td>\n",
       "      <td>2856.0</td>\n",
       "      <td>0.169617</td>\n",
       "    </tr>\n",
       "    <tr>\n",
       "      <th>4</th>\n",
       "      <td>2019-01</td>\n",
       "      <td>2019-05</td>\n",
       "      <td>37410</td>\n",
       "      <td>46</td>\n",
       "      <td>4</td>\n",
       "      <td>14964.0</td>\n",
       "      <td>325.304348</td>\n",
       "      <td>2019-01</td>\n",
       "      <td>131376</td>\n",
       "      <td>2856.0</td>\n",
       "      <td>0.113902</td>\n",
       "    </tr>\n",
       "  </tbody>\n",
       "</table>\n",
       "</div>"
      ],
      "text/plain": [
       "  first_order_month order_month  revenue  n_buyers  age       gp         ltv  \\\n",
       "0           2019-01     2019-01    61650        46    0  24660.0  536.086957   \n",
       "1           2019-01     2019-02    55981        46    1  22392.4  486.791304   \n",
       "2           2019-01     2019-03    65240        46    2  26096.0  567.304348   \n",
       "3           2019-01     2019-04    55709        46    3  22283.6  484.426087   \n",
       "4           2019-01     2019-05    37410        46    4  14964.0  325.304348   \n",
       "\n",
       "  cost_month   costs     cac      romi  \n",
       "0    2019-01  131376  2856.0  0.187706  \n",
       "1    2019-01  131376  2856.0  0.170445  \n",
       "2    2019-01  131376  2856.0  0.198636  \n",
       "3    2019-01  131376  2856.0  0.169617  \n",
       "4    2019-01  131376  2856.0  0.113902  "
      ]
     },
     "execution_count": 45,
     "metadata": {},
     "output_type": "execute_result"
    }
   ],
   "source": [
    "cohorts['romi'] = cohorts['ltv']/cohorts['cac']\n",
    "cohorts.head()"
   ]
  },
  {
   "cell_type": "code",
   "execution_count": 47,
   "id": "d4795f90",
   "metadata": {},
   "outputs": [
    {
     "data": {
      "text/plain": [
       "0     0.187706\n",
       "7     0.183711\n",
       "14    0.197988\n",
       "21    0.199170\n",
       "27    0.182634\n",
       "32    0.207132\n",
       "36    0.176546\n",
       "39    0.195230\n",
       "41    0.123151\n",
       "Name: romi, dtype: float64"
      ]
     },
     "execution_count": 47,
     "metadata": {},
     "output_type": "execute_result"
    }
   ],
   "source": [
    "cohorts[cohorts['age'] == 0]['romi']"
   ]
  },
  {
   "cell_type": "markdown",
   "id": "161a618e",
   "metadata": {},
   "source": [
    "Бачимо, що ROMI нульового місяця у нас не більше 20%.\n",
    "Потрібно дізнатися на який місяць в нас почнуть окупатися клієнти. "
   ]
  },
  {
   "cell_type": "code",
   "execution_count": 52,
   "id": "0ec1d1b6",
   "metadata": {},
   "outputs": [
    {
     "data": {
      "application/vnd.microsoft.datawrangler.viewer.v0+json": {
       "columns": [
        {
         "name": "first_order_month",
         "rawType": "period[M]",
         "type": "unknown"
        },
        {
         "name": "0",
         "rawType": "float64",
         "type": "float"
        },
        {
         "name": "1",
         "rawType": "object",
         "type": "unknown"
        },
        {
         "name": "2",
         "rawType": "object",
         "type": "unknown"
        },
        {
         "name": "3",
         "rawType": "object",
         "type": "unknown"
        },
        {
         "name": "4",
         "rawType": "object",
         "type": "unknown"
        },
        {
         "name": "5",
         "rawType": "object",
         "type": "unknown"
        },
        {
         "name": "6",
         "rawType": "object",
         "type": "unknown"
        }
       ],
       "conversionMethod": "pd.DataFrame",
       "ref": "8c9bb89e-cfdf-424b-90a3-ea74201569f5",
       "rows": [
        [
         "2019-01",
         "0.19",
         "0.36",
         "0.56",
         "0.73",
         "0.84",
         "0.86",
         "0.87"
        ],
        [
         "2019-02",
         "0.18",
         "0.35",
         "0.52",
         "0.67",
         "0.75",
         "0.78",
         "0.79"
        ],
        [
         "2019-03",
         "0.2",
         "0.35",
         "0.53",
         "0.66",
         "0.74",
         "0.77",
         "0.77"
        ],
        [
         "2019-04",
         "0.2",
         "0.38",
         "0.54",
         "0.69",
         "0.76",
         "0.76",
         ""
        ],
        [
         "2019-05",
         "0.18",
         "0.35",
         "0.51",
         "0.6",
         "0.61",
         "",
         ""
        ],
        [
         "2019-06",
         "0.21",
         "0.37",
         "0.5",
         "0.51",
         "",
         "",
         ""
        ],
        [
         "2019-07",
         "0.18",
         "0.35",
         "0.39",
         "",
         "",
         "",
         ""
        ],
        [
         "2019-08",
         "0.2",
         "0.23",
         "",
         "",
         "",
         "",
         ""
        ],
        [
         "2019-09",
         "0.12",
         "",
         "",
         "",
         "",
         "",
         ""
        ]
       ],
       "shape": {
        "columns": 7,
        "rows": 9
       }
      },
      "text/html": [
       "<div>\n",
       "<style scoped>\n",
       "    .dataframe tbody tr th:only-of-type {\n",
       "        vertical-align: middle;\n",
       "    }\n",
       "\n",
       "    .dataframe tbody tr th {\n",
       "        vertical-align: top;\n",
       "    }\n",
       "\n",
       "    .dataframe thead th {\n",
       "        text-align: right;\n",
       "    }\n",
       "</style>\n",
       "<table border=\"1\" class=\"dataframe\">\n",
       "  <thead>\n",
       "    <tr style=\"text-align: right;\">\n",
       "      <th>age</th>\n",
       "      <th>0</th>\n",
       "      <th>1</th>\n",
       "      <th>2</th>\n",
       "      <th>3</th>\n",
       "      <th>4</th>\n",
       "      <th>5</th>\n",
       "      <th>6</th>\n",
       "    </tr>\n",
       "    <tr>\n",
       "      <th>first_order_month</th>\n",
       "      <th></th>\n",
       "      <th></th>\n",
       "      <th></th>\n",
       "      <th></th>\n",
       "      <th></th>\n",
       "      <th></th>\n",
       "      <th></th>\n",
       "    </tr>\n",
       "  </thead>\n",
       "  <tbody>\n",
       "    <tr>\n",
       "      <th>2019-01</th>\n",
       "      <td>0.19</td>\n",
       "      <td>0.36</td>\n",
       "      <td>0.56</td>\n",
       "      <td>0.73</td>\n",
       "      <td>0.84</td>\n",
       "      <td>0.86</td>\n",
       "      <td>0.87</td>\n",
       "    </tr>\n",
       "    <tr>\n",
       "      <th>2019-02</th>\n",
       "      <td>0.18</td>\n",
       "      <td>0.35</td>\n",
       "      <td>0.52</td>\n",
       "      <td>0.67</td>\n",
       "      <td>0.75</td>\n",
       "      <td>0.78</td>\n",
       "      <td>0.79</td>\n",
       "    </tr>\n",
       "    <tr>\n",
       "      <th>2019-03</th>\n",
       "      <td>0.20</td>\n",
       "      <td>0.35</td>\n",
       "      <td>0.53</td>\n",
       "      <td>0.66</td>\n",
       "      <td>0.74</td>\n",
       "      <td>0.77</td>\n",
       "      <td>0.77</td>\n",
       "    </tr>\n",
       "    <tr>\n",
       "      <th>2019-04</th>\n",
       "      <td>0.20</td>\n",
       "      <td>0.38</td>\n",
       "      <td>0.54</td>\n",
       "      <td>0.69</td>\n",
       "      <td>0.76</td>\n",
       "      <td>0.76</td>\n",
       "      <td></td>\n",
       "    </tr>\n",
       "    <tr>\n",
       "      <th>2019-05</th>\n",
       "      <td>0.18</td>\n",
       "      <td>0.35</td>\n",
       "      <td>0.51</td>\n",
       "      <td>0.6</td>\n",
       "      <td>0.61</td>\n",
       "      <td></td>\n",
       "      <td></td>\n",
       "    </tr>\n",
       "    <tr>\n",
       "      <th>2019-06</th>\n",
       "      <td>0.21</td>\n",
       "      <td>0.37</td>\n",
       "      <td>0.5</td>\n",
       "      <td>0.51</td>\n",
       "      <td></td>\n",
       "      <td></td>\n",
       "      <td></td>\n",
       "    </tr>\n",
       "    <tr>\n",
       "      <th>2019-07</th>\n",
       "      <td>0.18</td>\n",
       "      <td>0.35</td>\n",
       "      <td>0.39</td>\n",
       "      <td></td>\n",
       "      <td></td>\n",
       "      <td></td>\n",
       "      <td></td>\n",
       "    </tr>\n",
       "    <tr>\n",
       "      <th>2019-08</th>\n",
       "      <td>0.20</td>\n",
       "      <td>0.23</td>\n",
       "      <td></td>\n",
       "      <td></td>\n",
       "      <td></td>\n",
       "      <td></td>\n",
       "      <td></td>\n",
       "    </tr>\n",
       "    <tr>\n",
       "      <th>2019-09</th>\n",
       "      <td>0.12</td>\n",
       "      <td></td>\n",
       "      <td></td>\n",
       "      <td></td>\n",
       "      <td></td>\n",
       "      <td></td>\n",
       "      <td></td>\n",
       "    </tr>\n",
       "  </tbody>\n",
       "</table>\n",
       "</div>"
      ],
      "text/plain": [
       "age                   0     1     2     3     4     5     6\n",
       "first_order_month                                          \n",
       "2019-01            0.19  0.36  0.56  0.73  0.84  0.86  0.87\n",
       "2019-02            0.18  0.35  0.52  0.67  0.75  0.78  0.79\n",
       "2019-03            0.20  0.35  0.53  0.66  0.74  0.77  0.77\n",
       "2019-04            0.20  0.38  0.54  0.69  0.76  0.76      \n",
       "2019-05            0.18  0.35  0.51   0.6  0.61            \n",
       "2019-06            0.21  0.37   0.5  0.51                  \n",
       "2019-07            0.18  0.35  0.39                        \n",
       "2019-08            0.20  0.23                              \n",
       "2019-09            0.12                                    "
      ]
     },
     "execution_count": 52,
     "metadata": {},
     "output_type": "execute_result"
    }
   ],
   "source": [
    "romi_report = cohorts.pivot_table(\n",
    "    index='first_order_month', columns= 'age', values= 'romi', aggfunc='mean'\n",
    ").cumsum(axis=1).round(2)\n",
    "romi_report.fillna('')"
   ]
  },
  {
   "cell_type": "code",
   "execution_count": 91,
   "id": "917024bd",
   "metadata": {},
   "outputs": [
    {
     "data": {
      "image/png": "[encoded data removed]",
      "text/plain": [
       "<Figure size 640x480 with 2 Axes>"
      ]
     },
     "metadata": {},
     "output_type": "display_data"
    }
   ],
   "source": [
    "sns.heatmap(romi_report, cmap='Greens', annot=True,vmax=1)\n",
    "plt.title('Теплова карта ROMI')\n",
    "plt.show()"
   ]
  },
  {
   "cell_type": "markdown",
   "id": "70612512",
   "metadata": {},
   "source": [
    "Реклама не окуповується навіть за 7 місяців."
   ]
  },
  {
   "cell_type": "code",
   "execution_count": 55,
   "id": "99dffc81",
   "metadata": {},
   "outputs": [
    {
     "data": {
      "text/plain": [
       "age\n",
       "0    0.184444\n",
       "1    0.342500\n",
       "2    0.507143\n",
       "3    0.643333\n",
       "4    0.740000\n",
       "5    0.792500\n",
       "6    0.810000\n",
       "dtype: float64"
      ]
     },
     "execution_count": 55,
     "metadata": {},
     "output_type": "execute_result"
    }
   ],
   "source": [
    "romi_report.mean(axis=0)"
   ]
  },
  {
   "cell_type": "markdown",
   "id": "eb304788",
   "metadata": {},
   "source": [
    "В середньому на сьомоій місяць ми відбиваемо лише 81% вкладених коштів на залучення клієнта. А після сьмого місяця покупок по нашим даним немає. "
   ]
  },
  {
   "cell_type": "markdown",
   "id": "0412dee3",
   "metadata": {},
   "source": [
    "Розрахуємо максимальну ціну залучення клієнта для відділу маркетингу. Щоб він окупився за 6 місяців."
   ]
  },
  {
   "cell_type": "code",
   "execution_count": 58,
   "id": "52b41f31",
   "metadata": {},
   "outputs": [
    {
     "data": {
      "application/vnd.microsoft.datawrangler.viewer.v0+json": {
       "columns": [
        {
         "name": "first_order_month",
         "rawType": "period[M]",
         "type": "unknown"
        },
        {
         "name": "0",
         "rawType": "float64",
         "type": "float"
        },
        {
         "name": "1",
         "rawType": "float64",
         "type": "float"
        },
        {
         "name": "2",
         "rawType": "float64",
         "type": "float"
        },
        {
         "name": "3",
         "rawType": "float64",
         "type": "float"
        },
        {
         "name": "4",
         "rawType": "float64",
         "type": "float"
        },
        {
         "name": "5",
         "rawType": "float64",
         "type": "float"
        },
        {
         "name": "6",
         "rawType": "float64",
         "type": "float"
        }
       ],
       "conversionMethod": "pd.DataFrame",
       "ref": "ef9cd31f-6dee-4b1e-a897-2a30280db211",
       "rows": [
        [
         "2019-01",
         "536.09",
         "486.79",
         "567.3",
         "484.43",
         "325.3",
         "70.3",
         "4.99"
        ],
        [
         "2019-02",
         "550.61",
         "483.71",
         "523.49",
         "441.55",
         "258.12",
         "87.59",
         "17.05"
        ],
        [
         "2019-03",
         "625.21",
         "493.26",
         "549.31",
         "425.31",
         "246.65",
         "89.21",
         "4.13"
        ],
        [
         "2019-04",
         "571.72",
         "526.89",
         "456.34",
         "417.85",
         "198.74",
         "19.91",
         null
        ],
        [
         "2019-05",
         "538.12",
         "506.77",
         "449.91",
         "259.6",
         "31.19",
         null,
         null
        ],
        [
         "2019-06",
         "622.31",
         "495.97",
         "370.32",
         "53.28",
         null,
         null,
         null
        ],
        [
         "2019-07",
         "534.98",
         "514.04",
         "121.04",
         null,
         null,
         null,
         null
        ],
        [
         "2019-08",
         "580.19",
         "115.93",
         null,
         null,
         null,
         null,
         null
        ],
        [
         "2019-09",
         "381.3",
         null,
         null,
         null,
         null,
         null,
         null
        ]
       ],
       "shape": {
        "columns": 7,
        "rows": 9
       }
      },
      "text/html": [
       "<div>\n",
       "<style scoped>\n",
       "    .dataframe tbody tr th:only-of-type {\n",
       "        vertical-align: middle;\n",
       "    }\n",
       "\n",
       "    .dataframe tbody tr th {\n",
       "        vertical-align: top;\n",
       "    }\n",
       "\n",
       "    .dataframe thead th {\n",
       "        text-align: right;\n",
       "    }\n",
       "</style>\n",
       "<table border=\"1\" class=\"dataframe\">\n",
       "  <thead>\n",
       "    <tr style=\"text-align: right;\">\n",
       "      <th>age</th>\n",
       "      <th>0</th>\n",
       "      <th>1</th>\n",
       "      <th>2</th>\n",
       "      <th>3</th>\n",
       "      <th>4</th>\n",
       "      <th>5</th>\n",
       "      <th>6</th>\n",
       "    </tr>\n",
       "    <tr>\n",
       "      <th>first_order_month</th>\n",
       "      <th></th>\n",
       "      <th></th>\n",
       "      <th></th>\n",
       "      <th></th>\n",
       "      <th></th>\n",
       "      <th></th>\n",
       "      <th></th>\n",
       "    </tr>\n",
       "  </thead>\n",
       "  <tbody>\n",
       "    <tr>\n",
       "      <th>2019-01</th>\n",
       "      <td>536.09</td>\n",
       "      <td>486.79</td>\n",
       "      <td>567.30</td>\n",
       "      <td>484.43</td>\n",
       "      <td>325.30</td>\n",
       "      <td>70.30</td>\n",
       "      <td>4.99</td>\n",
       "    </tr>\n",
       "    <tr>\n",
       "      <th>2019-02</th>\n",
       "      <td>550.61</td>\n",
       "      <td>483.71</td>\n",
       "      <td>523.49</td>\n",
       "      <td>441.55</td>\n",
       "      <td>258.12</td>\n",
       "      <td>87.59</td>\n",
       "      <td>17.05</td>\n",
       "    </tr>\n",
       "    <tr>\n",
       "      <th>2019-03</th>\n",
       "      <td>625.21</td>\n",
       "      <td>493.26</td>\n",
       "      <td>549.31</td>\n",
       "      <td>425.31</td>\n",
       "      <td>246.65</td>\n",
       "      <td>89.21</td>\n",
       "      <td>4.13</td>\n",
       "    </tr>\n",
       "    <tr>\n",
       "      <th>2019-04</th>\n",
       "      <td>571.72</td>\n",
       "      <td>526.89</td>\n",
       "      <td>456.34</td>\n",
       "      <td>417.85</td>\n",
       "      <td>198.74</td>\n",
       "      <td>19.91</td>\n",
       "      <td>NaN</td>\n",
       "    </tr>\n",
       "    <tr>\n",
       "      <th>2019-05</th>\n",
       "      <td>538.12</td>\n",
       "      <td>506.77</td>\n",
       "      <td>449.91</td>\n",
       "      <td>259.60</td>\n",
       "      <td>31.19</td>\n",
       "      <td>NaN</td>\n",
       "      <td>NaN</td>\n",
       "    </tr>\n",
       "    <tr>\n",
       "      <th>2019-06</th>\n",
       "      <td>622.31</td>\n",
       "      <td>495.97</td>\n",
       "      <td>370.32</td>\n",
       "      <td>53.28</td>\n",
       "      <td>NaN</td>\n",
       "      <td>NaN</td>\n",
       "      <td>NaN</td>\n",
       "    </tr>\n",
       "    <tr>\n",
       "      <th>2019-07</th>\n",
       "      <td>534.98</td>\n",
       "      <td>514.04</td>\n",
       "      <td>121.04</td>\n",
       "      <td>NaN</td>\n",
       "      <td>NaN</td>\n",
       "      <td>NaN</td>\n",
       "      <td>NaN</td>\n",
       "    </tr>\n",
       "    <tr>\n",
       "      <th>2019-08</th>\n",
       "      <td>580.19</td>\n",
       "      <td>115.93</td>\n",
       "      <td>NaN</td>\n",
       "      <td>NaN</td>\n",
       "      <td>NaN</td>\n",
       "      <td>NaN</td>\n",
       "      <td>NaN</td>\n",
       "    </tr>\n",
       "    <tr>\n",
       "      <th>2019-09</th>\n",
       "      <td>381.30</td>\n",
       "      <td>NaN</td>\n",
       "      <td>NaN</td>\n",
       "      <td>NaN</td>\n",
       "      <td>NaN</td>\n",
       "      <td>NaN</td>\n",
       "      <td>NaN</td>\n",
       "    </tr>\n",
       "  </tbody>\n",
       "</table>\n",
       "</div>"
      ],
      "text/plain": [
       "age                     0       1       2       3       4      5      6\n",
       "first_order_month                                                      \n",
       "2019-01            536.09  486.79  567.30  484.43  325.30  70.30   4.99\n",
       "2019-02            550.61  483.71  523.49  441.55  258.12  87.59  17.05\n",
       "2019-03            625.21  493.26  549.31  425.31  246.65  89.21   4.13\n",
       "2019-04            571.72  526.89  456.34  417.85  198.74  19.91    NaN\n",
       "2019-05            538.12  506.77  449.91  259.60   31.19    NaN    NaN\n",
       "2019-06            622.31  495.97  370.32   53.28     NaN    NaN    NaN\n",
       "2019-07            534.98  514.04  121.04     NaN     NaN    NaN    NaN\n",
       "2019-08            580.19  115.93     NaN     NaN     NaN    NaN    NaN\n",
       "2019-09            381.30     NaN     NaN     NaN     NaN    NaN    NaN"
      ]
     },
     "execution_count": 58,
     "metadata": {},
     "output_type": "execute_result"
    }
   ],
   "source": [
    "cohorts_pivot"
   ]
  },
  {
   "cell_type": "code",
   "execution_count": null,
   "id": "feece4ce",
   "metadata": {},
   "outputs": [
    {
     "name": "stdout",
     "output_type": "stream",
     "text": [
      "\u001b[31m------------------------------------------\u001b[0m\n",
      "\u001b[1m\u001b[32mМаксимальний CAC на 6 місяців: 2358.92 грн\u001b[0m\n",
      "\u001b[31m------------------------------------------\u001b[0m\n"
     ]
    }
   ],
   "source": [
    " \n",
    "max_cac = cohorts_pivot.cumsum(axis=1).mean(axis=0)[5].round(2)\n",
    "\n",
    "cprint('------------------------------------------', 'red')\n",
    "cprint(f'Максимальний CAC на 6 місяців: {max_cac} грн', 'green', attrs=['bold'])\n",
    "cprint('------------------------------------------', 'red')"
   ]
  },
  {
   "attachments": {
    "image-3.png": {
     "image/png": "[encoded data removed]"
    },
    "image.png": {
     "image/png": "[encoded data removed]"
    }
   },
   "cell_type": "markdown",
   "id": "75c0cc48",
   "metadata": {},
   "source": [
    "# Висновок\n",
    "\n",
    "Незважаючи та те, що з першого погляду справи в нашій компанії ніби йдуть добре по графіку з витратами та виручкою. Я можу говорити впевнено, що в перерахунку на чистий прибуток ми працюємо в мінус і нам потрібно шукати інші канали залучення клієнтів або оптимізувати бізнес модель для підвищення нашої маржинальності. При теперешній бізнес моделі ми не маємо перевищувати САС в 2358 грн. \n",
    "\n",
    "![image.png](attachment:image.png)\n",
    "\n",
    "І ще я б звернув увагу на когорти які прийшли в останні місяці вони приносять ще меньше прибутку ніж перші когорти.\n",
    "\n",
    "![image-3.png](attachment:image-3.png)"
   ]
  }
 ],
 "metadata": {
  "kernelspec": {
   "display_name": "Python 3",
   "language": "python",
   "name": "python3"
  },
  "language_info": {
   "codemirror_mode": {
    "name": "ipython",
    "version": 3
   },
   "file_extension": ".py",
   "mimetype": "text/x-python",
   "name": "python",
   "nbconvert_exporter": "python",
   "pygments_lexer": "ipython3",
   "version": "3.12.3"
  }
 },
 "nbformat": 4,
 "nbformat_minor": 5
}
